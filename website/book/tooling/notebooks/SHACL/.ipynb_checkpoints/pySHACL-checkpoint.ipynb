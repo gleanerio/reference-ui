{
 "cells": [
  {
   "cell_type": "markdown",
   "metadata": {
    "id": "UXcFWGxldGeZ"
   },
   "source": [
    "# pySHACL testing\n",
    "\n",
    "Ocean Info Hub SHACL validation on S3(minio) objects\n",
    "\n",
    "## Flow\n",
    "\n",
    "* get an object (use the dask notebook)\n",
    "* process the object against OIH SHACL shapes\n"
   ]
  },
  {
   "cell_type": "code",
   "execution_count": 1,
   "metadata": {
    "id": "YlCC5SaZc_Ms"
   },
   "outputs": [],
   "source": [
    "%%capture\n",
    "!pip install pyshacl\n",
    "!pip install 'PyLD>=2.0.3'\n",
    "!pip install flatten_json\n",
    "!pip install 'fsspec>=0.3.3'\n",
    "!pip install s3fs\n",
    "!pip install boto3"
   ]
  },
  {
   "cell_type": "code",
   "execution_count": 2,
   "metadata": {
    "id": "xEVegjXcca5I"
   },
   "outputs": [],
   "source": [
    "def label_status (row):\n",
    "  result = row['http://www.w3.org/ns/shacl#resultSeverity']\n",
    "  if result == \"nan\":\n",
    "    return \"NA\" \n",
    "  elif \"Warning\" in result:\n",
    "    return \"Warning\"\n",
    "  elif \"Violation\" in result:\n",
    "    return \"Violation\"  \n",
    "  else:\n",
    "    return result\n",
    "\n",
    "def source_shape (row):\n",
    "  result = row['http://www.w3.org/ns/shacl#sourceShape']\n",
    "  if type(result) is list: \n",
    "    return result[0]['@id']\n",
    "  else:\n",
    "    return \"NA\"\n"
   ]
  },
  {
   "cell_type": "markdown",
   "metadata": {
    "id": "27XGS8Mk4Bm_"
   },
   "source": [
    "## Gleaner Data\n",
    "\n",
    "First lets load up some of the data Gleaner has collected.  This is just simple data graph objects and not any graphs or other processed products from Gleaner. "
   ]
  },
  {
   "cell_type": "code",
   "execution_count": 3,
   "metadata": {
    "id": "_tZgszLR4YSm"
   },
   "outputs": [],
   "source": [
    "# Set up our S3FileSystem object\n",
    "import s3fs \n",
    "\n",
    "oss = s3fs.S3FileSystem(\n",
    "      anon=True,\n",
    "      key=\"\",\n",
    "      secret=\"\",\n",
    "      client_kwargs = {\"endpoint_url\":\"https://oss.collaborium.io\"}\n",
    "   )"
   ]
  },
  {
   "cell_type": "code",
   "execution_count": 5,
   "metadata": {
    "colab": {
     "base_uri": "https://localhost:8080/",
     "height": 170
    },
    "id": "jta0pzeOKbG0",
    "outputId": "64a578fa-b037-4dfc-933f-90214a9e5bce"
   },
   "outputs": [
    {
     "name": "stdout",
     "output_type": "stream",
     "text": [
      "indexing gleaner/summoned/oceanexperts\n",
      "480\n"
     ]
    }
   ],
   "source": [
    "# Create the Dask tasks..   created..  not run..  \n",
    "import json\n",
    "import dask, boto3\n",
    "import dask.dataframe as dd\n",
    "\n",
    "@dask.delayed()\n",
    "def read_a_file(fn):\n",
    "    # or preferably open in text mode and json.load from the file\n",
    "    with oss.open(fn, 'rb') as f:\n",
    "        #return json.loads(f.read().replace('\\n',' '))\n",
    "        return json.loads(f.read().decode(\"ascii\", \"ignore\").replace('\\n',' '))\n",
    "\n",
    "# List of buckets to work with..   if you don't know them, you could print out above\n",
    "buckets = ['gleaner/summoned/oceanexperts'] \n",
    "filenames = []\n",
    "\n",
    "for d in range(len(buckets)):\n",
    "  print(\"indexing {}\".format(buckets[d]))\n",
    "  f = oss.ls(buckets[d])\n",
    "  filenames += f\n",
    "\n",
    "#filenames = oss.cat('gleaner/summoned/opentopo', recursive=True)\n",
    "output = [read_a_file(f) for f in filenames]\n",
    "print(len(filenames))\n",
    "# print(filenames)"
   ]
  },
  {
   "cell_type": "code",
   "execution_count": 6,
   "metadata": {
    "colab": {
     "base_uri": "https://localhost:8080/",
     "height": 1000
    },
    "id": "Mczfl95TdN0_",
    "outputId": "ae6ea008-3861-47e4-a87e-ba811a6f47a0"
   },
   "outputs": [
    {
     "name": "stdout",
     "output_type": "stream",
     "text": [
      "CPU times: user 19.6 s, sys: 507 ms, total: 20.1 s\n",
      "Wall time: 40.5 s\n"
     ]
    }
   ],
   "source": [
    "%%time \n",
    "from pyshacl import validate\n",
    "from os import path\n",
    "from pandas import json_normalize\n",
    "import pandas as pd\n",
    "import json\n",
    "import rdflib\n",
    "import seaborn as sns\n",
    "import matplotlib.pyplot as plt\n",
    "\n",
    "gldf = pd.DataFrame(columns=[\"id\", \"status\", \"shape\"])\n",
    "\n",
    "for ndx in range(len(output)):\n",
    "# for ndx in range(10):\n",
    "    \n",
    "  if \"/.jsonld\" not in filenames[ndx] :\n",
    "    try:\n",
    "      jld = output[ndx].compute()  ## Now pull from dask..   In REAL version, move this logic into Dask!  to get the parallel approach\n",
    "    except:\n",
    "      print(filenames[ndx])\n",
    "      print(\"Doc has bad encoding\")\n",
    "\n",
    "    jd = json.dumps(jld, sort_keys=True, indent=4)\n",
    "        \n",
    "    try:\n",
    "      conforms, v_graph, v_text = validate(jd, \n",
    "                shacl_graph='./oih_learning.ttl', \n",
    "                data_graph_format=\"json-ld\", \n",
    "                shape_graph_format=\"ttl\", \n",
    "                inference='none', \n",
    "                serialize_report_graph=\"json-ld\")\n",
    "      \n",
    "      gd = v_graph.decode(\"ascii\") \n",
    "      df = pd.DataFrame(json.loads(gd))\n",
    "      conforms = df[\"http://www.w3.org/ns/shacl#conforms\"]\n",
    "      tf = conforms[0][0]['@value']\n",
    "\n",
    "      if \"False\" in str(tf):\n",
    "        df['http://www.w3.org/ns/shacl#resultSeverity'] = df['http://www.w3.org/ns/shacl#resultSeverity'].astype(str)\n",
    "        df['ID'] = filenames[ndx] #  'Object:{}'.format(ndx) \n",
    "        df['Status'] = df.apply (lambda row: label_status(row), axis=1)\n",
    "        df['Shape'] = df.apply (lambda row: source_shape(row), axis=1)\n",
    "\n",
    "        data = [df[\"ID\"], df[\"Status\"], df['Shape']]\n",
    "        headers = [\"id\", \"status\", \"shape\"]\n",
    "        df3 = pd.concat(data, axis=1, keys=headers)\n",
    "        gldf = gldf.append(df3, ignore_index=True)\n",
    "      elif \"True\" in str(tf):\n",
    "        df['ID'] = filenames[ndx] #  'Object:{}'.format(ndx) \n",
    "        df['Status'] = \"Valid\"\n",
    "        df['Shape'] = \"AllPassed\"\n",
    "\n",
    "        data = [df[\"ID\"], df[\"Status\"], df['Shape']]\n",
    "        headers = [\"id\", \"status\", \"shape\"]\n",
    "        df3 = pd.concat(data, axis=1, keys=headers)\n",
    "        gldf = gldf.append(df3, ignore_index=True)  \n",
    "    \n",
    "#       print(\"------------------\")\n",
    "#       print(conforms)\n",
    "#       print(v_graph)\n",
    "#       print(v_text)\n",
    "\n",
    "    except:\n",
    "      print(\"ERROR\")\n",
    "      df = pd.DataFrame()\n",
    "      df['ID'] = filenames[ndx] #  'Object:{}'.format(ndx) \n",
    "      df['Status'] = \"ErrorProcessing\"\n",
    "      df['Shape'] = \"ErrorProcessing\"\n",
    "\n",
    "      data = [df[\"ID\"], df[\"Status\"], df['Shape']]\n",
    "      headers = [\"id\", \"status\", \"shape\"]\n",
    "      df3 = pd.concat(data, axis=1, keys=headers)\n",
    "      gldf = gldf.append(df3, ignore_index=True)\n",
    "      print(\"PySHACL decode error: {}\",format(filenames[ndx]))\n",
    "\n"
   ]
  },
  {
   "cell_type": "code",
   "execution_count": 7,
   "metadata": {
    "colab": {
     "base_uri": "https://localhost:8080/",
     "height": 529
    },
    "id": "A6FhT04YpqbF",
    "outputId": "2f21936e-318c-4c9f-ef7f-2a7a2ab6ffd9"
   },
   "outputs": [
    {
     "name": "stdout",
     "output_type": "stream",
     "text": [
      "<class 'pandas.core.frame.DataFrame'>\n",
      "RangeIndex: 2044 entries, 0 to 2043\n",
      "Data columns (total 3 columns):\n",
      " #   Column  Non-Null Count  Dtype \n",
      "---  ------  --------------  ----- \n",
      " 0   id      2044 non-null   object\n",
      " 1   status  2044 non-null   object\n",
      " 2   shape   2044 non-null   object\n",
      "dtypes: object(3)\n",
      "memory usage: 48.0+ KB\n"
     ]
    },
    {
     "data": {
      "text/html": [
       "<div>\n",
       "<style scoped>\n",
       "    .dataframe tbody tr th:only-of-type {\n",
       "        vertical-align: middle;\n",
       "    }\n",
       "\n",
       "    .dataframe tbody tr th {\n",
       "        vertical-align: top;\n",
       "    }\n",
       "\n",
       "    .dataframe thead th {\n",
       "        text-align: right;\n",
       "    }\n",
       "</style>\n",
       "<table border=\"1\" class=\"dataframe\">\n",
       "  <thead>\n",
       "    <tr style=\"text-align: right;\">\n",
       "      <th></th>\n",
       "      <th>id</th>\n",
       "      <th>status</th>\n",
       "      <th>shape</th>\n",
       "    </tr>\n",
       "  </thead>\n",
       "  <tbody>\n",
       "    <tr>\n",
       "      <th>0</th>\n",
       "      <td>gleaner/summoned/oceanexperts/00eae339a41708c6...</td>\n",
       "      <td>NA</td>\n",
       "      <td>NA</td>\n",
       "    </tr>\n",
       "    <tr>\n",
       "      <th>1</th>\n",
       "      <td>gleaner/summoned/oceanexperts/00eae339a41708c6...</td>\n",
       "      <td>Violation</td>\n",
       "      <td>http://science-on-schema.org/1.1.0/validation/...</td>\n",
       "    </tr>\n",
       "    <tr>\n",
       "      <th>2</th>\n",
       "      <td>gleaner/summoned/oceanexperts/00eae339a41708c6...</td>\n",
       "      <td>Violation</td>\n",
       "      <td>http://science-on-schema.org/1.1.0/validation/...</td>\n",
       "    </tr>\n",
       "    <tr>\n",
       "      <th>3</th>\n",
       "      <td>gleaner/summoned/oceanexperts/00eae339a41708c6...</td>\n",
       "      <td>Violation</td>\n",
       "      <td>http://science-on-schema.org/1.1.0/validation/...</td>\n",
       "    </tr>\n",
       "    <tr>\n",
       "      <th>4</th>\n",
       "      <td>gleaner/summoned/oceanexperts/014dbf631db7b122...</td>\n",
       "      <td>NA</td>\n",
       "      <td>NA</td>\n",
       "    </tr>\n",
       "  </tbody>\n",
       "</table>\n",
       "</div>"
      ],
      "text/plain": [
       "                                                  id     status  \\\n",
       "0  gleaner/summoned/oceanexperts/00eae339a41708c6...         NA   \n",
       "1  gleaner/summoned/oceanexperts/00eae339a41708c6...  Violation   \n",
       "2  gleaner/summoned/oceanexperts/00eae339a41708c6...  Violation   \n",
       "3  gleaner/summoned/oceanexperts/00eae339a41708c6...  Violation   \n",
       "4  gleaner/summoned/oceanexperts/014dbf631db7b122...         NA   \n",
       "\n",
       "                                               shape  \n",
       "0                                                 NA  \n",
       "1  http://science-on-schema.org/1.1.0/validation/...  \n",
       "2  http://science-on-schema.org/1.1.0/validation/...  \n",
       "3  http://science-on-schema.org/1.1.0/validation/...  \n",
       "4                                                 NA  "
      ]
     },
     "execution_count": 7,
     "metadata": {},
     "output_type": "execute_result"
    }
   ],
   "source": [
    "gldf.info() \n",
    "gldf.head(5)"
   ]
  },
  {
   "cell_type": "code",
   "execution_count": 8,
   "metadata": {},
   "outputs": [
    {
     "data": {
      "text/plain": [
       "http://science-on-schema.org/1.1.0/validation/shacl#urlDatasetProperty            480\n",
       "http://science-on-schema.org/1.1.0/validation/shacl#identifierDatasetProperty     480\n",
       "http://science-on-schema.org/1.1.0/validation/shacl#keywordsDatasetProperty       480\n",
       "NA                                                                                480\n",
       "http://science-on-schema.org/1.1.0/validation/shacl#descriptionDatasetProperty    124\n",
       "Name: shape, dtype: int64"
      ]
     },
     "execution_count": 8,
     "metadata": {},
     "output_type": "execute_result"
    }
   ],
   "source": [
    "pd.value_counts(gldf['shape'])"
   ]
  },
  {
   "cell_type": "code",
   "execution_count": 9,
   "metadata": {
    "colab": {
     "base_uri": "https://localhost:8080/",
     "height": 319
    },
    "id": "3c8F9sdE50Lq",
    "outputId": "3b96de40-9a2d-4b63-9131-aa440160f9b0"
   },
   "outputs": [
    {
     "data": {
      "text/plain": [
       "(array([  0., 100., 200., 300., 400., 500., 600.]),\n",
       " [Text(0, 0, ''),\n",
       "  Text(0, 0, ''),\n",
       "  Text(0, 0, ''),\n",
       "  Text(0, 0, ''),\n",
       "  Text(0, 0, ''),\n",
       "  Text(0, 0, ''),\n",
       "  Text(0, 0, '')])"
      ]
     },
     "execution_count": 9,
     "metadata": {},
     "output_type": "execute_result"
    },
    {
     "data": {
      "image/png": "[encoded data removed]",
      "text/plain": [
       "<Figure size 432x288 with 1 Axes>"
      ]
     },
     "metadata": {
      "needs_background": "light"
     },
     "output_type": "display_data"
    }
   ],
   "source": [
    "pd.value_counts(gldf['shape']).plot.barh()\n",
    "plt.xticks(rotation=45)"
   ]
  },
  {
   "cell_type": "code",
   "execution_count": null,
   "metadata": {},
   "outputs": [],
   "source": []
  }
 ],
 "metadata": {
  "colab": {
   "collapsed_sections": [
    "4hiBVel8hTry"
   ],
   "name": "pySHACL.ipynb",
   "provenance": []
  },
  "kernelspec": {
   "display_name": "Python 3",
   "language": "python",
   "name": "python3"
  },
  "language_info": {
   "codemirror_mode": {
    "name": "ipython",
    "version": 3
   },
   "file_extension": ".py",
   "mimetype": "text/x-python",
   "name": "python",
   "nbconvert_exporter": "python",
   "pygments_lexer": "ipython3",
   "version": "3.8.6"
  }
 },
 "nbformat": 4,
 "nbformat_minor": 4
}
