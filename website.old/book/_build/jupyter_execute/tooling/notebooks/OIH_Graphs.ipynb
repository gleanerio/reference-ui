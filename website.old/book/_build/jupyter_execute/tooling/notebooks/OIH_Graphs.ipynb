{
 "cells": [
  {
   "cell_type": "markdown",
   "id": "level-delivery",
   "metadata": {},
   "source": [
    "# OIH Graph testing\n"
   ]
  },
  {
   "cell_type": "code",
   "execution_count": 1,
   "id": "scenic-findings",
   "metadata": {},
   "outputs": [
    {
     "data": {
      "text/plain": [
       "<Graph identifier=N79619f851d564f4bbc74636240ac5ea5 (<class 'rdflib.graph.Graph'>)>"
      ]
     },
     "execution_count": 1,
     "metadata": {},
     "output_type": "execute_result"
    }
   ],
   "source": [
    "import rdflib\n",
    "import gzip\n",
    "\n",
    "with gzip.open('./oceanexperts_graph.nq.gz', 'rb') as f:\n",
    "    file_content = f.read()\n",
    "\n",
    "g = rdflib.Graph()\n",
    "g.parse(data = file_content, format=\"nquads\")\n",
    "\n"
   ]
  },
  {
   "cell_type": "code",
   "execution_count": 2,
   "id": "reported-pressing",
   "metadata": {},
   "outputs": [
    {
     "name": "stdout",
     "output_type": "stream",
     "text": [
      "Ncd0ff219811f439db6de9c5568edbc67 Course Name: University of the Sea - 2007, Leg 2\n",
      "N182bd84c2ccb44c0ab299ade254d9c71 Course Name: [POSTPONED] 3rd Marine Biodiversity Workshop: from the Sea to the Cloud\n",
      "N98916a6c7acf4cb4b2c8941b835b9937 Course Name: Regional Training Workshop: Strengthening Tsunami Warning and Emergency Response Standard Operating Procedures\n",
      "N39612209e8334464bb89104c5812fe09 Course Name: Towards participatory fisheries governance\n",
      "N2ee860cc69724e148428235d718ac535 Course Name: Baltic Floating University Cruise, 2003 - Leg 2\n",
      "N50d91b80a1184d41b3b783e9d2bb7b18 Course Name: COAST-MAP-IO Multibeam training, National Hydrographic School, Goa\n",
      "Nfa50371f84be40ec89c4f99b06f08fcb Course Name: International Training Course on &quot;Indian Ocean Dynamics : From the Large-scale Circulation to Small-scale Eddies and Fronts&quot;\n",
      "N3dee70788d184b4abdfdfd172cd73e89 Course Name: IOC Training Course and Identification Qualification in Harmful Marine Microalgae 2008\n",
      "Ne0414bad88334922b43069ecf330e9b8 Course Name: University of the Sea - 2007, Leg 1\n",
      "Nf320a39f77b243fabe3034c083ecb6f3 Course Name: OBIS marine biodiversity data management training course\n"
     ]
    }
   ],
   "source": [
    "qres = g.query(\n",
    "    \"\"\"prefix schema: <https://schema.org/>\n",
    "    SELECT DISTINCT ?s ?name\n",
    "       WHERE {\n",
    "          ?s a schema:Course .\n",
    "          ?s schema:name ?name\n",
    "       }\n",
    "       LIMIT 10\"\"\")\n",
    "\n",
    "for row in qres:\n",
    "    print(\"%s Course Name: %s\" % row)"
   ]
  },
  {
   "cell_type": "code",
   "execution_count": null,
   "id": "minimal-intent",
   "metadata": {},
   "outputs": [],
   "source": []
  },
  {
   "cell_type": "code",
   "execution_count": null,
   "id": "interracial-supplier",
   "metadata": {},
   "outputs": [],
   "source": []
  }
 ],
 "metadata": {
  "kernelspec": {
   "display_name": "Python 3",
   "language": "python",
   "name": "python3"
  },
  "language_info": {
   "codemirror_mode": {
    "name": "ipython",
    "version": 3
   },
   "file_extension": ".py",
   "mimetype": "text/x-python",
   "name": "python",
   "nbconvert_exporter": "python",
   "pygments_lexer": "ipython3",
   "version": "3.9.2"
  }
 },
 "nbformat": 4,
 "nbformat_minor": 5
}