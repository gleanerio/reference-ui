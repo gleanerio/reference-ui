{
 "cells": [
  {
   "cell_type": "markdown",
   "metadata": {
    "id": "crrSdi62W6Is"
   },
   "source": [
    "# OIH Editor Playground\n",
    "\n",
    "For more background on the larger ODIS Ocean Info Hub and related referneces please visit out GitHub repository."
   ]
  },
  {
   "cell_type": "markdown",
   "metadata": {
    "id": "PZSej_dCTYVb"
   },
   "source": [
    "## Some package and imports"
   ]
  },
  {
   "cell_type": "markdown",
   "metadata": {
    "id": "x7--5hXLhPMx"
   },
   "source": [
    "### pip installs"
   ]
  },
  {
   "cell_type": "code",
   "execution_count": 1,
   "metadata": {
    "colab": {
     "base_uri": "https://localhost:8080/"
    },
    "id": "dHKHugqi_eN2",
    "outputId": "8e60f1f6-8055-4203-8f34-e93d529551b3"
   },
   "outputs": [
    {
     "name": "stdout",
     "output_type": "stream",
     "text": [
      "\u001b[31m  ERROR: Command errored out with exit status 1:\r\n",
      "   command: /usr/bin/python3 -u -c 'import sys, setuptools, tokenize; sys.argv[0] = '\"'\"'/tmp/pip-install-99zap_hu/marisa-trie/setup.py'\"'\"'; __file__='\"'\"'/tmp/pip-install-99zap_hu/marisa-trie/setup.py'\"'\"';f=getattr(tokenize, '\"'\"'open'\"'\"', open)(__file__);code=f.read().replace('\"'\"'\\r\\n'\"'\"', '\"'\"'\\n'\"'\"');f.close();exec(compile(code, __file__, '\"'\"'exec'\"'\"'))' bdist_wheel -d /tmp/pip-wheel-axakwnd7\r\n",
      "       cwd: /tmp/pip-install-99zap_hu/marisa-trie/\r\n",
      "  Complete output (256 lines):\r\n",
      "  running bdist_wheel\r\n",
      "  running build\r\n",
      "  running build_clib\r\n",
      "  building 'libmarisa-trie' library\r\n",
      "  creating build\r\n",
      "  creating build/temp.linux-x86_64-3.9\r\n",
      "  creating build/temp.linux-x86_64-3.9/marisa-trie\r\n",
      "  creating build/temp.linux-x86_64-3.9/marisa-trie/lib\r\n",
      "  creating build/temp.linux-x86_64-3.9/marisa-trie/lib/marisa\r\n",
      "  creating build/temp.linux-x86_64-3.9/marisa-trie/lib/marisa/grimoire\r\n",
      "  creating build/temp.linux-x86_64-3.9/marisa-trie/lib/marisa/grimoire/io\r\n",
      "  creating build/temp.linux-x86_64-3.9/marisa-trie/lib/marisa/grimoire/trie\r\n",
      "  creating build/temp.linux-x86_64-3.9/marisa-trie/lib/marisa/grimoire/vector\r\n",
      "  gcc -pthread -Wno-unused-result -Wsign-compare -DDYNAMIC_ANNOTATIONS_ENABLED=1 -DNDEBUG -O2 -fexceptions -g -grecord-gcc-switches -pipe -Wall -Werror=format-security -Wp,-D_FORTIFY_SOURCE=2 -Wp,-D_GLIBCXX_ASSERTIONS -fstack-protector-strong -m64 -mtune=generic -fasynchronous-unwind-tables -fstack-clash-protection -fcf-protection -D_GNU_SOURCE -fPIC -fwrapv -O2 -fexceptions -g -grecord-gcc-switches -pipe -Wall -Werror=format-security -Wp,-D_FORTIFY_SOURCE=2 -Wp,-D_GLIBCXX_ASSERTIONS -fstack-protector-strong -m64 -mtune=generic -fasynchronous-unwind-tables -fstack-clash-protection -fcf-protection -D_GNU_SOURCE -fPIC -fwrapv -O2 -fexceptions -g -grecord-gcc-switches -pipe -Wall -Werror=format-security -Wp,-D_FORTIFY_SOURCE=2 -Wp,-D_GLIBCXX_ASSERTIONS -fstack-protector-strong -m64 -mtune=generic -fasynchronous-unwind-tables -fstack-clash-protection -fcf-protection -D_GNU_SOURCE -fPIC -fwrapv -fPIC -Imarisa-trie/lib -Imarisa-trie/include -c marisa-trie/lib/marisa/keyset.cc -o build/temp.linux-x86_64-3.9/marisa-trie/lib/marisa/keyset.o\r\n",
      "  gcc -pthread -Wno-unused-result -Wsign-compare -DDYNAMIC_ANNOTATIONS_ENABLED=1 -DNDEBUG -O2 -fexceptions -g -grecord-gcc-switches -pipe -Wall -Werror=format-security -Wp,-D_FORTIFY_SOURCE=2 -Wp,-D_GLIBCXX_ASSERTIONS -fstack-protector-strong -m64 -mtune=generic -fasynchronous-unwind-tables -fstack-clash-protection -fcf-protection -D_GNU_SOURCE -fPIC -fwrapv -O2 -fexceptions -g -grecord-gcc-switches -pipe -Wall -Werror=format-security -Wp,-D_FORTIFY_SOURCE=2 -Wp,-D_GLIBCXX_ASSERTIONS -fstack-protector-strong -m64 -mtune=generic -fasynchronous-unwind-tables -fstack-clash-protection -fcf-protection -D_GNU_SOURCE -fPIC -fwrapv -O2 -fexceptions -g -grecord-gcc-switches -pipe -Wall -Werror=format-security -Wp,-D_FORTIFY_SOURCE=2 -Wp,-D_GLIBCXX_ASSERTIONS -fstack-protector-strong -m64 -mtune=generic -fasynchronous-unwind-tables -fstack-clash-protection -fcf-protection -D_GNU_SOURCE -fPIC -fwrapv -fPIC -Imarisa-trie/lib -Imarisa-trie/include -c marisa-trie/lib/marisa/agent.cc -o build/temp.linux-x86_64-3.9/marisa-trie/lib/marisa/agent.o\r\n",
      "  gcc -pthread -Wno-unused-result -Wsign-compare -DDYNAMIC_ANNOTATIONS_ENABLED=1 -DNDEBUG -O2 -fexceptions -g -grecord-gcc-switches -pipe -Wall -Werror=format-security -Wp,-D_FORTIFY_SOURCE=2 -Wp,-D_GLIBCXX_ASSERTIONS -fstack-protector-strong -m64 -mtune=generic -fasynchronous-unwind-tables -fstack-clash-protection -fcf-protection -D_GNU_SOURCE -fPIC -fwrapv -O2 -fexceptions -g -grecord-gcc-switches -pipe -Wall -Werror=format-security -Wp,-D_FORTIFY_SOURCE=2 -Wp,-D_GLIBCXX_ASSERTIONS -fstack-protector-strong -m64 -mtune=generic -fasynchronous-unwind-tables -fstack-clash-protection -fcf-protection -D_GNU_SOURCE -fPIC -fwrapv -O2 -fexceptions -g -grecord-gcc-switches -pipe -Wall -Werror=format-security -Wp,-D_FORTIFY_SOURCE=2 -Wp,-D_GLIBCXX_ASSERTIONS -fstack-protector-strong -m64 -mtune=generic -fasynchronous-unwind-tables -fstack-clash-protection -fcf-protection -D_GNU_SOURCE -fPIC -fwrapv -fPIC -Imarisa-trie/lib -Imarisa-trie/include -c marisa-trie/lib/marisa/trie.cc -o build/temp.linux-x86_64-3.9/marisa-trie/lib/marisa/trie.o\r\n",
      "  gcc -pthread -Wno-unused-result -Wsign-compare -DDYNAMIC_ANNOTATIONS_ENABLED=1 -DNDEBUG -O2 -fexceptions -g -grecord-gcc-switches -pipe -Wall -Werror=format-security -Wp,-D_FORTIFY_SOURCE=2 -Wp,-D_GLIBCXX_ASSERTIONS -fstack-protector-strong -m64 -mtune=generic -fasynchronous-unwind-tables -fstack-clash-protection -fcf-protection -D_GNU_SOURCE -fPIC -fwrapv -O2 -fexceptions -g -grecord-gcc-switches -pipe -Wall -Werror=format-security -Wp,-D_FORTIFY_SOURCE=2 -Wp,-D_GLIBCXX_ASSERTIONS -fstack-protector-strong -m64 -mtune=generic -fasynchronous-unwind-tables -fstack-clash-protection -fcf-protection -D_GNU_SOURCE -fPIC -fwrapv -O2 -fexceptions -g -grecord-gcc-switches -pipe -Wall -Werror=format-security -Wp,-D_FORTIFY_SOURCE=2 -Wp,-D_GLIBCXX_ASSERTIONS -fstack-protector-strong -m64 -mtune=generic -fasynchronous-unwind-tables -fstack-clash-protection -fcf-protection -D_GNU_SOURCE -fPIC -fwrapv -fPIC -Imarisa-trie/lib -Imarisa-trie/include -c marisa-trie/lib/marisa/grimoire/io/mapper.cc -o build/temp.linux-x86_64-3.9/marisa-trie/lib/marisa/grimoire/io/mapper.o\r\n",
      "  gcc -pthread -Wno-unused-result -Wsign-compare -DDYNAMIC_ANNOTATIONS_ENABLED=1 -DNDEBUG -O2 -fexceptions -g -grecord-gcc-switches -pipe -Wall -Werror=format-security -Wp,-D_FORTIFY_SOURCE=2 -Wp,-D_GLIBCXX_ASSERTIONS -fstack-protector-strong -m64 -mtune=generic -fasynchronous-unwind-tables -fstack-clash-protection -fcf-protection -D_GNU_SOURCE -fPIC -fwrapv -O2 -fexceptions -g -grecord-gcc-switches -pipe -Wall -Werror=format-security -Wp,-D_FORTIFY_SOURCE=2 -Wp,-D_GLIBCXX_ASSERTIONS -fstack-protector-strong -m64 -mtune=generic -fasynchronous-unwind-tables -fstack-clash-protection -fcf-protection -D_GNU_SOURCE -fPIC -fwrapv -O2 -fexceptions -g -grecord-gcc-switches -pipe -Wall -Werror=format-security -Wp,-D_FORTIFY_SOURCE=2 -Wp,-D_GLIBCXX_ASSERTIONS -fstack-protector-strong -m64 -mtune=generic -fasynchronous-unwind-tables -fstack-clash-protection -fcf-protection -D_GNU_SOURCE -fPIC -fwrapv -fPIC -Imarisa-trie/lib -Imarisa-trie/include -c marisa-trie/lib/marisa/grimoire/io/writer.cc -o build/temp.linux-x86_64-3.9/marisa-trie/lib/marisa/grimoire/io/writer.o\r\n",
      "  gcc -pthread -Wno-unused-result -Wsign-compare -DDYNAMIC_ANNOTATIONS_ENABLED=1 -DNDEBUG -O2 -fexceptions -g -grecord-gcc-switches -pipe -Wall -Werror=format-security -Wp,-D_FORTIFY_SOURCE=2 -Wp,-D_GLIBCXX_ASSERTIONS -fstack-protector-strong -m64 -mtune=generic -fasynchronous-unwind-tables -fstack-clash-protection -fcf-protection -D_GNU_SOURCE -fPIC -fwrapv -O2 -fexceptions -g -grecord-gcc-switches -pipe -Wall -Werror=format-security -Wp,-D_FORTIFY_SOURCE=2 -Wp,-D_GLIBCXX_ASSERTIONS -fstack-protector-strong -m64 -mtune=generic -fasynchronous-unwind-tables -fstack-clash-protection -fcf-protection -D_GNU_SOURCE -fPIC -fwrapv -O2 -fexceptions -g -grecord-gcc-switches -pipe -Wall -Werror=format-security -Wp,-D_FORTIFY_SOURCE=2 -Wp,-D_GLIBCXX_ASSERTIONS -fstack-protector-strong -m64 -mtune=generic -fasynchronous-unwind-tables -fstack-clash-protection -fcf-protection -D_GNU_SOURCE -fPIC -fwrapv -fPIC -Imarisa-trie/lib -Imarisa-trie/include -c marisa-trie/lib/marisa/grimoire/io/reader.cc -o build/temp.linux-x86_64-3.9/marisa-trie/lib/marisa/grimoire/io/reader.o\r\n",
      "  gcc -pthread -Wno-unused-result -Wsign-compare -DDYNAMIC_ANNOTATIONS_ENABLED=1 -DNDEBUG -O2 -fexceptions -g -grecord-gcc-switches -pipe -Wall -Werror=format-security -Wp,-D_FORTIFY_SOURCE=2 -Wp,-D_GLIBCXX_ASSERTIONS -fstack-protector-strong -m64 -mtune=generic -fasynchronous-unwind-tables -fstack-clash-protection -fcf-protection -D_GNU_SOURCE -fPIC -fwrapv -O2 -fexceptions -g -grecord-gcc-switches -pipe -Wall -Werror=format-security -Wp,-D_FORTIFY_SOURCE=2 -Wp,-D_GLIBCXX_ASSERTIONS -fstack-protector-strong -m64 -mtune=generic -fasynchronous-unwind-tables -fstack-clash-protection -fcf-protection -D_GNU_SOURCE -fPIC -fwrapv -O2 -fexceptions -g -grecord-gcc-switches -pipe -Wall -Werror=format-security -Wp,-D_FORTIFY_SOURCE=2 -Wp,-D_GLIBCXX_ASSERTIONS -fstack-protector-strong -m64 -mtune=generic -fasynchronous-unwind-tables -fstack-clash-protection -fcf-protection -D_GNU_SOURCE -fPIC -fwrapv -fPIC -Imarisa-trie/lib -Imarisa-trie/include -c marisa-trie/lib/marisa/grimoire/trie/tail.cc -o build/temp.linux-x86_64-3.9/marisa-trie/lib/marisa/grimoire/trie/tail.o\r\n",
      "  gcc -pthread -Wno-unused-result -Wsign-compare -DDYNAMIC_ANNOTATIONS_ENABLED=1 -DNDEBUG -O2 -fexceptions -g -grecord-gcc-switches -pipe -Wall -Werror=format-security -Wp,-D_FORTIFY_SOURCE=2 -Wp,-D_GLIBCXX_ASSERTIONS -fstack-protector-strong -m64 -mtune=generic -fasynchronous-unwind-tables -fstack-clash-protection -fcf-protection -D_GNU_SOURCE -fPIC -fwrapv -O2 -fexceptions -g -grecord-gcc-switches -pipe -Wall -Werror=format-security -Wp,-D_FORTIFY_SOURCE=2 -Wp,-D_GLIBCXX_ASSERTIONS -fstack-protector-strong -m64 -mtune=generic -fasynchronous-unwind-tables -fstack-clash-protection -fcf-protection -D_GNU_SOURCE -fPIC -fwrapv -O2 -fexceptions -g -grecord-gcc-switches -pipe -Wall -Werror=format-security -Wp,-D_FORTIFY_SOURCE=2 -Wp,-D_GLIBCXX_ASSERTIONS -fstack-protector-strong -m64 -mtune=generic -fasynchronous-unwind-tables -fstack-clash-protection -fcf-protection -D_GNU_SOURCE -fPIC -fwrapv -fPIC -Imarisa-trie/lib -Imarisa-trie/include -c marisa-trie/lib/marisa/grimoire/trie/louds-trie.cc -o build/temp.linux-x86_64-3.9/marisa-trie/lib/marisa/grimoire/trie/louds-trie.o\r\n",
      "  gcc -pthread -Wno-unused-result -Wsign-compare -DDYNAMIC_ANNOTATIONS_ENABLED=1 -DNDEBUG -O2 -fexceptions -g -grecord-gcc-switches -pipe -Wall -Werror=format-security -Wp,-D_FORTIFY_SOURCE=2 -Wp,-D_GLIBCXX_ASSERTIONS -fstack-protector-strong -m64 -mtune=generic -fasynchronous-unwind-tables -fstack-clash-protection -fcf-protection -D_GNU_SOURCE -fPIC -fwrapv -O2 -fexceptions -g -grecord-gcc-switches -pipe -Wall -Werror=format-security -Wp,-D_FORTIFY_SOURCE=2 -Wp,-D_GLIBCXX_ASSERTIONS -fstack-protector-strong -m64 -mtune=generic -fasynchronous-unwind-tables -fstack-clash-protection -fcf-protection -D_GNU_SOURCE -fPIC -fwrapv -O2 -fexceptions -g -grecord-gcc-switches -pipe -Wall -Werror=format-security -Wp,-D_FORTIFY_SOURCE=2 -Wp,-D_GLIBCXX_ASSERTIONS -fstack-protector-strong -m64 -mtune=generic -fasynchronous-unwind-tables -fstack-clash-protection -fcf-protection -D_GNU_SOURCE -fPIC -fwrapv -fPIC -Imarisa-trie/lib -Imarisa-trie/include -c marisa-trie/lib/marisa/grimoire/vector/bit-vector.cc -o build/temp.linux-x86_64-3.9/marisa-trie/lib/marisa/grimoire/vector/bit-vector.o\r\n",
      "  ar rcs build/temp.linux-x86_64-3.9/liblibmarisa-trie.a build/temp.linux-x86_64-3.9/marisa-trie/lib/marisa/keyset.o build/temp.linux-x86_64-3.9/marisa-trie/lib/marisa/agent.o build/temp.linux-x86_64-3.9/marisa-trie/lib/marisa/trie.o build/temp.linux-x86_64-3.9/marisa-trie/lib/marisa/grimoire/io/mapper.o build/temp.linux-x86_64-3.9/marisa-trie/lib/marisa/grimoire/io/writer.o build/temp.linux-x86_64-3.9/marisa-trie/lib/marisa/grimoire/io/reader.o build/temp.linux-x86_64-3.9/marisa-trie/lib/marisa/grimoire/trie/tail.o build/temp.linux-x86_64-3.9/marisa-trie/lib/marisa/grimoire/trie/louds-trie.o build/temp.linux-x86_64-3.9/marisa-trie/lib/marisa/grimoire/vector/bit-vector.o\r\n",
      "  running build_ext\r\n",
      "  building 'marisa_trie' extension\r\n",
      "  creating build/temp.linux-x86_64-3.9/src\r\n",
      "  gcc -pthread -Wno-unused-result -Wsign-compare -DDYNAMIC_ANNOTATIONS_ENABLED=1 -DNDEBUG -O2 -fexceptions -g -grecord-gcc-switches -pipe -Wall -Werror=format-security -Wp,-D_FORTIFY_SOURCE=2 -Wp,-D_GLIBCXX_ASSERTIONS -fstack-protector-strong -m64 -mtune=generic -fasynchronous-unwind-tables -fstack-clash-protection -fcf-protection -D_GNU_SOURCE -fPIC -fwrapv -O2 -fexceptions -g -grecord-gcc-switches -pipe -Wall -Werror=format-security -Wp,-D_FORTIFY_SOURCE=2 -Wp,-D_GLIBCXX_ASSERTIONS -fstack-protector-strong -m64 -mtune=generic -fasynchronous-unwind-tables -fstack-clash-protection -fcf-protection -D_GNU_SOURCE -fPIC -fwrapv -O2 -fexceptions -g -grecord-gcc-switches -pipe -Wall -Werror=format-security -Wp,-D_FORTIFY_SOURCE=2 -Wp,-D_GLIBCXX_ASSERTIONS -fstack-protector-strong -m64 -mtune=generic -fasynchronous-unwind-tables -fstack-clash-protection -fcf-protection -D_GNU_SOURCE -fPIC -fwrapv -fPIC -Imarisa-trie/include -I/usr/include/python3.9 -c src/agent.cpp -o build/temp.linux-x86_64-3.9/src/agent.o\r\n",
      "  gcc -pthread -Wno-unused-result -Wsign-compare -DDYNAMIC_ANNOTATIONS_ENABLED=1 -DNDEBUG -O2 -fexceptions -g -grecord-gcc-switches -pipe -Wall -Werror=format-security -Wp,-D_FORTIFY_SOURCE=2 -Wp,-D_GLIBCXX_ASSERTIONS -fstack-protector-strong -m64 -mtune=generic -fasynchronous-unwind-tables -fstack-clash-protection -fcf-protection -D_GNU_SOURCE -fPIC -fwrapv -O2 -fexceptions -g -grecord-gcc-switches -pipe -Wall -Werror=format-security -Wp,-D_FORTIFY_SOURCE=2 -Wp,-D_GLIBCXX_ASSERTIONS -fstack-protector-strong -m64 -mtune=generic -fasynchronous-unwind-tables -fstack-clash-protection -fcf-protection -D_GNU_SOURCE -fPIC -fwrapv -O2 -fexceptions -g -grecord-gcc-switches -pipe -Wall -Werror=format-security -Wp,-D_FORTIFY_SOURCE=2 -Wp,-D_GLIBCXX_ASSERTIONS -fstack-protector-strong -m64 -mtune=generic -fasynchronous-unwind-tables -fstack-clash-protection -fcf-protection -D_GNU_SOURCE -fPIC -fwrapv -fPIC -Imarisa-trie/include -I/usr/include/python3.9 -c src/base.cpp -o build/temp.linux-x86_64-3.9/src/base.o\r\n",
      "  gcc -pthread -Wno-unused-result -Wsign-compare -DDYNAMIC_ANNOTATIONS_ENABLED=1 -DNDEBUG -O2 -fexceptions -g -grecord-gcc-switches -pipe -Wall -Werror=format-security -Wp,-D_FORTIFY_SOURCE=2 -Wp,-D_GLIBCXX_ASSERTIONS -fstack-protector-strong -m64 -mtune=generic -fasynchronous-unwind-tables -fstack-clash-protection -fcf-protection -D_GNU_SOURCE -fPIC -fwrapv -O2 -fexceptions -g -grecord-gcc-switches -pipe -Wall -Werror=format-security -Wp,-D_FORTIFY_SOURCE=2 -Wp,-D_GLIBCXX_ASSERTIONS -fstack-protector-strong -m64 -mtune=generic -fasynchronous-unwind-tables -fstack-clash-protection -fcf-protection -D_GNU_SOURCE -fPIC -fwrapv -O2 -fexceptions -g -grecord-gcc-switches -pipe -Wall -Werror=format-security -Wp,-D_FORTIFY_SOURCE=2 -Wp,-D_GLIBCXX_ASSERTIONS -fstack-protector-strong -m64 -mtune=generic -fasynchronous-unwind-tables -fstack-clash-protection -fcf-protection -D_GNU_SOURCE -fPIC -fwrapv -fPIC -Imarisa-trie/include -I/usr/include/python3.9 -c src/iostream.cpp -o build/temp.linux-x86_64-3.9/src/iostream.o\r\n",
      "  gcc -pthread -Wno-unused-result -Wsign-compare -DDYNAMIC_ANNOTATIONS_ENABLED=1 -DNDEBUG -O2 -fexceptions -g -grecord-gcc-switches -pipe -Wall -Werror=format-security -Wp,-D_FORTIFY_SOURCE=2 -Wp,-D_GLIBCXX_ASSERTIONS -fstack-protector-strong -m64 -mtune=generic -fasynchronous-unwind-tables -fstack-clash-protection -fcf-protection -D_GNU_SOURCE -fPIC -fwrapv -O2 -fexceptions -g -grecord-gcc-switches -pipe -Wall -Werror=format-security -Wp,-D_FORTIFY_SOURCE=2 -Wp,-D_GLIBCXX_ASSERTIONS -fstack-protector-strong -m64 -mtune=generic -fasynchronous-unwind-tables -fstack-clash-protection -fcf-protection -D_GNU_SOURCE -fPIC -fwrapv -O2 -fexceptions -g -grecord-gcc-switches -pipe -Wall -Werror=format-security -Wp,-D_FORTIFY_SOURCE=2 -Wp,-D_GLIBCXX_ASSERTIONS -fstack-protector-strong -m64 -mtune=generic -fasynchronous-unwind-tables -fstack-clash-protection -fcf-protection -D_GNU_SOURCE -fPIC -fwrapv -fPIC -Imarisa-trie/include -I/usr/include/python3.9 -c src/key.cpp -o build/temp.linux-x86_64-3.9/src/key.o\r\n",
      "  gcc -pthread -Wno-unused-result -Wsign-compare -DDYNAMIC_ANNOTATIONS_ENABLED=1 -DNDEBUG -O2 -fexceptions -g -grecord-gcc-switches -pipe -Wall -Werror=format-security -Wp,-D_FORTIFY_SOURCE=2 -Wp,-D_GLIBCXX_ASSERTIONS -fstack-protector-strong -m64 -mtune=generic -fasynchronous-unwind-tables -fstack-clash-protection -fcf-protection -D_GNU_SOURCE -fPIC -fwrapv -O2 -fexceptions -g -grecord-gcc-switches -pipe -Wall -Werror=format-security -Wp,-D_FORTIFY_SOURCE=2 -Wp,-D_GLIBCXX_ASSERTIONS -fstack-protector-strong -m64 -mtune=generic -fasynchronous-unwind-tables -fstack-clash-protection -fcf-protection -D_GNU_SOURCE -fPIC -fwrapv -O2 -fexceptions -g -grecord-gcc-switches -pipe -Wall -Werror=format-security -Wp,-D_FORTIFY_SOURCE=2 -Wp,-D_GLIBCXX_ASSERTIONS -fstack-protector-strong -m64 -mtune=generic -fasynchronous-unwind-tables -fstack-clash-protection -fcf-protection -D_GNU_SOURCE -fPIC -fwrapv -fPIC -Imarisa-trie/include -I/usr/include/python3.9 -c src/keyset.cpp -o build/temp.linux-x86_64-3.9/src/keyset.o\r\n",
      "  gcc -pthread -Wno-unused-result -Wsign-compare -DDYNAMIC_ANNOTATIONS_ENABLED=1 -DNDEBUG -O2 -fexceptions -g -grecord-gcc-switches -pipe -Wall -Werror=format-security -Wp,-D_FORTIFY_SOURCE=2 -Wp,-D_GLIBCXX_ASSERTIONS -fstack-protector-strong -m64 -mtune=generic -fasynchronous-unwind-tables -fstack-clash-protection -fcf-protection -D_GNU_SOURCE -fPIC -fwrapv -O2 -fexceptions -g -grecord-gcc-switches -pipe -Wall -Werror=format-security -Wp,-D_FORTIFY_SOURCE=2 -Wp,-D_GLIBCXX_ASSERTIONS -fstack-protector-strong -m64 -mtune=generic -fasynchronous-unwind-tables -fstack-clash-protection -fcf-protection -D_GNU_SOURCE -fPIC -fwrapv -O2 -fexceptions -g -grecord-gcc-switches -pipe -Wall -Werror=format-security -Wp,-D_FORTIFY_SOURCE=2 -Wp,-D_GLIBCXX_ASSERTIONS -fstack-protector-strong -m64 -mtune=generic -fasynchronous-unwind-tables -fstack-clash-protection -fcf-protection -D_GNU_SOURCE -fPIC -fwrapv -fPIC -Imarisa-trie/include -I/usr/include/python3.9 -c src/marisa_trie.cpp -o build/temp.linux-x86_64-3.9/src/marisa_trie.o\r\n",
      "  src/marisa_trie.cpp: In function ‘int __Pyx_modinit_type_init_code()’:\r\n",
      "  src/marisa_trie.cpp:17944:34: error: ‘PyTypeObject’ {aka ‘struct _typeobject’} has no member named ‘tp_print’\r\n",
      "  17944 |   __pyx_type_11marisa_trie__Trie.tp_print = 0;\r\n",
      "        |                                  ^~~~~~~~\r\n",
      "  src/marisa_trie.cpp:17968:39: error: ‘PyTypeObject’ {aka ‘struct _typeobject’} has no member named ‘tp_print’\r\n",
      "  17968 |   __pyx_type_11marisa_trie_BinaryTrie.tp_print = 0;\r\n",
      "        |                                       ^~~~~~~~\r\n",
      "  src/marisa_trie.cpp:17981:46: error: ‘PyTypeObject’ {aka ‘struct _typeobject’} has no member named ‘tp_print’\r\n",
      "  17981 |   __pyx_type_11marisa_trie__UnicodeKeyedTrie.tp_print = 0;\r\n",
      "        |                                              ^~~~~~~~\r\n",
      "  src/marisa_trie.cpp:17995:33: error: ‘PyTypeObject’ {aka ‘struct _typeobject’} has no member named ‘tp_print’\r\n",
      "  17995 |   __pyx_type_11marisa_trie_Trie.tp_print = 0;\r\n",
      "        |                                 ^~~~~~~~\r\n",
      "  src/marisa_trie.cpp:18014:38: error: ‘PyTypeObject’ {aka ‘struct _typeobject’} has no member named ‘tp_print’\r\n",
      "  18014 |   __pyx_type_11marisa_trie_BytesTrie.tp_print = 0;\r\n",
      "        |                                      ^~~~~~~~\r\n",
      "  src/marisa_trie.cpp:18039:40: error: ‘PyTypeObject’ {aka ‘struct _typeobject’} has no member named ‘tp_print’\r\n",
      "  18039 |   __pyx_type_11marisa_trie__UnpackTrie.tp_print = 0;\r\n",
      "        |                                        ^~~~~~~~\r\n",
      "  src/marisa_trie.cpp:18052:39: error: ‘PyTypeObject’ {aka ‘struct _typeobject’} has no member named ‘tp_print’\r\n",
      "  18052 |   __pyx_type_11marisa_trie_RecordTrie.tp_print = 0;\r\n",
      "        |                                       ^~~~~~~~\r\n",
      "  src/marisa_trie.cpp:18070:57: error: ‘PyTypeObject’ {aka ‘struct _typeobject’} has no member named ‘tp_print’\r\n",
      "  18070 |   __pyx_type_11marisa_trie___pyx_scope_struct____init__.tp_print = 0;\r\n",
      "        |                                                         ^~~~~~~~\r\n",
      "  src/marisa_trie.cpp:18076:57: error: ‘PyTypeObject’ {aka ‘struct _typeobject’} has no member named ‘tp_print’\r\n",
      "  18076 |   __pyx_type_11marisa_trie___pyx_scope_struct_1_genexpr.tp_print = 0;\r\n",
      "        |                                                         ^~~~~~~~\r\n",
      "  src/marisa_trie.cpp:18082:58: error: ‘PyTypeObject’ {aka ‘struct _typeobject’} has no member named ‘tp_print’\r\n",
      "  18082 |   __pyx_type_11marisa_trie___pyx_scope_struct_2_iterkeys.tp_print = 0;\r\n",
      "        |                                                          ^~~~~~~~\r\n",
      "  src/marisa_trie.cpp:18088:63: error: ‘PyTypeObject’ {aka ‘struct _typeobject’} has no member named ‘tp_print’\r\n",
      "  18088 |   __pyx_type_11marisa_trie___pyx_scope_struct_3_iter_prefixes.tp_print = 0;\r\n",
      "        |                                                               ^~~~~~~~\r\n",
      "  src/marisa_trie.cpp:18094:59: error: ‘PyTypeObject’ {aka ‘struct _typeobject’} has no member named ‘tp_print’\r\n",
      "  18094 |   __pyx_type_11marisa_trie___pyx_scope_struct_4_iteritems.tp_print = 0;\r\n",
      "        |                                                           ^~~~~~~~\r\n",
      "  src/marisa_trie.cpp:18100:63: error: ‘PyTypeObject’ {aka ‘struct _typeobject’} has no member named ‘tp_print’\r\n",
      "  18100 |   __pyx_type_11marisa_trie___pyx_scope_struct_5_iter_prefixes.tp_print = 0;\r\n",
      "        |                                                               ^~~~~~~~\r\n",
      "  src/marisa_trie.cpp:18106:59: error: ‘PyTypeObject’ {aka ‘struct _typeobject’} has no member named ‘tp_print’\r\n",
      "  18106 |   __pyx_type_11marisa_trie___pyx_scope_struct_6_iteritems.tp_print = 0;\r\n",
      "        |                                                           ^~~~~~~~\r\n",
      "  src/marisa_trie.cpp:18112:58: error: ‘PyTypeObject’ {aka ‘struct _typeobject’} has no member named ‘tp_print’\r\n",
      "  18112 |   __pyx_type_11marisa_trie___pyx_scope_struct_7___init__.tp_print = 0;\r\n",
      "        |                                                          ^~~~~~~~\r\n",
      "  src/marisa_trie.cpp:18118:57: error: ‘PyTypeObject’ {aka ‘struct _typeobject’} has no member named ‘tp_print’\r\n",
      "  18118 |   __pyx_type_11marisa_trie___pyx_scope_struct_8_genexpr.tp_print = 0;\r\n",
      "        |                                                         ^~~~~~~~\r\n",
      "  src/marisa_trie.cpp:18124:59: error: ‘PyTypeObject’ {aka ‘struct _typeobject’} has no member named ‘tp_print’\r\n",
      "  18124 |   __pyx_type_11marisa_trie___pyx_scope_struct_9_iteritems.tp_print = 0;\r\n",
      "        |                                                           ^~~~~~~~\r\n",
      "  src/marisa_trie.cpp:18130:59: error: ‘PyTypeObject’ {aka ‘struct _typeobject’} has no member named ‘tp_print’\r\n",
      "  18130 |   __pyx_type_11marisa_trie___pyx_scope_struct_10_iterkeys.tp_print = 0;\r\n",
      "        |                                                           ^~~~~~~~\r\n",
      "  src/marisa_trie.cpp:18136:59: error: ‘PyTypeObject’ {aka ‘struct _typeobject’} has no member named ‘tp_print’\r\n",
      "  18136 |   __pyx_type_11marisa_trie___pyx_scope_struct_11___init__.tp_print = 0;\r\n",
      "        |                                                           ^~~~~~~~\r\n",
      "  src/marisa_trie.cpp:18142:58: error: ‘PyTypeObject’ {aka ‘struct _typeobject’} has no member named ‘tp_print’\r\n",
      "  18142 |   __pyx_type_11marisa_trie___pyx_scope_struct_12_genexpr.tp_print = 0;\r\n",
      "        |                                                          ^~~~~~~~\r\n",
      "  src/marisa_trie.cpp:18148:60: error: ‘PyTypeObject’ {aka ‘struct _typeobject’} has no member named ‘tp_print’\r\n",
      "  18148 |   __pyx_type_11marisa_trie___pyx_scope_struct_13_iteritems.tp_print = 0;\r\n",
      "        |                                                            ^~~~~~~~\r\n",
      "  src/marisa_trie.cpp:18154:58: error: ‘PyTypeObject’ {aka ‘struct _typeobject’} has no member named ‘tp_print’\r\n",
      "  18154 |   __pyx_type_11marisa_trie___pyx_scope_struct_14_genexpr.tp_print = 0;\r\n",
      "        |                                                          ^~~~~~~~\r\n",
      "  In file included from /usr/include/python3.9/unicodeobject.h:1026,\r\n",
      "                   from /usr/include/python3.9/Python.h:97,\r\n",
      "                   from src/marisa_trie.cpp:4:\r\n",
      "  src/marisa_trie.cpp: In function ‘int __Pyx_ParseOptionalKeywords(PyObject*, PyObject***, PyObject*, PyObject**, Py_ssize_t, const char*)’:\r\n",
      "  /usr/include/python3.9/cpython/unicodeobject.h:451:75: warning: ‘Py_ssize_t _PyUnicode_get_wstr_length(PyObject*)’ is deprecated [-Wdeprecated-declarations]\r\n",
      "    451 | #define PyUnicode_WSTR_LENGTH(op) _PyUnicode_get_wstr_length((PyObject*)op)\r\n",
      "        |                                                                           ^\r\n",
      "  /usr/include/python3.9/cpython/unicodeobject.h:261:7: note: in expansion of macro ‘PyUnicode_WSTR_LENGTH’\r\n",
      "    261 |       PyUnicode_WSTR_LENGTH(op) :                    \\\r\n",
      "        |       ^~~~~~~~~~~~~~~~~~~~~\r\n",
      "  src/marisa_trie.cpp:18940:22: note: in expansion of macro ‘PyUnicode_GET_SIZE’\r\n",
      "  18940 |                     (PyUnicode_GET_SIZE(**name) != PyUnicode_GET_SIZE(key)) ? 1 :\r\n",
      "        |                      ^~~~~~~~~~~~~~~~~~\r\n",
      "  /usr/include/python3.9/cpython/unicodeobject.h:446:26: note: declared here\r\n",
      "    446 | static inline Py_ssize_t _PyUnicode_get_wstr_length(PyObject *op) {\r\n",
      "        |                          ^~~~~~~~~~~~~~~~~~~~~~~~~~\r\n",
      "  /usr/include/python3.9/cpython/unicodeobject.h:262:52: warning: ‘Py_UNICODE* PyUnicode_AsUnicode(PyObject*)’ is deprecated [-Wdeprecated-declarations]\r\n",
      "    262 |       ((void)PyUnicode_AsUnicode(_PyObject_CAST(op)),\\\r\n",
      "        |                                                    ^\r\n",
      "  src/marisa_trie.cpp:18940:22: note: in expansion of macro ‘PyUnicode_GET_SIZE’\r\n",
      "  18940 |                     (PyUnicode_GET_SIZE(**name) != PyUnicode_GET_SIZE(key)) ? 1 :\r\n",
      "        |                      ^~~~~~~~~~~~~~~~~~\r\n",
      "  /usr/include/python3.9/cpython/unicodeobject.h:580:45: note: declared here\r\n",
      "    580 | Py_DEPRECATED(3.3) PyAPI_FUNC(Py_UNICODE *) PyUnicode_AsUnicode(\r\n",
      "        |                                             ^~~~~~~~~~~~~~~~~~~\r\n",
      "  /usr/include/python3.9/cpython/unicodeobject.h:451:75: warning: ‘Py_ssize_t _PyUnicode_get_wstr_length(PyObject*)’ is deprecated [-Wdeprecated-declarations]\r\n",
      "    451 | #define PyUnicode_WSTR_LENGTH(op) _PyUnicode_get_wstr_length((PyObject*)op)\r\n",
      "        |                                                                           ^\r\n",
      "  /usr/include/python3.9/cpython/unicodeobject.h:264:8: note: in expansion of macro ‘PyUnicode_WSTR_LENGTH’\r\n",
      "    264 |        PyUnicode_WSTR_LENGTH(op)))\r\n",
      "        |        ^~~~~~~~~~~~~~~~~~~~~\r\n",
      "  src/marisa_trie.cpp:18940:22: note: in expansion of macro ‘PyUnicode_GET_SIZE’\r\n",
      "  18940 |                     (PyUnicode_GET_SIZE(**name) != PyUnicode_GET_SIZE(key)) ? 1 :\r\n",
      "        |                      ^~~~~~~~~~~~~~~~~~\r\n",
      "  /usr/include/python3.9/cpython/unicodeobject.h:446:26: note: declared here\r\n",
      "    446 | static inline Py_ssize_t _PyUnicode_get_wstr_length(PyObject *op) {\r\n",
      "        |                          ^~~~~~~~~~~~~~~~~~~~~~~~~~\r\n",
      "  /usr/include/python3.9/cpython/unicodeobject.h:451:75: warning: ‘Py_ssize_t _PyUnicode_get_wstr_length(PyObject*)’ is deprecated [-Wdeprecated-declarations]\r\n",
      "    451 | #define PyUnicode_WSTR_LENGTH(op) _PyUnicode_get_wstr_length((PyObject*)op)\r\n",
      "        |                                                                           ^\r\n",
      "  /usr/include/python3.9/cpython/unicodeobject.h:261:7: note: in expansion of macro ‘PyUnicode_WSTR_LENGTH’\r\n",
      "    261 |       PyUnicode_WSTR_LENGTH(op) :                    \\\r\n",
      "        |       ^~~~~~~~~~~~~~~~~~~~~\r\n",
      "  src/marisa_trie.cpp:18940:52: note: in expansion of macro ‘PyUnicode_GET_SIZE’\r\n",
      "  18940 |                     (PyUnicode_GET_SIZE(**name) != PyUnicode_GET_SIZE(key)) ? 1 :\r\n",
      "        |                                                    ^~~~~~~~~~~~~~~~~~\r\n",
      "  /usr/include/python3.9/cpython/unicodeobject.h:446:26: note: declared here\r\n",
      "    446 | static inline Py_ssize_t _PyUnicode_get_wstr_length(PyObject *op) {\r\n",
      "        |                          ^~~~~~~~~~~~~~~~~~~~~~~~~~\r\n",
      "  /usr/include/python3.9/cpython/unicodeobject.h:262:52: warning: ‘Py_UNICODE* PyUnicode_AsUnicode(PyObject*)’ is deprecated [-Wdeprecated-declarations]\r\n",
      "    262 |       ((void)PyUnicode_AsUnicode(_PyObject_CAST(op)),\\\r\n",
      "        |                                                    ^\r\n",
      "  src/marisa_trie.cpp:18940:52: note: in expansion of macro ‘PyUnicode_GET_SIZE’\r\n",
      "  18940 |                     (PyUnicode_GET_SIZE(**name) != PyUnicode_GET_SIZE(key)) ? 1 :\r\n",
      "        |                                                    ^~~~~~~~~~~~~~~~~~\r\n",
      "  /usr/include/python3.9/cpython/unicodeobject.h:580:45: note: declared here\r\n",
      "    580 | Py_DEPRECATED(3.3) PyAPI_FUNC(Py_UNICODE *) PyUnicode_AsUnicode(\r\n",
      "        |                                             ^~~~~~~~~~~~~~~~~~~\r\n",
      "  /usr/include/python3.9/cpython/unicodeobject.h:451:75: warning: ‘Py_ssize_t _PyUnicode_get_wstr_length(PyObject*)’ is deprecated [-Wdeprecated-declarations]\r\n",
      "    451 | #define PyUnicode_WSTR_LENGTH(op) _PyUnicode_get_wstr_length((PyObject*)op)\r\n",
      "        |                                                                           ^\r\n",
      "  /usr/include/python3.9/cpython/unicodeobject.h:264:8: note: in expansion of macro ‘PyUnicode_WSTR_LENGTH’\r\n",
      "    264 |        PyUnicode_WSTR_LENGTH(op)))\r\n",
      "        |        ^~~~~~~~~~~~~~~~~~~~~\r\n",
      "  src/marisa_trie.cpp:18940:52: note: in expansion of macro ‘PyUnicode_GET_SIZE’\r\n",
      "  18940 |                     (PyUnicode_GET_SIZE(**name) != PyUnicode_GET_SIZE(key)) ? 1 :\r\n",
      "        |                                                    ^~~~~~~~~~~~~~~~~~\r\n",
      "  /usr/include/python3.9/cpython/unicodeobject.h:446:26: note: declared here\r\n",
      "    446 | static inline Py_ssize_t _PyUnicode_get_wstr_length(PyObject *op) {\r\n",
      "        |                          ^~~~~~~~~~~~~~~~~~~~~~~~~~\r\n",
      "  /usr/include/python3.9/cpython/unicodeobject.h:451:75: warning: ‘Py_ssize_t _PyUnicode_get_wstr_length(PyObject*)’ is deprecated [-Wdeprecated-declarations]\r\n",
      "    451 | #define PyUnicode_WSTR_LENGTH(op) _PyUnicode_get_wstr_length((PyObject*)op)\r\n",
      "        |                                                                           ^\r\n",
      "  /usr/include/python3.9/cpython/unicodeobject.h:261:7: note: in expansion of macro ‘PyUnicode_WSTR_LENGTH’\r\n",
      "    261 |       PyUnicode_WSTR_LENGTH(op) :                    \\\r\n",
      "        |       ^~~~~~~~~~~~~~~~~~~~~\r\n",
      "  src/marisa_trie.cpp:18956:26: note: in expansion of macro ‘PyUnicode_GET_SIZE’\r\n",
      "  18956 |                         (PyUnicode_GET_SIZE(**argname) != PyUnicode_GET_SIZE(key)) ? 1 :\r\n",
      "        |                          ^~~~~~~~~~~~~~~~~~\r\n",
      "  /usr/include/python3.9/cpython/unicodeobject.h:446:26: note: declared here\r\n",
      "    446 | static inline Py_ssize_t _PyUnicode_get_wstr_length(PyObject *op) {\r\n",
      "        |                          ^~~~~~~~~~~~~~~~~~~~~~~~~~\r\n",
      "  /usr/include/python3.9/cpython/unicodeobject.h:262:52: warning: ‘Py_UNICODE* PyUnicode_AsUnicode(PyObject*)’ is deprecated [-Wdeprecated-declarations]\r\n",
      "    262 |       ((void)PyUnicode_AsUnicode(_PyObject_CAST(op)),\\\r\n",
      "        |                                                    ^\r\n",
      "  src/marisa_trie.cpp:18956:26: note: in expansion of macro ‘PyUnicode_GET_SIZE’\r\n",
      "  18956 |                         (PyUnicode_GET_SIZE(**argname) != PyUnicode_GET_SIZE(key)) ? 1 :\r\n",
      "        |                          ^~~~~~~~~~~~~~~~~~\r\n",
      "  /usr/include/python3.9/cpython/unicodeobject.h:580:45: note: declared here\r\n",
      "    580 | Py_DEPRECATED(3.3) PyAPI_FUNC(Py_UNICODE *) PyUnicode_AsUnicode(\r\n",
      "        |                                             ^~~~~~~~~~~~~~~~~~~\r\n",
      "  /usr/include/python3.9/cpython/unicodeobject.h:451:75: warning: ‘Py_ssize_t _PyUnicode_get_wstr_length(PyObject*)’ is deprecated [-Wdeprecated-declarations]\r\n",
      "    451 | #define PyUnicode_WSTR_LENGTH(op) _PyUnicode_get_wstr_length((PyObject*)op)\r\n",
      "        |                                                                           ^\r\n",
      "  /usr/include/python3.9/cpython/unicodeobject.h:264:8: note: in expansion of macro ‘PyUnicode_WSTR_LENGTH’\r\n",
      "    264 |        PyUnicode_WSTR_LENGTH(op)))\r\n",
      "        |        ^~~~~~~~~~~~~~~~~~~~~\r\n",
      "  src/marisa_trie.cpp:18956:26: note: in expansion of macro ‘PyUnicode_GET_SIZE’\r\n",
      "  18956 |                         (PyUnicode_GET_SIZE(**argname) != PyUnicode_GET_SIZE(key)) ? 1 :\r\n",
      "        |                          ^~~~~~~~~~~~~~~~~~\r\n",
      "  /usr/include/python3.9/cpython/unicodeobject.h:446:26: note: declared here\r\n",
      "    446 | static inline Py_ssize_t _PyUnicode_get_wstr_length(PyObject *op) {\r\n",
      "        |                          ^~~~~~~~~~~~~~~~~~~~~~~~~~\r\n",
      "  /usr/include/python3.9/cpython/unicodeobject.h:451:75: warning: ‘Py_ssize_t _PyUnicode_get_wstr_length(PyObject*)’ is deprecated [-Wdeprecated-declarations]\r\n",
      "    451 | #define PyUnicode_WSTR_LENGTH(op) _PyUnicode_get_wstr_length((PyObject*)op)\r\n",
      "        |                                                                           ^\r\n",
      "  /usr/include/python3.9/cpython/unicodeobject.h:261:7: note: in expansion of macro ‘PyUnicode_WSTR_LENGTH’\r\n",
      "    261 |       PyUnicode_WSTR_LENGTH(op) :                    \\\r\n",
      "        |       ^~~~~~~~~~~~~~~~~~~~~\r\n",
      "  src/marisa_trie.cpp:18956:59: note: in expansion of macro ‘PyUnicode_GET_SIZE’\r\n",
      "  18956 |                         (PyUnicode_GET_SIZE(**argname) != PyUnicode_GET_SIZE(key)) ? 1 :\r\n",
      "        |                                                           ^~~~~~~~~~~~~~~~~~\r\n",
      "  /usr/include/python3.9/cpython/unicodeobject.h:446:26: note: declared here\r\n",
      "    446 | static inline Py_ssize_t _PyUnicode_get_wstr_length(PyObject *op) {\r\n",
      "        |                          ^~~~~~~~~~~~~~~~~~~~~~~~~~\r\n",
      "  /usr/include/python3.9/cpython/unicodeobject.h:262:52: warning: ‘Py_UNICODE* PyUnicode_AsUnicode(PyObject*)’ is deprecated [-Wdeprecated-declarations]\r\n",
      "    262 |       ((void)PyUnicode_AsUnicode(_PyObject_CAST(op)),\\\r\n",
      "        |                                                    ^\r\n",
      "  src/marisa_trie.cpp:18956:59: note: in expansion of macro ‘PyUnicode_GET_SIZE’\r\n",
      "  18956 |                         (PyUnicode_GET_SIZE(**argname) != PyUnicode_GET_SIZE(key)) ? 1 :\r\n",
      "        |                                                           ^~~~~~~~~~~~~~~~~~\r\n",
      "  /usr/include/python3.9/cpython/unicodeobject.h:580:45: note: declared here\r\n",
      "    580 | Py_DEPRECATED(3.3) PyAPI_FUNC(Py_UNICODE *) PyUnicode_AsUnicode(\r\n",
      "        |                                             ^~~~~~~~~~~~~~~~~~~\r\n",
      "  /usr/include/python3.9/cpython/unicodeobject.h:451:75: warning: ‘Py_ssize_t _PyUnicode_get_wstr_length(PyObject*)’ is deprecated [-Wdeprecated-declarations]\r\n",
      "    451 | #define PyUnicode_WSTR_LENGTH(op) _PyUnicode_get_wstr_length((PyObject*)op)\r\n",
      "        |                                                                           ^\r\n",
      "  /usr/include/python3.9/cpython/unicodeobject.h:264:8: note: in expansion of macro ‘PyUnicode_WSTR_LENGTH’\r\n",
      "    264 |        PyUnicode_WSTR_LENGTH(op)))\r\n",
      "        |        ^~~~~~~~~~~~~~~~~~~~~\r\n",
      "  src/marisa_trie.cpp:18956:59: note: in expansion of macro ‘PyUnicode_GET_SIZE’\r\n",
      "  18956 |                         (PyUnicode_GET_SIZE(**argname) != PyUnicode_GET_SIZE(key)) ? 1 :\r\n",
      "        |                                                           ^~~~~~~~~~~~~~~~~~\r\n",
      "  /usr/include/python3.9/cpython/unicodeobject.h:446:26: note: declared here\r\n",
      "    446 | static inline Py_ssize_t _PyUnicode_get_wstr_length(PyObject *op) {\r\n",
      "        |                          ^~~~~~~~~~~~~~~~~~~~~~~~~~\r\n",
      "  src/marisa_trie.cpp: In function ‘PyObject* __Pyx_PyUnicode_Substring(PyObject*, Py_ssize_t, Py_ssize_t)’:\r\n",
      "  src/marisa_trie.cpp:20109:45: warning: ‘PyObject* PyUnicode_FromUnicode(const Py_UNICODE*, Py_ssize_t)’ is deprecated [-Wdeprecated-declarations]\r\n",
      "  20109 |         return PyUnicode_FromUnicode(NULL, 0);\r\n",
      "        |                                             ^\r\n",
      "  In file included from /usr/include/python3.9/unicodeobject.h:1026,\r\n",
      "                   from /usr/include/python3.9/Python.h:97,\r\n",
      "                   from src/marisa_trie.cpp:4:\r\n",
      "  /usr/include/python3.9/cpython/unicodeobject.h:551:42: note: declared here\r\n",
      "    551 | Py_DEPRECATED(3.3) PyAPI_FUNC(PyObject*) PyUnicode_FromUnicode(\r\n",
      "        |                                          ^~~~~~~~~~~~~~~~~~~~~\r\n",
      "  src/marisa_trie.cpp: In function ‘PyObject* __Pyx_decode_c_string(const char*, Py_ssize_t, Py_ssize_t, const char*, const char*, PyObject* (*)(const char*, Py_ssize_t, const char*))’:\r\n",
      "  src/marisa_trie.cpp:20142:45: warning: ‘PyObject* PyUnicode_FromUnicode(const Py_UNICODE*, Py_ssize_t)’ is deprecated [-Wdeprecated-declarations]\r\n",
      "  20142 |         return PyUnicode_FromUnicode(NULL, 0);\r\n",
      "        |                                             ^\r\n",
      "  In file included from /usr/include/python3.9/unicodeobject.h:1026,\r\n",
      "                   from /usr/include/python3.9/Python.h:97,\r\n",
      "                   from src/marisa_trie.cpp:4:\r\n",
      "  /usr/include/python3.9/cpython/unicodeobject.h:551:42: note: declared here\r\n",
      "    551 | Py_DEPRECATED(3.3) PyAPI_FUNC(PyObject*) PyUnicode_FromUnicode(\r\n",
      "        |                                          ^~~~~~~~~~~~~~~~~~~~~\r\n",
      "  error: command '/usr/bin/gcc' failed with exit code 1\r\n",
      "  ----------------------------------------\u001b[0m\r\n",
      "\u001b[31m  ERROR: Failed building wheel for marisa-trie\u001b[0m\r\n"
     ]
    },
    {
     "name": "stdout",
     "output_type": "stream",
     "text": [
      "\u001b[33mDEPRECATION: Could not build wheels for marisa-trie which do not use PEP 517. pip will fall back to legacy 'setup.py install' for these. pip 21.0 will remove support for this functionality. A possible replacement is to fix the wheel build issue reported above. You can find discussion regarding this at https://github.com/pypa/pip/issues/8368.\u001b[0m\r\n"
     ]
    },
    {
     "name": "stdout",
     "output_type": "stream",
     "text": [
      "\u001b[31m    ERROR: Command errored out with exit status 1:\r\n",
      "     command: /usr/bin/python3 -u -c 'import sys, setuptools, tokenize; sys.argv[0] = '\"'\"'/tmp/pip-install-99zap_hu/marisa-trie/setup.py'\"'\"'; __file__='\"'\"'/tmp/pip-install-99zap_hu/marisa-trie/setup.py'\"'\"';f=getattr(tokenize, '\"'\"'open'\"'\"', open)(__file__);code=f.read().replace('\"'\"'\\r\\n'\"'\"', '\"'\"'\\n'\"'\"');f.close();exec(compile(code, __file__, '\"'\"'exec'\"'\"'))' install --record /tmp/pip-record-7v4xvaw2/install-record.txt --single-version-externally-managed --user --prefix= --compile --install-headers /home/fils/.local/include/python3.9/marisa-trie\r\n",
      "         cwd: /tmp/pip-install-99zap_hu/marisa-trie/\r\n",
      "    Complete output (256 lines):\r\n",
      "    running install\r\n",
      "    running build\r\n",
      "    running build_clib\r\n",
      "    building 'libmarisa-trie' library\r\n",
      "    creating build\r\n",
      "    creating build/temp.linux-x86_64-3.9\r\n",
      "    creating build/temp.linux-x86_64-3.9/marisa-trie\r\n",
      "    creating build/temp.linux-x86_64-3.9/marisa-trie/lib\r\n",
      "    creating build/temp.linux-x86_64-3.9/marisa-trie/lib/marisa\r\n",
      "    creating build/temp.linux-x86_64-3.9/marisa-trie/lib/marisa/grimoire\r\n",
      "    creating build/temp.linux-x86_64-3.9/marisa-trie/lib/marisa/grimoire/io\r\n",
      "    creating build/temp.linux-x86_64-3.9/marisa-trie/lib/marisa/grimoire/trie\r\n",
      "    creating build/temp.linux-x86_64-3.9/marisa-trie/lib/marisa/grimoire/vector\r\n",
      "    gcc -pthread -Wno-unused-result -Wsign-compare -DDYNAMIC_ANNOTATIONS_ENABLED=1 -DNDEBUG -O2 -fexceptions -g -grecord-gcc-switches -pipe -Wall -Werror=format-security -Wp,-D_FORTIFY_SOURCE=2 -Wp,-D_GLIBCXX_ASSERTIONS -fstack-protector-strong -m64 -mtune=generic -fasynchronous-unwind-tables -fstack-clash-protection -fcf-protection -D_GNU_SOURCE -fPIC -fwrapv -O2 -fexceptions -g -grecord-gcc-switches -pipe -Wall -Werror=format-security -Wp,-D_FORTIFY_SOURCE=2 -Wp,-D_GLIBCXX_ASSERTIONS -fstack-protector-strong -m64 -mtune=generic -fasynchronous-unwind-tables -fstack-clash-protection -fcf-protection -D_GNU_SOURCE -fPIC -fwrapv -O2 -fexceptions -g -grecord-gcc-switches -pipe -Wall -Werror=format-security -Wp,-D_FORTIFY_SOURCE=2 -Wp,-D_GLIBCXX_ASSERTIONS -fstack-protector-strong -m64 -mtune=generic -fasynchronous-unwind-tables -fstack-clash-protection -fcf-protection -D_GNU_SOURCE -fPIC -fwrapv -fPIC -Imarisa-trie/lib -Imarisa-trie/include -c marisa-trie/lib/marisa/keyset.cc -o build/temp.linux-x86_64-3.9/marisa-trie/lib/marisa/keyset.o\r\n",
      "    gcc -pthread -Wno-unused-result -Wsign-compare -DDYNAMIC_ANNOTATIONS_ENABLED=1 -DNDEBUG -O2 -fexceptions -g -grecord-gcc-switches -pipe -Wall -Werror=format-security -Wp,-D_FORTIFY_SOURCE=2 -Wp,-D_GLIBCXX_ASSERTIONS -fstack-protector-strong -m64 -mtune=generic -fasynchronous-unwind-tables -fstack-clash-protection -fcf-protection -D_GNU_SOURCE -fPIC -fwrapv -O2 -fexceptions -g -grecord-gcc-switches -pipe -Wall -Werror=format-security -Wp,-D_FORTIFY_SOURCE=2 -Wp,-D_GLIBCXX_ASSERTIONS -fstack-protector-strong -m64 -mtune=generic -fasynchronous-unwind-tables -fstack-clash-protection -fcf-protection -D_GNU_SOURCE -fPIC -fwrapv -O2 -fexceptions -g -grecord-gcc-switches -pipe -Wall -Werror=format-security -Wp,-D_FORTIFY_SOURCE=2 -Wp,-D_GLIBCXX_ASSERTIONS -fstack-protector-strong -m64 -mtune=generic -fasynchronous-unwind-tables -fstack-clash-protection -fcf-protection -D_GNU_SOURCE -fPIC -fwrapv -fPIC -Imarisa-trie/lib -Imarisa-trie/include -c marisa-trie/lib/marisa/agent.cc -o build/temp.linux-x86_64-3.9/marisa-trie/lib/marisa/agent.o\r\n",
      "    gcc -pthread -Wno-unused-result -Wsign-compare -DDYNAMIC_ANNOTATIONS_ENABLED=1 -DNDEBUG -O2 -fexceptions -g -grecord-gcc-switches -pipe -Wall -Werror=format-security -Wp,-D_FORTIFY_SOURCE=2 -Wp,-D_GLIBCXX_ASSERTIONS -fstack-protector-strong -m64 -mtune=generic -fasynchronous-unwind-tables -fstack-clash-protection -fcf-protection -D_GNU_SOURCE -fPIC -fwrapv -O2 -fexceptions -g -grecord-gcc-switches -pipe -Wall -Werror=format-security -Wp,-D_FORTIFY_SOURCE=2 -Wp,-D_GLIBCXX_ASSERTIONS -fstack-protector-strong -m64 -mtune=generic -fasynchronous-unwind-tables -fstack-clash-protection -fcf-protection -D_GNU_SOURCE -fPIC -fwrapv -O2 -fexceptions -g -grecord-gcc-switches -pipe -Wall -Werror=format-security -Wp,-D_FORTIFY_SOURCE=2 -Wp,-D_GLIBCXX_ASSERTIONS -fstack-protector-strong -m64 -mtune=generic -fasynchronous-unwind-tables -fstack-clash-protection -fcf-protection -D_GNU_SOURCE -fPIC -fwrapv -fPIC -Imarisa-trie/lib -Imarisa-trie/include -c marisa-trie/lib/marisa/trie.cc -o build/temp.linux-x86_64-3.9/marisa-trie/lib/marisa/trie.o\r\n",
      "    gcc -pthread -Wno-unused-result -Wsign-compare -DDYNAMIC_ANNOTATIONS_ENABLED=1 -DNDEBUG -O2 -fexceptions -g -grecord-gcc-switches -pipe -Wall -Werror=format-security -Wp,-D_FORTIFY_SOURCE=2 -Wp,-D_GLIBCXX_ASSERTIONS -fstack-protector-strong -m64 -mtune=generic -fasynchronous-unwind-tables -fstack-clash-protection -fcf-protection -D_GNU_SOURCE -fPIC -fwrapv -O2 -fexceptions -g -grecord-gcc-switches -pipe -Wall -Werror=format-security -Wp,-D_FORTIFY_SOURCE=2 -Wp,-D_GLIBCXX_ASSERTIONS -fstack-protector-strong -m64 -mtune=generic -fasynchronous-unwind-tables -fstack-clash-protection -fcf-protection -D_GNU_SOURCE -fPIC -fwrapv -O2 -fexceptions -g -grecord-gcc-switches -pipe -Wall -Werror=format-security -Wp,-D_FORTIFY_SOURCE=2 -Wp,-D_GLIBCXX_ASSERTIONS -fstack-protector-strong -m64 -mtune=generic -fasynchronous-unwind-tables -fstack-clash-protection -fcf-protection -D_GNU_SOURCE -fPIC -fwrapv -fPIC -Imarisa-trie/lib -Imarisa-trie/include -c marisa-trie/lib/marisa/grimoire/io/mapper.cc -o build/temp.linux-x86_64-3.9/marisa-trie/lib/marisa/grimoire/io/mapper.o\r\n",
      "    gcc -pthread -Wno-unused-result -Wsign-compare -DDYNAMIC_ANNOTATIONS_ENABLED=1 -DNDEBUG -O2 -fexceptions -g -grecord-gcc-switches -pipe -Wall -Werror=format-security -Wp,-D_FORTIFY_SOURCE=2 -Wp,-D_GLIBCXX_ASSERTIONS -fstack-protector-strong -m64 -mtune=generic -fasynchronous-unwind-tables -fstack-clash-protection -fcf-protection -D_GNU_SOURCE -fPIC -fwrapv -O2 -fexceptions -g -grecord-gcc-switches -pipe -Wall -Werror=format-security -Wp,-D_FORTIFY_SOURCE=2 -Wp,-D_GLIBCXX_ASSERTIONS -fstack-protector-strong -m64 -mtune=generic -fasynchronous-unwind-tables -fstack-clash-protection -fcf-protection -D_GNU_SOURCE -fPIC -fwrapv -O2 -fexceptions -g -grecord-gcc-switches -pipe -Wall -Werror=format-security -Wp,-D_FORTIFY_SOURCE=2 -Wp,-D_GLIBCXX_ASSERTIONS -fstack-protector-strong -m64 -mtune=generic -fasynchronous-unwind-tables -fstack-clash-protection -fcf-protection -D_GNU_SOURCE -fPIC -fwrapv -fPIC -Imarisa-trie/lib -Imarisa-trie/include -c marisa-trie/lib/marisa/grimoire/io/writer.cc -o build/temp.linux-x86_64-3.9/marisa-trie/lib/marisa/grimoire/io/writer.o\r\n",
      "    gcc -pthread -Wno-unused-result -Wsign-compare -DDYNAMIC_ANNOTATIONS_ENABLED=1 -DNDEBUG -O2 -fexceptions -g -grecord-gcc-switches -pipe -Wall -Werror=format-security -Wp,-D_FORTIFY_SOURCE=2 -Wp,-D_GLIBCXX_ASSERTIONS -fstack-protector-strong -m64 -mtune=generic -fasynchronous-unwind-tables -fstack-clash-protection -fcf-protection -D_GNU_SOURCE -fPIC -fwrapv -O2 -fexceptions -g -grecord-gcc-switches -pipe -Wall -Werror=format-security -Wp,-D_FORTIFY_SOURCE=2 -Wp,-D_GLIBCXX_ASSERTIONS -fstack-protector-strong -m64 -mtune=generic -fasynchronous-unwind-tables -fstack-clash-protection -fcf-protection -D_GNU_SOURCE -fPIC -fwrapv -O2 -fexceptions -g -grecord-gcc-switches -pipe -Wall -Werror=format-security -Wp,-D_FORTIFY_SOURCE=2 -Wp,-D_GLIBCXX_ASSERTIONS -fstack-protector-strong -m64 -mtune=generic -fasynchronous-unwind-tables -fstack-clash-protection -fcf-protection -D_GNU_SOURCE -fPIC -fwrapv -fPIC -Imarisa-trie/lib -Imarisa-trie/include -c marisa-trie/lib/marisa/grimoire/io/reader.cc -o build/temp.linux-x86_64-3.9/marisa-trie/lib/marisa/grimoire/io/reader.o\r\n",
      "    gcc -pthread -Wno-unused-result -Wsign-compare -DDYNAMIC_ANNOTATIONS_ENABLED=1 -DNDEBUG -O2 -fexceptions -g -grecord-gcc-switches -pipe -Wall -Werror=format-security -Wp,-D_FORTIFY_SOURCE=2 -Wp,-D_GLIBCXX_ASSERTIONS -fstack-protector-strong -m64 -mtune=generic -fasynchronous-unwind-tables -fstack-clash-protection -fcf-protection -D_GNU_SOURCE -fPIC -fwrapv -O2 -fexceptions -g -grecord-gcc-switches -pipe -Wall -Werror=format-security -Wp,-D_FORTIFY_SOURCE=2 -Wp,-D_GLIBCXX_ASSERTIONS -fstack-protector-strong -m64 -mtune=generic -fasynchronous-unwind-tables -fstack-clash-protection -fcf-protection -D_GNU_SOURCE -fPIC -fwrapv -O2 -fexceptions -g -grecord-gcc-switches -pipe -Wall -Werror=format-security -Wp,-D_FORTIFY_SOURCE=2 -Wp,-D_GLIBCXX_ASSERTIONS -fstack-protector-strong -m64 -mtune=generic -fasynchronous-unwind-tables -fstack-clash-protection -fcf-protection -D_GNU_SOURCE -fPIC -fwrapv -fPIC -Imarisa-trie/lib -Imarisa-trie/include -c marisa-trie/lib/marisa/grimoire/trie/tail.cc -o build/temp.linux-x86_64-3.9/marisa-trie/lib/marisa/grimoire/trie/tail.o\r\n",
      "    gcc -pthread -Wno-unused-result -Wsign-compare -DDYNAMIC_ANNOTATIONS_ENABLED=1 -DNDEBUG -O2 -fexceptions -g -grecord-gcc-switches -pipe -Wall -Werror=format-security -Wp,-D_FORTIFY_SOURCE=2 -Wp,-D_GLIBCXX_ASSERTIONS -fstack-protector-strong -m64 -mtune=generic -fasynchronous-unwind-tables -fstack-clash-protection -fcf-protection -D_GNU_SOURCE -fPIC -fwrapv -O2 -fexceptions -g -grecord-gcc-switches -pipe -Wall -Werror=format-security -Wp,-D_FORTIFY_SOURCE=2 -Wp,-D_GLIBCXX_ASSERTIONS -fstack-protector-strong -m64 -mtune=generic -fasynchronous-unwind-tables -fstack-clash-protection -fcf-protection -D_GNU_SOURCE -fPIC -fwrapv -O2 -fexceptions -g -grecord-gcc-switches -pipe -Wall -Werror=format-security -Wp,-D_FORTIFY_SOURCE=2 -Wp,-D_GLIBCXX_ASSERTIONS -fstack-protector-strong -m64 -mtune=generic -fasynchronous-unwind-tables -fstack-clash-protection -fcf-protection -D_GNU_SOURCE -fPIC -fwrapv -fPIC -Imarisa-trie/lib -Imarisa-trie/include -c marisa-trie/lib/marisa/grimoire/trie/louds-trie.cc -o build/temp.linux-x86_64-3.9/marisa-trie/lib/marisa/grimoire/trie/louds-trie.o\r\n",
      "    gcc -pthread -Wno-unused-result -Wsign-compare -DDYNAMIC_ANNOTATIONS_ENABLED=1 -DNDEBUG -O2 -fexceptions -g -grecord-gcc-switches -pipe -Wall -Werror=format-security -Wp,-D_FORTIFY_SOURCE=2 -Wp,-D_GLIBCXX_ASSERTIONS -fstack-protector-strong -m64 -mtune=generic -fasynchronous-unwind-tables -fstack-clash-protection -fcf-protection -D_GNU_SOURCE -fPIC -fwrapv -O2 -fexceptions -g -grecord-gcc-switches -pipe -Wall -Werror=format-security -Wp,-D_FORTIFY_SOURCE=2 -Wp,-D_GLIBCXX_ASSERTIONS -fstack-protector-strong -m64 -mtune=generic -fasynchronous-unwind-tables -fstack-clash-protection -fcf-protection -D_GNU_SOURCE -fPIC -fwrapv -O2 -fexceptions -g -grecord-gcc-switches -pipe -Wall -Werror=format-security -Wp,-D_FORTIFY_SOURCE=2 -Wp,-D_GLIBCXX_ASSERTIONS -fstack-protector-strong -m64 -mtune=generic -fasynchronous-unwind-tables -fstack-clash-protection -fcf-protection -D_GNU_SOURCE -fPIC -fwrapv -fPIC -Imarisa-trie/lib -Imarisa-trie/include -c marisa-trie/lib/marisa/grimoire/vector/bit-vector.cc -o build/temp.linux-x86_64-3.9/marisa-trie/lib/marisa/grimoire/vector/bit-vector.o\r\n",
      "    ar rcs build/temp.linux-x86_64-3.9/liblibmarisa-trie.a build/temp.linux-x86_64-3.9/marisa-trie/lib/marisa/keyset.o build/temp.linux-x86_64-3.9/marisa-trie/lib/marisa/agent.o build/temp.linux-x86_64-3.9/marisa-trie/lib/marisa/trie.o build/temp.linux-x86_64-3.9/marisa-trie/lib/marisa/grimoire/io/mapper.o build/temp.linux-x86_64-3.9/marisa-trie/lib/marisa/grimoire/io/writer.o build/temp.linux-x86_64-3.9/marisa-trie/lib/marisa/grimoire/io/reader.o build/temp.linux-x86_64-3.9/marisa-trie/lib/marisa/grimoire/trie/tail.o build/temp.linux-x86_64-3.9/marisa-trie/lib/marisa/grimoire/trie/louds-trie.o build/temp.linux-x86_64-3.9/marisa-trie/lib/marisa/grimoire/vector/bit-vector.o\r\n",
      "    running build_ext\r\n",
      "    building 'marisa_trie' extension\r\n",
      "    creating build/temp.linux-x86_64-3.9/src\r\n",
      "    gcc -pthread -Wno-unused-result -Wsign-compare -DDYNAMIC_ANNOTATIONS_ENABLED=1 -DNDEBUG -O2 -fexceptions -g -grecord-gcc-switches -pipe -Wall -Werror=format-security -Wp,-D_FORTIFY_SOURCE=2 -Wp,-D_GLIBCXX_ASSERTIONS -fstack-protector-strong -m64 -mtune=generic -fasynchronous-unwind-tables -fstack-clash-protection -fcf-protection -D_GNU_SOURCE -fPIC -fwrapv -O2 -fexceptions -g -grecord-gcc-switches -pipe -Wall -Werror=format-security -Wp,-D_FORTIFY_SOURCE=2 -Wp,-D_GLIBCXX_ASSERTIONS -fstack-protector-strong -m64 -mtune=generic -fasynchronous-unwind-tables -fstack-clash-protection -fcf-protection -D_GNU_SOURCE -fPIC -fwrapv -O2 -fexceptions -g -grecord-gcc-switches -pipe -Wall -Werror=format-security -Wp,-D_FORTIFY_SOURCE=2 -Wp,-D_GLIBCXX_ASSERTIONS -fstack-protector-strong -m64 -mtune=generic -fasynchronous-unwind-tables -fstack-clash-protection -fcf-protection -D_GNU_SOURCE -fPIC -fwrapv -fPIC -Imarisa-trie/include -I/usr/include/python3.9 -c src/agent.cpp -o build/temp.linux-x86_64-3.9/src/agent.o\r\n",
      "    gcc -pthread -Wno-unused-result -Wsign-compare -DDYNAMIC_ANNOTATIONS_ENABLED=1 -DNDEBUG -O2 -fexceptions -g -grecord-gcc-switches -pipe -Wall -Werror=format-security -Wp,-D_FORTIFY_SOURCE=2 -Wp,-D_GLIBCXX_ASSERTIONS -fstack-protector-strong -m64 -mtune=generic -fasynchronous-unwind-tables -fstack-clash-protection -fcf-protection -D_GNU_SOURCE -fPIC -fwrapv -O2 -fexceptions -g -grecord-gcc-switches -pipe -Wall -Werror=format-security -Wp,-D_FORTIFY_SOURCE=2 -Wp,-D_GLIBCXX_ASSERTIONS -fstack-protector-strong -m64 -mtune=generic -fasynchronous-unwind-tables -fstack-clash-protection -fcf-protection -D_GNU_SOURCE -fPIC -fwrapv -O2 -fexceptions -g -grecord-gcc-switches -pipe -Wall -Werror=format-security -Wp,-D_FORTIFY_SOURCE=2 -Wp,-D_GLIBCXX_ASSERTIONS -fstack-protector-strong -m64 -mtune=generic -fasynchronous-unwind-tables -fstack-clash-protection -fcf-protection -D_GNU_SOURCE -fPIC -fwrapv -fPIC -Imarisa-trie/include -I/usr/include/python3.9 -c src/base.cpp -o build/temp.linux-x86_64-3.9/src/base.o\r\n",
      "    gcc -pthread -Wno-unused-result -Wsign-compare -DDYNAMIC_ANNOTATIONS_ENABLED=1 -DNDEBUG -O2 -fexceptions -g -grecord-gcc-switches -pipe -Wall -Werror=format-security -Wp,-D_FORTIFY_SOURCE=2 -Wp,-D_GLIBCXX_ASSERTIONS -fstack-protector-strong -m64 -mtune=generic -fasynchronous-unwind-tables -fstack-clash-protection -fcf-protection -D_GNU_SOURCE -fPIC -fwrapv -O2 -fexceptions -g -grecord-gcc-switches -pipe -Wall -Werror=format-security -Wp,-D_FORTIFY_SOURCE=2 -Wp,-D_GLIBCXX_ASSERTIONS -fstack-protector-strong -m64 -mtune=generic -fasynchronous-unwind-tables -fstack-clash-protection -fcf-protection -D_GNU_SOURCE -fPIC -fwrapv -O2 -fexceptions -g -grecord-gcc-switches -pipe -Wall -Werror=format-security -Wp,-D_FORTIFY_SOURCE=2 -Wp,-D_GLIBCXX_ASSERTIONS -fstack-protector-strong -m64 -mtune=generic -fasynchronous-unwind-tables -fstack-clash-protection -fcf-protection -D_GNU_SOURCE -fPIC -fwrapv -fPIC -Imarisa-trie/include -I/usr/include/python3.9 -c src/iostream.cpp -o build/temp.linux-x86_64-3.9/src/iostream.o\r\n",
      "    gcc -pthread -Wno-unused-result -Wsign-compare -DDYNAMIC_ANNOTATIONS_ENABLED=1 -DNDEBUG -O2 -fexceptions -g -grecord-gcc-switches -pipe -Wall -Werror=format-security -Wp,-D_FORTIFY_SOURCE=2 -Wp,-D_GLIBCXX_ASSERTIONS -fstack-protector-strong -m64 -mtune=generic -fasynchronous-unwind-tables -fstack-clash-protection -fcf-protection -D_GNU_SOURCE -fPIC -fwrapv -O2 -fexceptions -g -grecord-gcc-switches -pipe -Wall -Werror=format-security -Wp,-D_FORTIFY_SOURCE=2 -Wp,-D_GLIBCXX_ASSERTIONS -fstack-protector-strong -m64 -mtune=generic -fasynchronous-unwind-tables -fstack-clash-protection -fcf-protection -D_GNU_SOURCE -fPIC -fwrapv -O2 -fexceptions -g -grecord-gcc-switches -pipe -Wall -Werror=format-security -Wp,-D_FORTIFY_SOURCE=2 -Wp,-D_GLIBCXX_ASSERTIONS -fstack-protector-strong -m64 -mtune=generic -fasynchronous-unwind-tables -fstack-clash-protection -fcf-protection -D_GNU_SOURCE -fPIC -fwrapv -fPIC -Imarisa-trie/include -I/usr/include/python3.9 -c src/key.cpp -o build/temp.linux-x86_64-3.9/src/key.o\r\n",
      "    gcc -pthread -Wno-unused-result -Wsign-compare -DDYNAMIC_ANNOTATIONS_ENABLED=1 -DNDEBUG -O2 -fexceptions -g -grecord-gcc-switches -pipe -Wall -Werror=format-security -Wp,-D_FORTIFY_SOURCE=2 -Wp,-D_GLIBCXX_ASSERTIONS -fstack-protector-strong -m64 -mtune=generic -fasynchronous-unwind-tables -fstack-clash-protection -fcf-protection -D_GNU_SOURCE -fPIC -fwrapv -O2 -fexceptions -g -grecord-gcc-switches -pipe -Wall -Werror=format-security -Wp,-D_FORTIFY_SOURCE=2 -Wp,-D_GLIBCXX_ASSERTIONS -fstack-protector-strong -m64 -mtune=generic -fasynchronous-unwind-tables -fstack-clash-protection -fcf-protection -D_GNU_SOURCE -fPIC -fwrapv -O2 -fexceptions -g -grecord-gcc-switches -pipe -Wall -Werror=format-security -Wp,-D_FORTIFY_SOURCE=2 -Wp,-D_GLIBCXX_ASSERTIONS -fstack-protector-strong -m64 -mtune=generic -fasynchronous-unwind-tables -fstack-clash-protection -fcf-protection -D_GNU_SOURCE -fPIC -fwrapv -fPIC -Imarisa-trie/include -I/usr/include/python3.9 -c src/keyset.cpp -o build/temp.linux-x86_64-3.9/src/keyset.o\r\n",
      "    gcc -pthread -Wno-unused-result -Wsign-compare -DDYNAMIC_ANNOTATIONS_ENABLED=1 -DNDEBUG -O2 -fexceptions -g -grecord-gcc-switches -pipe -Wall -Werror=format-security -Wp,-D_FORTIFY_SOURCE=2 -Wp,-D_GLIBCXX_ASSERTIONS -fstack-protector-strong -m64 -mtune=generic -fasynchronous-unwind-tables -fstack-clash-protection -fcf-protection -D_GNU_SOURCE -fPIC -fwrapv -O2 -fexceptions -g -grecord-gcc-switches -pipe -Wall -Werror=format-security -Wp,-D_FORTIFY_SOURCE=2 -Wp,-D_GLIBCXX_ASSERTIONS -fstack-protector-strong -m64 -mtune=generic -fasynchronous-unwind-tables -fstack-clash-protection -fcf-protection -D_GNU_SOURCE -fPIC -fwrapv -O2 -fexceptions -g -grecord-gcc-switches -pipe -Wall -Werror=format-security -Wp,-D_FORTIFY_SOURCE=2 -Wp,-D_GLIBCXX_ASSERTIONS -fstack-protector-strong -m64 -mtune=generic -fasynchronous-unwind-tables -fstack-clash-protection -fcf-protection -D_GNU_SOURCE -fPIC -fwrapv -fPIC -Imarisa-trie/include -I/usr/include/python3.9 -c src/marisa_trie.cpp -o build/temp.linux-x86_64-3.9/src/marisa_trie.o\r\n",
      "    src/marisa_trie.cpp: In function ‘int __Pyx_modinit_type_init_code()’:\r\n",
      "    src/marisa_trie.cpp:17944:34: error: ‘PyTypeObject’ {aka ‘struct _typeobject’} has no member named ‘tp_print’\r\n",
      "    17944 |   __pyx_type_11marisa_trie__Trie.tp_print = 0;\r\n",
      "          |                                  ^~~~~~~~\r\n",
      "    src/marisa_trie.cpp:17968:39: error: ‘PyTypeObject’ {aka ‘struct _typeobject’} has no member named ‘tp_print’\r\n",
      "    17968 |   __pyx_type_11marisa_trie_BinaryTrie.tp_print = 0;\r\n",
      "          |                                       ^~~~~~~~\r\n",
      "    src/marisa_trie.cpp:17981:46: error: ‘PyTypeObject’ {aka ‘struct _typeobject’} has no member named ‘tp_print’\r\n",
      "    17981 |   __pyx_type_11marisa_trie__UnicodeKeyedTrie.tp_print = 0;\r\n",
      "          |                                              ^~~~~~~~\r\n",
      "    src/marisa_trie.cpp:17995:33: error: ‘PyTypeObject’ {aka ‘struct _typeobject’} has no member named ‘tp_print’\r\n",
      "    17995 |   __pyx_type_11marisa_trie_Trie.tp_print = 0;\r\n",
      "          |                                 ^~~~~~~~\r\n",
      "    src/marisa_trie.cpp:18014:38: error: ‘PyTypeObject’ {aka ‘struct _typeobject’} has no member named ‘tp_print’\r\n",
      "    18014 |   __pyx_type_11marisa_trie_BytesTrie.tp_print = 0;\r\n",
      "          |                                      ^~~~~~~~\r\n",
      "    src/marisa_trie.cpp:18039:40: error: ‘PyTypeObject’ {aka ‘struct _typeobject’} has no member named ‘tp_print’\r\n",
      "    18039 |   __pyx_type_11marisa_trie__UnpackTrie.tp_print = 0;\r\n",
      "          |                                        ^~~~~~~~\r\n",
      "    src/marisa_trie.cpp:18052:39: error: ‘PyTypeObject’ {aka ‘struct _typeobject’} has no member named ‘tp_print’\r\n",
      "    18052 |   __pyx_type_11marisa_trie_RecordTrie.tp_print = 0;\r\n",
      "          |                                       ^~~~~~~~\r\n",
      "    src/marisa_trie.cpp:18070:57: error: ‘PyTypeObject’ {aka ‘struct _typeobject’} has no member named ‘tp_print’\r\n",
      "    18070 |   __pyx_type_11marisa_trie___pyx_scope_struct____init__.tp_print = 0;\r\n",
      "          |                                                         ^~~~~~~~\r\n",
      "    src/marisa_trie.cpp:18076:57: error: ‘PyTypeObject’ {aka ‘struct _typeobject’} has no member named ‘tp_print’\r\n",
      "    18076 |   __pyx_type_11marisa_trie___pyx_scope_struct_1_genexpr.tp_print = 0;\r\n",
      "          |                                                         ^~~~~~~~\r\n",
      "    src/marisa_trie.cpp:18082:58: error: ‘PyTypeObject’ {aka ‘struct _typeobject’} has no member named ‘tp_print’\r\n",
      "    18082 |   __pyx_type_11marisa_trie___pyx_scope_struct_2_iterkeys.tp_print = 0;\r\n",
      "          |                                                          ^~~~~~~~\r\n",
      "    src/marisa_trie.cpp:18088:63: error: ‘PyTypeObject’ {aka ‘struct _typeobject’} has no member named ‘tp_print’\r\n",
      "    18088 |   __pyx_type_11marisa_trie___pyx_scope_struct_3_iter_prefixes.tp_print = 0;\r\n",
      "          |                                                               ^~~~~~~~\r\n",
      "    src/marisa_trie.cpp:18094:59: error: ‘PyTypeObject’ {aka ‘struct _typeobject’} has no member named ‘tp_print’\r\n",
      "    18094 |   __pyx_type_11marisa_trie___pyx_scope_struct_4_iteritems.tp_print = 0;\r\n",
      "          |                                                           ^~~~~~~~\r\n",
      "    src/marisa_trie.cpp:18100:63: error: ‘PyTypeObject’ {aka ‘struct _typeobject’} has no member named ‘tp_print’\r\n",
      "    18100 |   __pyx_type_11marisa_trie___pyx_scope_struct_5_iter_prefixes.tp_print = 0;\r\n",
      "          |                                                               ^~~~~~~~\r\n",
      "    src/marisa_trie.cpp:18106:59: error: ‘PyTypeObject’ {aka ‘struct _typeobject’} has no member named ‘tp_print’\r\n",
      "    18106 |   __pyx_type_11marisa_trie___pyx_scope_struct_6_iteritems.tp_print = 0;\r\n",
      "          |                                                           ^~~~~~~~\r\n",
      "    src/marisa_trie.cpp:18112:58: error: ‘PyTypeObject’ {aka ‘struct _typeobject’} has no member named ‘tp_print’\r\n",
      "    18112 |   __pyx_type_11marisa_trie___pyx_scope_struct_7___init__.tp_print = 0;\r\n",
      "          |                                                          ^~~~~~~~\r\n",
      "    src/marisa_trie.cpp:18118:57: error: ‘PyTypeObject’ {aka ‘struct _typeobject’} has no member named ‘tp_print’\r\n",
      "    18118 |   __pyx_type_11marisa_trie___pyx_scope_struct_8_genexpr.tp_print = 0;\r\n",
      "          |                                                         ^~~~~~~~\r\n",
      "    src/marisa_trie.cpp:18124:59: error: ‘PyTypeObject’ {aka ‘struct _typeobject’} has no member named ‘tp_print’\r\n",
      "    18124 |   __pyx_type_11marisa_trie___pyx_scope_struct_9_iteritems.tp_print = 0;\r\n",
      "          |                                                           ^~~~~~~~\r\n",
      "    src/marisa_trie.cpp:18130:59: error: ‘PyTypeObject’ {aka ‘struct _typeobject’} has no member named ‘tp_print’\r\n",
      "    18130 |   __pyx_type_11marisa_trie___pyx_scope_struct_10_iterkeys.tp_print = 0;\r\n",
      "          |                                                           ^~~~~~~~\r\n",
      "    src/marisa_trie.cpp:18136:59: error: ‘PyTypeObject’ {aka ‘struct _typeobject’} has no member named ‘tp_print’\r\n",
      "    18136 |   __pyx_type_11marisa_trie___pyx_scope_struct_11___init__.tp_print = 0;\r\n",
      "          |                                                           ^~~~~~~~\r\n",
      "    src/marisa_trie.cpp:18142:58: error: ‘PyTypeObject’ {aka ‘struct _typeobject’} has no member named ‘tp_print’\r\n",
      "    18142 |   __pyx_type_11marisa_trie___pyx_scope_struct_12_genexpr.tp_print = 0;\r\n",
      "          |                                                          ^~~~~~~~\r\n",
      "    src/marisa_trie.cpp:18148:60: error: ‘PyTypeObject’ {aka ‘struct _typeobject’} has no member named ‘tp_print’\r\n",
      "    18148 |   __pyx_type_11marisa_trie___pyx_scope_struct_13_iteritems.tp_print = 0;\r\n",
      "          |                                                            ^~~~~~~~\r\n",
      "    src/marisa_trie.cpp:18154:58: error: ‘PyTypeObject’ {aka ‘struct _typeobject’} has no member named ‘tp_print’\r\n",
      "    18154 |   __pyx_type_11marisa_trie___pyx_scope_struct_14_genexpr.tp_print = 0;\r\n",
      "          |                                                          ^~~~~~~~\r\n",
      "    In file included from /usr/include/python3.9/unicodeobject.h:1026,\r\n",
      "                     from /usr/include/python3.9/Python.h:97,\r\n",
      "                     from src/marisa_trie.cpp:4:\r\n",
      "    src/marisa_trie.cpp: In function ‘int __Pyx_ParseOptionalKeywords(PyObject*, PyObject***, PyObject*, PyObject**, Py_ssize_t, const char*)’:\r\n",
      "    /usr/include/python3.9/cpython/unicodeobject.h:451:75: warning: ‘Py_ssize_t _PyUnicode_get_wstr_length(PyObject*)’ is deprecated [-Wdeprecated-declarations]\r\n",
      "      451 | #define PyUnicode_WSTR_LENGTH(op) _PyUnicode_get_wstr_length((PyObject*)op)\r\n",
      "          |                                                                           ^\r\n",
      "    /usr/include/python3.9/cpython/unicodeobject.h:261:7: note: in expansion of macro ‘PyUnicode_WSTR_LENGTH’\r\n",
      "      261 |       PyUnicode_WSTR_LENGTH(op) :                    \\\r\n",
      "          |       ^~~~~~~~~~~~~~~~~~~~~\r\n",
      "    src/marisa_trie.cpp:18940:22: note: in expansion of macro ‘PyUnicode_GET_SIZE’\r\n",
      "    18940 |                     (PyUnicode_GET_SIZE(**name) != PyUnicode_GET_SIZE(key)) ? 1 :\r\n",
      "          |                      ^~~~~~~~~~~~~~~~~~\r\n",
      "    /usr/include/python3.9/cpython/unicodeobject.h:446:26: note: declared here\r\n",
      "      446 | static inline Py_ssize_t _PyUnicode_get_wstr_length(PyObject *op) {\r\n",
      "          |                          ^~~~~~~~~~~~~~~~~~~~~~~~~~\r\n",
      "    /usr/include/python3.9/cpython/unicodeobject.h:262:52: warning: ‘Py_UNICODE* PyUnicode_AsUnicode(PyObject*)’ is deprecated [-Wdeprecated-declarations]\r\n",
      "      262 |       ((void)PyUnicode_AsUnicode(_PyObject_CAST(op)),\\\r\n",
      "          |                                                    ^\r\n",
      "    src/marisa_trie.cpp:18940:22: note: in expansion of macro ‘PyUnicode_GET_SIZE’\r\n",
      "    18940 |                     (PyUnicode_GET_SIZE(**name) != PyUnicode_GET_SIZE(key)) ? 1 :\r\n",
      "          |                      ^~~~~~~~~~~~~~~~~~\r\n",
      "    /usr/include/python3.9/cpython/unicodeobject.h:580:45: note: declared here\r\n",
      "      580 | Py_DEPRECATED(3.3) PyAPI_FUNC(Py_UNICODE *) PyUnicode_AsUnicode(\r\n",
      "          |                                             ^~~~~~~~~~~~~~~~~~~\r\n",
      "    /usr/include/python3.9/cpython/unicodeobject.h:451:75: warning: ‘Py_ssize_t _PyUnicode_get_wstr_length(PyObject*)’ is deprecated [-Wdeprecated-declarations]\r\n",
      "      451 | #define PyUnicode_WSTR_LENGTH(op) _PyUnicode_get_wstr_length((PyObject*)op)\r\n",
      "          |                                                                           ^\r\n",
      "    /usr/include/python3.9/cpython/unicodeobject.h:264:8: note: in expansion of macro ‘PyUnicode_WSTR_LENGTH’\r\n",
      "      264 |        PyUnicode_WSTR_LENGTH(op)))\r\n",
      "          |        ^~~~~~~~~~~~~~~~~~~~~\r\n",
      "    src/marisa_trie.cpp:18940:22: note: in expansion of macro ‘PyUnicode_GET_SIZE’\r\n",
      "    18940 |                     (PyUnicode_GET_SIZE(**name) != PyUnicode_GET_SIZE(key)) ? 1 :\r\n",
      "          |                      ^~~~~~~~~~~~~~~~~~\r\n",
      "    /usr/include/python3.9/cpython/unicodeobject.h:446:26: note: declared here\r\n",
      "      446 | static inline Py_ssize_t _PyUnicode_get_wstr_length(PyObject *op) {\r\n",
      "          |                          ^~~~~~~~~~~~~~~~~~~~~~~~~~\r\n",
      "    /usr/include/python3.9/cpython/unicodeobject.h:451:75: warning: ‘Py_ssize_t _PyUnicode_get_wstr_length(PyObject*)’ is deprecated [-Wdeprecated-declarations]\r\n",
      "      451 | #define PyUnicode_WSTR_LENGTH(op) _PyUnicode_get_wstr_length((PyObject*)op)\r\n",
      "          |                                                                           ^\r\n",
      "    /usr/include/python3.9/cpython/unicodeobject.h:261:7: note: in expansion of macro ‘PyUnicode_WSTR_LENGTH’\r\n",
      "      261 |       PyUnicode_WSTR_LENGTH(op) :                    \\\r\n",
      "          |       ^~~~~~~~~~~~~~~~~~~~~\r\n",
      "    src/marisa_trie.cpp:18940:52: note: in expansion of macro ‘PyUnicode_GET_SIZE’\r\n",
      "    18940 |                     (PyUnicode_GET_SIZE(**name) != PyUnicode_GET_SIZE(key)) ? 1 :\r\n",
      "          |                                                    ^~~~~~~~~~~~~~~~~~\r\n",
      "    /usr/include/python3.9/cpython/unicodeobject.h:446:26: note: declared here\r\n",
      "      446 | static inline Py_ssize_t _PyUnicode_get_wstr_length(PyObject *op) {\r\n",
      "          |                          ^~~~~~~~~~~~~~~~~~~~~~~~~~\r\n",
      "    /usr/include/python3.9/cpython/unicodeobject.h:262:52: warning: ‘Py_UNICODE* PyUnicode_AsUnicode(PyObject*)’ is deprecated [-Wdeprecated-declarations]\r\n",
      "      262 |       ((void)PyUnicode_AsUnicode(_PyObject_CAST(op)),\\\r\n",
      "          |                                                    ^\r\n",
      "    src/marisa_trie.cpp:18940:52: note: in expansion of macro ‘PyUnicode_GET_SIZE’\r\n",
      "    18940 |                     (PyUnicode_GET_SIZE(**name) != PyUnicode_GET_SIZE(key)) ? 1 :\r\n",
      "          |                                                    ^~~~~~~~~~~~~~~~~~\r\n",
      "    /usr/include/python3.9/cpython/unicodeobject.h:580:45: note: declared here\r\n",
      "      580 | Py_DEPRECATED(3.3) PyAPI_FUNC(Py_UNICODE *) PyUnicode_AsUnicode(\r\n",
      "          |                                             ^~~~~~~~~~~~~~~~~~~\r\n",
      "    /usr/include/python3.9/cpython/unicodeobject.h:451:75: warning: ‘Py_ssize_t _PyUnicode_get_wstr_length(PyObject*)’ is deprecated [-Wdeprecated-declarations]\r\n",
      "      451 | #define PyUnicode_WSTR_LENGTH(op) _PyUnicode_get_wstr_length((PyObject*)op)\r\n",
      "          |                                                                           ^\r\n",
      "    /usr/include/python3.9/cpython/unicodeobject.h:264:8: note: in expansion of macro ‘PyUnicode_WSTR_LENGTH’\r\n",
      "      264 |        PyUnicode_WSTR_LENGTH(op)))\r\n",
      "          |        ^~~~~~~~~~~~~~~~~~~~~\r\n",
      "    src/marisa_trie.cpp:18940:52: note: in expansion of macro ‘PyUnicode_GET_SIZE’\r\n",
      "    18940 |                     (PyUnicode_GET_SIZE(**name) != PyUnicode_GET_SIZE(key)) ? 1 :\r\n",
      "          |                                                    ^~~~~~~~~~~~~~~~~~\r\n",
      "    /usr/include/python3.9/cpython/unicodeobject.h:446:26: note: declared here\r\n",
      "      446 | static inline Py_ssize_t _PyUnicode_get_wstr_length(PyObject *op) {\r\n",
      "          |                          ^~~~~~~~~~~~~~~~~~~~~~~~~~\r\n",
      "    /usr/include/python3.9/cpython/unicodeobject.h:451:75: warning: ‘Py_ssize_t _PyUnicode_get_wstr_length(PyObject*)’ is deprecated [-Wdeprecated-declarations]\r\n",
      "      451 | #define PyUnicode_WSTR_LENGTH(op) _PyUnicode_get_wstr_length((PyObject*)op)\r\n",
      "          |                                                                           ^\r\n",
      "    /usr/include/python3.9/cpython/unicodeobject.h:261:7: note: in expansion of macro ‘PyUnicode_WSTR_LENGTH’\r\n",
      "      261 |       PyUnicode_WSTR_LENGTH(op) :                    \\\r\n",
      "          |       ^~~~~~~~~~~~~~~~~~~~~\r\n",
      "    src/marisa_trie.cpp:18956:26: note: in expansion of macro ‘PyUnicode_GET_SIZE’\r\n",
      "    18956 |                         (PyUnicode_GET_SIZE(**argname) != PyUnicode_GET_SIZE(key)) ? 1 :\r\n",
      "          |                          ^~~~~~~~~~~~~~~~~~\r\n",
      "    /usr/include/python3.9/cpython/unicodeobject.h:446:26: note: declared here\r\n",
      "      446 | static inline Py_ssize_t _PyUnicode_get_wstr_length(PyObject *op) {\r\n",
      "          |                          ^~~~~~~~~~~~~~~~~~~~~~~~~~\r\n",
      "    /usr/include/python3.9/cpython/unicodeobject.h:262:52: warning: ‘Py_UNICODE* PyUnicode_AsUnicode(PyObject*)’ is deprecated [-Wdeprecated-declarations]\r\n",
      "      262 |       ((void)PyUnicode_AsUnicode(_PyObject_CAST(op)),\\\r\n",
      "          |                                                    ^\r\n",
      "    src/marisa_trie.cpp:18956:26: note: in expansion of macro ‘PyUnicode_GET_SIZE’\r\n",
      "    18956 |                         (PyUnicode_GET_SIZE(**argname) != PyUnicode_GET_SIZE(key)) ? 1 :\r\n",
      "          |                          ^~~~~~~~~~~~~~~~~~\r\n",
      "    /usr/include/python3.9/cpython/unicodeobject.h:580:45: note: declared here\r\n",
      "      580 | Py_DEPRECATED(3.3) PyAPI_FUNC(Py_UNICODE *) PyUnicode_AsUnicode(\r\n",
      "          |                                             ^~~~~~~~~~~~~~~~~~~\r\n",
      "    /usr/include/python3.9/cpython/unicodeobject.h:451:75: warning: ‘Py_ssize_t _PyUnicode_get_wstr_length(PyObject*)’ is deprecated [-Wdeprecated-declarations]\r\n",
      "      451 | #define PyUnicode_WSTR_LENGTH(op) _PyUnicode_get_wstr_length((PyObject*)op)\r\n",
      "          |                                                                           ^\r\n",
      "    /usr/include/python3.9/cpython/unicodeobject.h:264:8: note: in expansion of macro ‘PyUnicode_WSTR_LENGTH’\r\n",
      "      264 |        PyUnicode_WSTR_LENGTH(op)))\r\n",
      "          |        ^~~~~~~~~~~~~~~~~~~~~\r\n",
      "    src/marisa_trie.cpp:18956:26: note: in expansion of macro ‘PyUnicode_GET_SIZE’\r\n",
      "    18956 |                         (PyUnicode_GET_SIZE(**argname) != PyUnicode_GET_SIZE(key)) ? 1 :\r\n",
      "          |                          ^~~~~~~~~~~~~~~~~~\r\n",
      "    /usr/include/python3.9/cpython/unicodeobject.h:446:26: note: declared here\r\n",
      "      446 | static inline Py_ssize_t _PyUnicode_get_wstr_length(PyObject *op) {\r\n",
      "          |                          ^~~~~~~~~~~~~~~~~~~~~~~~~~\r\n",
      "    /usr/include/python3.9/cpython/unicodeobject.h:451:75: warning: ‘Py_ssize_t _PyUnicode_get_wstr_length(PyObject*)’ is deprecated [-Wdeprecated-declarations]\r\n",
      "      451 | #define PyUnicode_WSTR_LENGTH(op) _PyUnicode_get_wstr_length((PyObject*)op)\r\n",
      "          |                                                                           ^\r\n",
      "    /usr/include/python3.9/cpython/unicodeobject.h:261:7: note: in expansion of macro ‘PyUnicode_WSTR_LENGTH’\r\n",
      "      261 |       PyUnicode_WSTR_LENGTH(op) :                    \\\r\n",
      "          |       ^~~~~~~~~~~~~~~~~~~~~\r\n",
      "    src/marisa_trie.cpp:18956:59: note: in expansion of macro ‘PyUnicode_GET_SIZE’\r\n",
      "    18956 |                         (PyUnicode_GET_SIZE(**argname) != PyUnicode_GET_SIZE(key)) ? 1 :\r\n",
      "          |                                                           ^~~~~~~~~~~~~~~~~~\r\n",
      "    /usr/include/python3.9/cpython/unicodeobject.h:446:26: note: declared here\r\n",
      "      446 | static inline Py_ssize_t _PyUnicode_get_wstr_length(PyObject *op) {\r\n",
      "          |                          ^~~~~~~~~~~~~~~~~~~~~~~~~~\r\n",
      "    /usr/include/python3.9/cpython/unicodeobject.h:262:52: warning: ‘Py_UNICODE* PyUnicode_AsUnicode(PyObject*)’ is deprecated [-Wdeprecated-declarations]\r\n",
      "      262 |       ((void)PyUnicode_AsUnicode(_PyObject_CAST(op)),\\\r\n",
      "          |                                                    ^\r\n",
      "    src/marisa_trie.cpp:18956:59: note: in expansion of macro ‘PyUnicode_GET_SIZE’\r\n",
      "    18956 |                         (PyUnicode_GET_SIZE(**argname) != PyUnicode_GET_SIZE(key)) ? 1 :\r\n",
      "          |                                                           ^~~~~~~~~~~~~~~~~~\r\n",
      "    /usr/include/python3.9/cpython/unicodeobject.h:580:45: note: declared here\r\n",
      "      580 | Py_DEPRECATED(3.3) PyAPI_FUNC(Py_UNICODE *) PyUnicode_AsUnicode(\r\n",
      "          |                                             ^~~~~~~~~~~~~~~~~~~\r\n",
      "    /usr/include/python3.9/cpython/unicodeobject.h:451:75: warning: ‘Py_ssize_t _PyUnicode_get_wstr_length(PyObject*)’ is deprecated [-Wdeprecated-declarations]\r\n",
      "      451 | #define PyUnicode_WSTR_LENGTH(op) _PyUnicode_get_wstr_length((PyObject*)op)\r\n",
      "          |                                                                           ^\r\n",
      "    /usr/include/python3.9/cpython/unicodeobject.h:264:8: note: in expansion of macro ‘PyUnicode_WSTR_LENGTH’\r\n",
      "      264 |        PyUnicode_WSTR_LENGTH(op)))\r\n",
      "          |        ^~~~~~~~~~~~~~~~~~~~~\r\n",
      "    src/marisa_trie.cpp:18956:59: note: in expansion of macro ‘PyUnicode_GET_SIZE’\r\n",
      "    18956 |                         (PyUnicode_GET_SIZE(**argname) != PyUnicode_GET_SIZE(key)) ? 1 :\r\n",
      "          |                                                           ^~~~~~~~~~~~~~~~~~\r\n",
      "    /usr/include/python3.9/cpython/unicodeobject.h:446:26: note: declared here\r\n",
      "      446 | static inline Py_ssize_t _PyUnicode_get_wstr_length(PyObject *op) {\r\n",
      "          |                          ^~~~~~~~~~~~~~~~~~~~~~~~~~\r\n",
      "    src/marisa_trie.cpp: In function ‘PyObject* __Pyx_PyUnicode_Substring(PyObject*, Py_ssize_t, Py_ssize_t)’:\r\n",
      "    src/marisa_trie.cpp:20109:45: warning: ‘PyObject* PyUnicode_FromUnicode(const Py_UNICODE*, Py_ssize_t)’ is deprecated [-Wdeprecated-declarations]\r\n",
      "    20109 |         return PyUnicode_FromUnicode(NULL, 0);\r\n",
      "          |                                             ^\r\n",
      "    In file included from /usr/include/python3.9/unicodeobject.h:1026,\r\n",
      "                     from /usr/include/python3.9/Python.h:97,\r\n",
      "                     from src/marisa_trie.cpp:4:\r\n",
      "    /usr/include/python3.9/cpython/unicodeobject.h:551:42: note: declared here\r\n",
      "      551 | Py_DEPRECATED(3.3) PyAPI_FUNC(PyObject*) PyUnicode_FromUnicode(\r\n",
      "          |                                          ^~~~~~~~~~~~~~~~~~~~~\r\n",
      "    src/marisa_trie.cpp: In function ‘PyObject* __Pyx_decode_c_string(const char*, Py_ssize_t, Py_ssize_t, const char*, const char*, PyObject* (*)(const char*, Py_ssize_t, const char*))’:\r\n",
      "    src/marisa_trie.cpp:20142:45: warning: ‘PyObject* PyUnicode_FromUnicode(const Py_UNICODE*, Py_ssize_t)’ is deprecated [-Wdeprecated-declarations]\r\n",
      "    20142 |         return PyUnicode_FromUnicode(NULL, 0);\r\n",
      "          |                                             ^\r\n",
      "    In file included from /usr/include/python3.9/unicodeobject.h:1026,\r\n",
      "                     from /usr/include/python3.9/Python.h:97,\r\n",
      "                     from src/marisa_trie.cpp:4:\r\n",
      "    /usr/include/python3.9/cpython/unicodeobject.h:551:42: note: declared here\r\n",
      "      551 | Py_DEPRECATED(3.3) PyAPI_FUNC(PyObject*) PyUnicode_FromUnicode(\r\n",
      "          |                                          ^~~~~~~~~~~~~~~~~~~~~\r\n",
      "    error: command '/usr/bin/gcc' failed with exit code 1\r\n",
      "    ----------------------------------------\u001b[0m\r\n",
      "\u001b[31mERROR: Command errored out with exit status 1: /usr/bin/python3 -u -c 'import sys, setuptools, tokenize; sys.argv[0] = '\"'\"'/tmp/pip-install-99zap_hu/marisa-trie/setup.py'\"'\"'; __file__='\"'\"'/tmp/pip-install-99zap_hu/marisa-trie/setup.py'\"'\"';f=getattr(tokenize, '\"'\"'open'\"'\"', open)(__file__);code=f.read().replace('\"'\"'\\r\\n'\"'\"', '\"'\"'\\n'\"'\"');f.close();exec(compile(code, __file__, '\"'\"'exec'\"'\"'))' install --record /tmp/pip-record-7v4xvaw2/install-record.txt --single-version-externally-managed --user --prefix= --compile --install-headers /home/fils/.local/include/python3.9/marisa-trie Check the logs for full command output.\u001b[0m\r\n"
     ]
    }
   ],
   "source": [
    "#%%quiet\n",
    "#!pip install -q gastrodon\n",
    "#!pip install -q ontospy\n",
    "!pip install -q anytree\n",
    "!pip install -q PyJSONViewer\n",
    "!pip install -q ConceptNet\n",
    "!pip install -q qwikidata\n",
    "!pip install -q SPARQLWrapper\n",
    "!pip install -q Wikidata\n",
    "!pip install -q pySHACL\n",
    "!pip install -q 'PyLD>=2.0.3'\n",
    "!pip install -q rdflib"
   ]
  },
  {
   "cell_type": "markdown",
   "metadata": {
    "id": "8iMVv0tthSlV"
   },
   "source": [
    "### imports"
   ]
  },
  {
   "cell_type": "code",
   "execution_count": 2,
   "metadata": {
    "id": "BohOcHK0_YB2"
   },
   "outputs": [
    {
     "ename": "ModuleNotFoundError",
     "evalue": "No module named 'conceptnet5'",
     "output_type": "error",
     "traceback": [
      "\u001b[0;31m---------------------------------------------------------------------------\u001b[0m",
      "\u001b[0;31mModuleNotFoundError\u001b[0m                       Traceback (most recent call last)",
      "\u001b[0;32m<ipython-input-2-05965b657363>\u001b[0m in \u001b[0;36m<module>\u001b[0;34m\u001b[0m\n\u001b[1;32m     25\u001b[0m \u001b[0;31m# concept net\u001b[0m\u001b[0;34m\u001b[0m\u001b[0;34m\u001b[0m\u001b[0;34m\u001b[0m\u001b[0m\n\u001b[1;32m     26\u001b[0m \u001b[0;32mimport\u001b[0m \u001b[0mgraphviz\u001b[0m\u001b[0;34m\u001b[0m\u001b[0;34m\u001b[0m\u001b[0m\n\u001b[0;32m---> 27\u001b[0;31m \u001b[0;32mfrom\u001b[0m \u001b[0mconceptnet5\u001b[0m\u001b[0;34m.\u001b[0m\u001b[0muri\u001b[0m \u001b[0;32mimport\u001b[0m \u001b[0mjoin_uri\u001b[0m\u001b[0;34m,\u001b[0m \u001b[0msplit_uri\u001b[0m\u001b[0;34m\u001b[0m\u001b[0;34m\u001b[0m\u001b[0m\n\u001b[0m\u001b[1;32m     28\u001b[0m \u001b[0mAPI_ROOT\u001b[0m \u001b[0;34m=\u001b[0m \u001b[0;34m'http://api.conceptnet.io'\u001b[0m\u001b[0;34m\u001b[0m\u001b[0;34m\u001b[0m\u001b[0m\n\u001b[1;32m     29\u001b[0m \u001b[0;34m\u001b[0m\u001b[0m\n",
      "\u001b[0;31mModuleNotFoundError\u001b[0m: No module named 'conceptnet5'"
     ]
    }
   ],
   "source": [
    "#@title\n",
    "# General imports\n",
    "import json\n",
    "import rdflib\n",
    "import requests\n",
    "from rdflib import Graph, plugin\n",
    "from rdflib.serializer import Serializer\n",
    "from bs4 import BeautifulSoup\n",
    "import urllib.request\n",
    "\n",
    "from rdflib.extras.external_graph_libs import rdflib_to_networkx_multidigraph\n",
    "from rdflib.extras.external_graph_libs import rdflib_to_networkx_graph\n",
    "import networkx as nx\n",
    "from networkx import Graph as NXGraph\n",
    "import matplotlib.pyplot as plt\n",
    "import statistics\n",
    "import collections\n",
    "\n",
    "# for JSON-LD work\n",
    "from pyld import jsonld\n",
    "\n",
    "# For SHACL\n",
    "from pyshacl import validate\n",
    "\n",
    "# concept net\n",
    "import graphviz\n",
    "from conceptnet5.uri import join_uri, split_uri\n",
    "API_ROOT = 'http://api.conceptnet.io'\n",
    "\n"
   ]
  },
  {
   "cell_type": "markdown",
   "metadata": {
    "id": "vJ2M11uQhVWd"
   },
   "source": [
    "### functions"
   ]
  },
  {
   "cell_type": "code",
   "execution_count": null,
   "metadata": {
    "id": "iMoEhdove95_"
   },
   "outputs": [],
   "source": [
    "import graphviz\n",
    "from conceptnet5.uri import join_uri, split_uri\n",
    "API_ROOT = 'http://api.conceptnet.io'\n",
    "\n",
    "\n",
    "def short_name(value, max_length=40):\n",
    "    \"\"\"\n",
    "    Convert an RDF value (given as a dictionary) to a reasonable label.\n",
    "    \"\"\"\n",
    "    if value['type'] == 'blank node':\n",
    "        return '_'\n",
    "    elif value['type'] == 'IRI':    \n",
    "        url = value['value']\n",
    "        if '#' in url:\n",
    "            # Show just the fragment of URLs with a fragment\n",
    "            # (it's probably a property name)\n",
    "            return url.split('#')[-1]\n",
    "\n",
    "        # Give URLs relative to the root of our API\n",
    "        if url.startswith(API_ROOT):\n",
    "            short_url = url[len(API_ROOT):]\n",
    "            # If the URL is too long, hide it\n",
    "            if len(short_url) > max_length:\n",
    "                pieces = split_uri(short_url)\n",
    "                return join_uri(pieces[0], '...')\n",
    "            else:\n",
    "                return short_url\n",
    "        else:\n",
    "            return url.split('://')[-1]\n",
    "    else:\n",
    "        # Put literal values in quotes\n",
    "        text = value['value'].replace(':', '')\n",
    "        if len(text) > max_length:\n",
    "            text = text[:max_length] + '...'\n",
    "        return '\"{}\"'.format(text)\n",
    "\n",
    "    \n",
    "def show_graph(url, size=10):\n",
    "    \"\"\"\n",
    "    Show the graph structure of a ConceptNet API response.\n",
    "    \"\"\"\n",
    "    rdf = jsonld.normalize(url)['@default']\n",
    "    graph = graphviz.Digraph(\n",
    "        strict=False, graph_attr={'size': str(size), 'rankdir': 'LR'}\n",
    "    )\n",
    "    for edge in rdf:\n",
    "        subj = short_name(edge['subject'])\n",
    "        obj = short_name(edge['object'])\n",
    "        pred = short_name(edge['predicate'])\n",
    "        if subj and obj and pred:\n",
    "            # Apply different styles to the nodes based on whether they're\n",
    "            # literals, ConceptNet URLs, or other URLs\n",
    "            if obj.startswith('\"'):\n",
    "                # Literal values\n",
    "                graph.node(obj, penwidth='0')\n",
    "            elif obj.startswith('/'):\n",
    "                # ConceptNet nodes\n",
    "                graph.node(obj, style='filled', fillcolor=\"#ddeeff\")\n",
    "            else:\n",
    "                # Other URLs\n",
    "                graph.node(obj, color=\"#558855\")\n",
    "            graph.edge(subj, obj, label=pred)\n",
    "    \n",
    "    return graph"
   ]
  },
  {
   "cell_type": "code",
   "execution_count": null,
   "metadata": {
    "id": "9uiobfdGXp7z"
   },
   "outputs": [],
   "source": [
    "#@title\n",
    "def get_sparql_dataframe(service, query):\n",
    "    \"\"\"\n",
    "    Helper function to convert SPARQL results into a Pandas data frame.\n",
    "    \"\"\"\n",
    "    sparql = SPARQLWrapper(service)\n",
    "    sparql.setQuery(query)\n",
    "    sparql.setReturnFormat(JSON)\n",
    "    result = sparql.query()\n",
    "\n",
    "    processed_results = json.load(result.response)\n",
    "    cols = processed_results['head']['vars']\n",
    "\n",
    "    out = []\n",
    "    for row in processed_results['results']['bindings']:\n",
    "        item = []\n",
    "        for c in cols:\n",
    "            item.append(row.get(c, {}).get('value'))\n",
    "        out.append(item)\n",
    "\n",
    "    return pd.DataFrame(out, columns=cols)"
   ]
  },
  {
   "cell_type": "code",
   "execution_count": null,
   "metadata": {
    "colab": {
     "base_uri": "https://localhost:8080/"
    },
    "id": "Le0RbDzD-PIS",
    "outputId": "183d3fd3-b5dd-4c59-a16a-55c819f1265d"
   },
   "outputs": [
    {
     "name": "stdout",
     "output_type": "stream",
     "text": [
      "  % Total    % Received % Xferd  Average Speed   Time    Time     Time  Current\n",
      "                                 Dload  Upload   Total   Spent    Left  Speed\n",
      "100 10129  100 10129    0     0  49896      0 --:--:-- --:--:-- --:--:-- 49651\n"
     ]
    }
   ],
   "source": [
    "# Fetch a single <1MB file using the raw GitHub URL.\n",
    "!curl --remote-name \\\n",
    "     --location https://raw.githubusercontent.com/ESIPFed/science-on-schema.org/master/examples/dataset/full.jsonld"
   ]
  },
  {
   "cell_type": "markdown",
   "metadata": {
    "id": "8-_Lt6JgkfFB"
   },
   "source": [
    "## Editor playground"
   ]
  },
  {
   "cell_type": "code",
   "execution_count": null,
   "metadata": {
    "colab": {
     "base_uri": "https://localhost:8080/"
    },
    "id": "8rPpCC08kcZ8",
    "outputId": "cc8d3b04-3224-4c0e-f0a2-4d95f97d48ed"
   },
   "outputs": [
    {
     "data": {
      "text/plain": [
       "{'@context': {'@vocab': 'https://schema.org/'},\n",
       " '@id': 'https://example.org/id/XYZ',\n",
       " '@type': 'CreativeWork',\n",
       " 'description': 'Description of the creative work to aid in searching',\n",
       " 'name': 'Name or title of the document',\n",
       " 'url': 'https://www.sample-data-repository.org/creativework/report.pdf'}"
      ]
     },
     "execution_count": 24,
     "metadata": {
      "tags": []
     },
     "output_type": "execute_result"
    }
   ],
   "source": [
    "{\r\n",
    "    \"@context\": {\r\n",
    "        \"@vocab\": \"https://schema.org/\"\r\n",
    "    },\r\n",
    "    \"@type\": \"CreativeWork\",\r\n",
    "    \"@id\": \"https://example.org/id/XYZ\",\r\n",
    "    \"name\": \"Name or title of the document\",\r\n",
    "    \"description\": \"Description of the creative work to aid in searching\",\r\n",
    "    \"url\":  \"https://www.sample-data-repository.org/creativework/report.pdf\"\r\n",
    "}"
   ]
  },
  {
   "cell_type": "markdown",
   "metadata": {
    "id": "_jjBEOLKJNsY"
   },
   "source": [
    "## Introduction to JSON-LD files\n"
   ]
  },
  {
   "cell_type": "code",
   "execution_count": null,
   "metadata": {
    "cellView": "form",
    "colab": {
     "base_uri": "https://localhost:8080/"
    },
    "id": "3jKM6GfzlgpS",
    "outputId": "2f85bf5d-1108-4d25-85f6-24848277e03b"
   },
   "outputs": [
    {
     "name": "stdout",
     "output_type": "stream",
     "text": [
      "Data Set Name one\n",
      "Descriptive text of the dataset.\n"
     ]
    }
   ],
   "source": [
    "#@title Google Data Set Required+\n",
    "\n",
    "name = 'Data Set Name one' #@param {type:\"string\"}\n",
    "sdotype = 'http://schema.org/Dataset' #@param [\"http://schema.org/Dataset\", \"http://schema.org/DataCatalog\"]\n",
    "description = 'Descriptive text of the dataset.' #@param {type:\"string\"}\n",
    "url = 'http://foo.org/data/distribution' #@param {type:\"string\"}\n",
    "version = 'version' #@param {type:\"string\"}\n",
    "license = 'CC-BY-4.0' #@param [\"CC-BY-4.0\", \"CC-0\"]\n",
    "keywords = 'geochemistry, Earth System Modeling, climate change' #@param {type:\"string\"}\n",
    "\n",
    "\n",
    "print(name)\n",
    "print(description)\n"
   ]
  },
  {
   "cell_type": "code",
   "execution_count": null,
   "metadata": {
    "colab": {
     "base_uri": "https://localhost:8080/"
    },
    "id": "klRjtDzVLa7H",
    "outputId": "2518846e-0049-49bc-c8c5-6b8722c6cefd"
   },
   "outputs": [
    {
     "name": "stdout",
     "output_type": "stream",
     "text": [
      "{\n",
      "    \"@context\": {\n",
      "        \"@vocab\": \"https://schema.org/\"\n",
      "    },\n",
      "    \"@id\": \"http://cooldata.io/id/doc/1\",\n",
      "    \"@type\": \"http://schema.org/Dataset\",\n",
      "    \"http://schema.org/keywords\": [\n",
      "        \"geochemistry\",\n",
      "        \"Earth System Modeling\",\n",
      "        \"climate change\"\n",
      "    ],\n",
      "    \"description\": \"Descriptive text of the dataset.\",\n",
      "    \"license\": \"CC-BY-4.0\",\n",
      "    \"name\": \"Data Set Name one\",\n",
      "    \"url\": \"http://foo.org/data/distribution\",\n",
      "    \"version\": \"version\"\n",
      "}\n"
     ]
    }
   ],
   "source": [
    "#@title\n",
    "from pyld import jsonld\n",
    "import json\n",
    "\n",
    "doc = {}\n",
    "doc[\"https://schema.org/name\"] = name\n",
    "doc[\"@type\"] = sdotype\n",
    "doc[\"@id\"] = \"http://cooldata.io/id/doc/1\"\n",
    "doc[\"https://schema.org/description\"] = description\n",
    "doc[\"https://schema.org/url\"] =  url\n",
    "doc[\"https://schema.org/version\"] =  version\n",
    "doc[\"https://schema.org/license\"] =  license\n",
    "\n",
    "# parse comma seperated keywords, clean white spaces\n",
    "k = keywords.split(\",\")\n",
    "kp = []\n",
    "for i in k:\n",
    "  j = i.strip()\n",
    "  kp.append(j)\n",
    "\n",
    "doc[\"http://schema.org/keywords\"] =  kp\n",
    "\n",
    "\n",
    "context = {\n",
    "    \"@vocab\": \"https://schema.org/\",\n",
    "}\n",
    "\n",
    "# compact a document according to a particular context\n",
    "# see: http://json-ld.org/spec/latest/json-ld/#compacted-document-form\n",
    "compacted = jsonld.compact(doc, context)\n",
    "\n",
    "jd = json.dumps(compacted, indent=4)\n",
    "print(jd)"
   ]
  },
  {
   "cell_type": "code",
   "execution_count": null,
   "metadata": {
    "colab": {
     "base_uri": "https://localhost:8080/",
     "height": 656
    },
    "id": "d6b9X5hSfQOF",
    "outputId": "0e4c7b45-faca-49a0-9ffb-29ac49862e20"
   },
   "outputs": [
    {
     "data": {
      "image/svg+xml": [
       "<?xml version=\"1.0\" encoding=\"UTF-8\" standalone=\"no\"?>\n",
       "<!DOCTYPE svg PUBLIC \"-//W3C//DTD SVG 1.1//EN\"\n",
       " \"http://www.w3.org/Graphics/SVG/1.1/DTD/svg11.dtd\">\n",
       "<!-- Generated by graphviz version 2.40.1 (20161225.0304)\n",
       " -->\n",
       "<!-- Title: %3 Pages: 1 -->\n",
       "<svg width=\"607pt\" height=\"476pt\"\n",
       " viewBox=\"0.00 0.00 607.26 476.00\" xmlns=\"http://www.w3.org/2000/svg\" xmlns:xlink=\"http://www.w3.org/1999/xlink\">\n",
       "<g id=\"graph0\" class=\"graph\" transform=\"scale(1 1) rotate(0) translate(4 472)\">\n",
       "<title>%3</title>\n",
       "<polygon fill=\"#ffffff\" stroke=\"transparent\" points=\"-4,4 -4,-472 603.2618,-472 603.2618,4 -4,4\"/>\n",
       "<!-- &quot;Earth System Modeling&quot; -->\n",
       "<g id=\"node1\" class=\"node\">\n",
       "<title>&quot;Earth System Modeling&quot;</title>\n",
       "<ellipse fill=\"none\" stroke=\"#000000\" stroke-width=\"0\" cx=\"469.2734\" cy=\"-450\" rx=\"107.4815\" ry=\"18\"/>\n",
       "<text text-anchor=\"middle\" x=\"469.2734\" y=\"-446.3\" font-family=\"Times,serif\" font-size=\"14.00\" fill=\"#000000\">&quot;Earth System Modeling&quot;</text>\n",
       "</g>\n",
       "<!-- cooldata.io/id/doc/1 -->\n",
       "<g id=\"node2\" class=\"node\">\n",
       "<title>cooldata.io/id/doc/1</title>\n",
       "<ellipse fill=\"none\" stroke=\"#000000\" cx=\"85.1424\" cy=\"-234\" rx=\"85.2851\" ry=\"18\"/>\n",
       "<text text-anchor=\"middle\" x=\"85.1424\" y=\"-230.3\" font-family=\"Times,serif\" font-size=\"14.00\" fill=\"#000000\">cooldata.io/id/doc/1</text>\n",
       "</g>\n",
       "<!-- cooldata.io/id/doc/1&#45;&gt;&quot;Earth System Modeling&quot; -->\n",
       "<g id=\"edge1\" class=\"edge\">\n",
       "<title>cooldata.io/id/doc/1&#45;&gt;&quot;Earth System Modeling&quot;</title>\n",
       "<path fill=\"none\" stroke=\"#000000\" d=\"M90.5936,-251.9716C102.2539,-287.1042 133.1456,-364.7055 188.2849,-402 236.138,-434.3664 298.7757,-447.1957 352.7645,-451.5755\"/>\n",
       "<polygon fill=\"#000000\" stroke=\"#000000\" points=\"352.5125,-455.0664 362.7392,-452.2978 353.0181,-448.0846 352.5125,-455.0664\"/>\n",
       "<text text-anchor=\"middle\" x=\"254.7849\" y=\"-450.8\" font-family=\"Times,serif\" font-size=\"14.00\" fill=\"#000000\">schema.org/keywords</text>\n",
       "</g>\n",
       "<!-- &quot;climate change&quot; -->\n",
       "<g id=\"node3\" class=\"node\">\n",
       "<title>&quot;climate change&quot;</title>\n",
       "<ellipse fill=\"none\" stroke=\"#000000\" stroke-width=\"0\" cx=\"469.2734\" cy=\"-396\" rx=\"73.387\" ry=\"18\"/>\n",
       "<text text-anchor=\"middle\" x=\"469.2734\" y=\"-392.3\" font-family=\"Times,serif\" font-size=\"14.00\" fill=\"#000000\">&quot;climate change&quot;</text>\n",
       "</g>\n",
       "<!-- cooldata.io/id/doc/1&#45;&gt;&quot;climate change&quot; -->\n",
       "<g id=\"edge2\" class=\"edge\">\n",
       "<title>cooldata.io/id/doc/1&#45;&gt;&quot;climate change&quot;</title>\n",
       "<path fill=\"none\" stroke=\"#000000\" d=\"M97.1393,-251.8522C114.3337,-275.9315 148.3543,-318.2951 188.2849,-340 249.508,-373.2787 327.8684,-386.9051 386.2769,-392.4221\"/>\n",
       "<polygon fill=\"#000000\" stroke=\"#000000\" points=\"386.3049,-395.9381 396.5739,-393.3306 386.9202,-388.9651 386.3049,-395.9381\"/>\n",
       "<text text-anchor=\"middle\" x=\"254.7849\" y=\"-386.8\" font-family=\"Times,serif\" font-size=\"14.00\" fill=\"#000000\">schema.org/keywords</text>\n",
       "</g>\n",
       "<!-- &quot;geochemistry&quot; -->\n",
       "<g id=\"node4\" class=\"node\">\n",
       "<title>&quot;geochemistry&quot;</title>\n",
       "<ellipse fill=\"none\" stroke=\"#000000\" stroke-width=\"0\" cx=\"469.2734\" cy=\"-342\" rx=\"68.4888\" ry=\"18\"/>\n",
       "<text text-anchor=\"middle\" x=\"469.2734\" y=\"-338.3\" font-family=\"Times,serif\" font-size=\"14.00\" fill=\"#000000\">&quot;geochemistry&quot;</text>\n",
       "</g>\n",
       "<!-- cooldata.io/id/doc/1&#45;&gt;&quot;geochemistry&quot; -->\n",
       "<g id=\"edge3\" class=\"edge\">\n",
       "<title>cooldata.io/id/doc/1&#45;&gt;&quot;geochemistry&quot;</title>\n",
       "<path fill=\"none\" stroke=\"#000000\" d=\"M112.114,-251.319C132.3388,-263.5634 161.1001,-279.44 188.2849,-289 256.3205,-312.9258 337.6278,-326.7647 395.2333,-334.2599\"/>\n",
       "<polygon fill=\"#000000\" stroke=\"#000000\" points=\"394.9843,-337.7563 405.3451,-335.5422 395.8649,-330.8119 394.9843,-337.7563\"/>\n",
       "<text text-anchor=\"middle\" x=\"254.7849\" y=\"-324.8\" font-family=\"Times,serif\" font-size=\"14.00\" fill=\"#000000\">schema.org/keywords</text>\n",
       "</g>\n",
       "<!-- schema.org/Dataset -->\n",
       "<g id=\"node5\" class=\"node\">\n",
       "<title>schema.org/Dataset</title>\n",
       "<ellipse fill=\"none\" stroke=\"#558855\" cx=\"469.2734\" cy=\"-288\" rx=\"82.5854\" ry=\"18\"/>\n",
       "<text text-anchor=\"middle\" x=\"469.2734\" y=\"-284.3\" font-family=\"Times,serif\" font-size=\"14.00\" fill=\"#000000\">schema.org/Dataset</text>\n",
       "</g>\n",
       "<!-- cooldata.io/id/doc/1&#45;&gt;schema.org/Dataset -->\n",
       "<g id=\"edge4\" class=\"edge\">\n",
       "<title>cooldata.io/id/doc/1&#45;&gt;schema.org/Dataset</title>\n",
       "<path fill=\"none\" stroke=\"#000000\" d=\"M148.0434,-246.1895C161.3091,-248.5911 175.2384,-250.9876 188.2849,-253 254.1481,-263.1595 329.0497,-272.3737 384.9485,-278.795\"/>\n",
       "<polygon fill=\"#000000\" stroke=\"#000000\" points=\"384.8258,-282.3036 395.1584,-279.961 385.6202,-275.3488 384.8258,-282.3036\"/>\n",
       "<text text-anchor=\"middle\" x=\"254.7849\" y=\"-273.8\" font-family=\"Times,serif\" font-size=\"14.00\" fill=\"#000000\">type</text>\n",
       "</g>\n",
       "<!-- &quot;Descriptive text of the dataset.&quot; -->\n",
       "<g id=\"node6\" class=\"node\">\n",
       "<title>&quot;Descriptive text of the dataset.&quot;</title>\n",
       "<ellipse fill=\"none\" stroke=\"#000000\" stroke-width=\"0\" cx=\"469.2734\" cy=\"-234\" rx=\"129.9769\" ry=\"18\"/>\n",
       "<text text-anchor=\"middle\" x=\"469.2734\" y=\"-230.3\" font-family=\"Times,serif\" font-size=\"14.00\" fill=\"#000000\">&quot;Descriptive text of the dataset.&quot;</text>\n",
       "</g>\n",
       "<!-- cooldata.io/id/doc/1&#45;&gt;&quot;Descriptive text of the dataset.&quot; -->\n",
       "<g id=\"edge5\" class=\"edge\">\n",
       "<title>cooldata.io/id/doc/1&#45;&gt;&quot;Descriptive text of the dataset.&quot;</title>\n",
       "<path fill=\"none\" stroke=\"#000000\" d=\"M170.3935,-234C216.9068,-234 275.6749,-234 328.7666,-234\"/>\n",
       "<polygon fill=\"#000000\" stroke=\"#000000\" points=\"328.9562,-237.5001 338.9562,-234 328.9562,-230.5001 328.9562,-237.5001\"/>\n",
       "<text text-anchor=\"middle\" x=\"254.7849\" y=\"-237.8\" font-family=\"Times,serif\" font-size=\"14.00\" fill=\"#000000\">schema.org/description</text>\n",
       "</g>\n",
       "<!-- &quot;CC&#45;BY&#45;4.0&quot; -->\n",
       "<g id=\"node7\" class=\"node\">\n",
       "<title>&quot;CC&#45;BY&#45;4.0&quot;</title>\n",
       "<ellipse fill=\"none\" stroke=\"#000000\" stroke-width=\"0\" cx=\"469.2734\" cy=\"-180\" rx=\"61.99\" ry=\"18\"/>\n",
       "<text text-anchor=\"middle\" x=\"469.2734\" y=\"-176.3\" font-family=\"Times,serif\" font-size=\"14.00\" fill=\"#000000\">&quot;CC&#45;BY&#45;4.0&quot;</text>\n",
       "</g>\n",
       "<!-- cooldata.io/id/doc/1&#45;&gt;&quot;CC&#45;BY&#45;4.0&quot; -->\n",
       "<g id=\"edge6\" class=\"edge\">\n",
       "<title>cooldata.io/id/doc/1&#45;&gt;&quot;CC&#45;BY&#45;4.0&quot;</title>\n",
       "<path fill=\"none\" stroke=\"#000000\" d=\"M148.0434,-221.8105C161.3091,-219.4089 175.2384,-217.0124 188.2849,-215 260.8159,-203.812 344.3082,-193.7703 401.3124,-187.3426\"/>\n",
       "<polygon fill=\"#000000\" stroke=\"#000000\" points=\"401.7379,-190.8169 411.2856,-186.2245 400.9579,-183.8605 401.7379,-190.8169\"/>\n",
       "<text text-anchor=\"middle\" x=\"254.7849\" y=\"-218.8\" font-family=\"Times,serif\" font-size=\"14.00\" fill=\"#000000\">schema.org/license</text>\n",
       "</g>\n",
       "<!-- &quot;Data Set Name one&quot; -->\n",
       "<g id=\"node8\" class=\"node\">\n",
       "<title>&quot;Data Set Name one&quot;</title>\n",
       "<ellipse fill=\"none\" stroke=\"#000000\" stroke-width=\"0\" cx=\"469.2734\" cy=\"-126\" rx=\"90.1842\" ry=\"18\"/>\n",
       "<text text-anchor=\"middle\" x=\"469.2734\" y=\"-122.3\" font-family=\"Times,serif\" font-size=\"14.00\" fill=\"#000000\">&quot;Data Set Name one&quot;</text>\n",
       "</g>\n",
       "<!-- cooldata.io/id/doc/1&#45;&gt;&quot;Data Set Name one&quot; -->\n",
       "<g id=\"edge7\" class=\"edge\">\n",
       "<title>cooldata.io/id/doc/1&#45;&gt;&quot;Data Set Name one&quot;</title>\n",
       "<path fill=\"none\" stroke=\"#000000\" d=\"M111.2118,-216.8445C131.4479,-204.2853 160.6254,-187.7903 188.2849,-178 249.8133,-156.2214 322.3119,-143.0939 378.2554,-135.4775\"/>\n",
       "<polygon fill=\"#000000\" stroke=\"#000000\" points=\"379.0491,-138.903 388.5022,-134.1187 378.1289,-131.9637 379.0491,-138.903\"/>\n",
       "<text text-anchor=\"middle\" x=\"254.7849\" y=\"-181.8\" font-family=\"Times,serif\" font-size=\"14.00\" fill=\"#000000\">schema.org/name</text>\n",
       "</g>\n",
       "<!-- &quot;http//foo.org/data/distribution&quot; -->\n",
       "<g id=\"node9\" class=\"node\">\n",
       "<title>&quot;http//foo.org/data/distribution&quot;</title>\n",
       "<ellipse fill=\"none\" stroke=\"#000000\" stroke-width=\"0\" cx=\"469.2734\" cy=\"-72\" rx=\"128.8774\" ry=\"18\"/>\n",
       "<text text-anchor=\"middle\" x=\"469.2734\" y=\"-68.3\" font-family=\"Times,serif\" font-size=\"14.00\" fill=\"#000000\">&quot;http//foo.org/data/distribution&quot;</text>\n",
       "</g>\n",
       "<!-- cooldata.io/id/doc/1&#45;&gt;&quot;http//foo.org/data/distribution&quot; -->\n",
       "<g id=\"edge8\" class=\"edge\">\n",
       "<title>cooldata.io/id/doc/1&#45;&gt;&quot;http//foo.org/data/distribution&quot;</title>\n",
       "<path fill=\"none\" stroke=\"#000000\" d=\"M97.036,-215.7687C114.1106,-191.1859 147.9928,-147.9663 188.2849,-126 234.1892,-100.9741 289.8429,-87.3985 339.4705,-80.0881\"/>\n",
       "<polygon fill=\"#000000\" stroke=\"#000000\" points=\"340.2186,-83.5176 349.6366,-78.6647 339.2479,-76.5852 340.2186,-83.5176\"/>\n",
       "<text text-anchor=\"middle\" x=\"254.7849\" y=\"-129.8\" font-family=\"Times,serif\" font-size=\"14.00\" fill=\"#000000\">schema.org/url</text>\n",
       "</g>\n",
       "<!-- &quot;version&quot; -->\n",
       "<g id=\"node10\" class=\"node\">\n",
       "<title>&quot;version&quot;</title>\n",
       "<ellipse fill=\"none\" stroke=\"#000000\" stroke-width=\"0\" cx=\"469.2734\" cy=\"-18\" rx=\"46.2923\" ry=\"18\"/>\n",
       "<text text-anchor=\"middle\" x=\"469.2734\" y=\"-14.3\" font-family=\"Times,serif\" font-size=\"14.00\" fill=\"#000000\">&quot;version&quot;</text>\n",
       "</g>\n",
       "<!-- cooldata.io/id/doc/1&#45;&gt;&quot;version&quot; -->\n",
       "<g id=\"edge9\" class=\"edge\">\n",
       "<title>cooldata.io/id/doc/1&#45;&gt;&quot;version&quot;</title>\n",
       "<path fill=\"none\" stroke=\"#000000\" d=\"M90.5055,-215.7855C102.0094,-180.1833 132.6369,-101.5713 188.2849,-64 255.9625,-18.3069 353.2993,-12.4299 413.8374,-14.0098\"/>\n",
       "<polygon fill=\"#000000\" stroke=\"#000000\" points=\"413.8489,-17.5121 423.9616,-14.3526 414.0858,-10.5161 413.8489,-17.5121\"/>\n",
       "<text text-anchor=\"middle\" x=\"254.7849\" y=\"-67.8\" font-family=\"Times,serif\" font-size=\"14.00\" fill=\"#000000\">schema.org/version</text>\n",
       "</g>\n",
       "</g>\n",
       "</svg>\n"
      ],
      "text/plain": [
       "<graphviz.dot.Digraph at 0x7fb5595cc978>"
      ]
     },
     "execution_count": 11,
     "metadata": {
      "filenames": {
       "image/svg+xml": "/home/fils/src/Projects/OIH/odis-arch/book/_build/jupyter_execute/tooling/notebooks/OIH_Editor_15_0.svg"
      },
      "tags": []
     },
     "output_type": "execute_result"
    }
   ],
   "source": [
    "show_graph(doc)"
   ]
  },
  {
   "cell_type": "markdown",
   "metadata": {
    "id": "rNtjmfXZcCzs"
   },
   "source": [
    "## Framing\n",
    "\n",
    "Understanding Framing is not a first order concern.   However, understanding it and what it does can help you to think about how your data graph will be used. \n",
    "\n",
    "Let's make a frame that allows us to view only the elements of the JSON-LD data graph that we are interested in.   In this case let's target the keywords."
   ]
  },
  {
   "cell_type": "code",
   "execution_count": null,
   "metadata": {
    "colab": {
     "base_uri": "https://localhost:8080/",
     "height": 333
    },
    "id": "i9-IFJbTcVYk",
    "outputId": "286a305f-d496-45b4-d464-9506c2d715ff"
   },
   "outputs": [
    {
     "name": "stdout",
     "output_type": "stream",
     "text": [
      "{'@context': {'@vocab': 'http://schema.org/'}, '@id': 'http://cooldata.io/id/doc/1', '@type': 'Dataset', 'keywords': ['geochemistry', 'Earth System Modeling', 'climate change']}\n"
     ]
    },
    {
     "data": {
      "image/svg+xml": [
       "<?xml version=\"1.0\" encoding=\"UTF-8\" standalone=\"no\"?>\n",
       "<!DOCTYPE svg PUBLIC \"-//W3C//DTD SVG 1.1//EN\"\n",
       " \"http://www.w3.org/Graphics/SVG/1.1/DTD/svg11.dtd\">\n",
       "<!-- Generated by graphviz version 2.40.1 (20161225.0304)\n",
       " -->\n",
       "<!-- Title: %3 Pages: 1 -->\n",
       "<svg width=\"555pt\" height=\"206pt\"\n",
       " viewBox=\"0.00 0.00 554.77 206.00\" xmlns=\"http://www.w3.org/2000/svg\" xmlns:xlink=\"http://www.w3.org/1999/xlink\">\n",
       "<g id=\"graph0\" class=\"graph\" transform=\"scale(1 1) rotate(0) translate(4 202)\">\n",
       "<title>%3</title>\n",
       "<polygon fill=\"#ffffff\" stroke=\"transparent\" points=\"-4,4 -4,-202 550.7659,-202 550.7659,4 -4,4\"/>\n",
       "<!-- &quot;Earth System Modeling&quot; -->\n",
       "<g id=\"node1\" class=\"node\">\n",
       "<title>&quot;Earth System Modeling&quot;</title>\n",
       "<ellipse fill=\"none\" stroke=\"#000000\" stroke-width=\"0\" cx=\"439.5254\" cy=\"-180\" rx=\"107.4815\" ry=\"18\"/>\n",
       "<text text-anchor=\"middle\" x=\"439.5254\" y=\"-176.3\" font-family=\"Times,serif\" font-size=\"14.00\" fill=\"#000000\">&quot;Earth System Modeling&quot;</text>\n",
       "</g>\n",
       "<!-- cooldata.io/id/doc/1 -->\n",
       "<g id=\"node2\" class=\"node\">\n",
       "<title>cooldata.io/id/doc/1</title>\n",
       "<ellipse fill=\"none\" stroke=\"#000000\" cx=\"85.1424\" cy=\"-99\" rx=\"85.2851\" ry=\"18\"/>\n",
       "<text text-anchor=\"middle\" x=\"85.1424\" y=\"-95.3\" font-family=\"Times,serif\" font-size=\"14.00\" fill=\"#000000\">cooldata.io/id/doc/1</text>\n",
       "</g>\n",
       "<!-- cooldata.io/id/doc/1&#45;&gt;&quot;Earth System Modeling&quot; -->\n",
       "<g id=\"edge1\" class=\"edge\">\n",
       "<title>cooldata.io/id/doc/1&#45;&gt;&quot;Earth System Modeling&quot;</title>\n",
       "<path fill=\"none\" stroke=\"#000000\" d=\"M126.8753,-114.7104C145.4819,-121.3112 167.7863,-128.6759 188.2849,-134 240.6752,-147.6073 300.2262,-158.6967 348.1974,-166.5755\"/>\n",
       "<polygon fill=\"#000000\" stroke=\"#000000\" points=\"347.8197,-170.06 358.2514,-168.2078 348.9416,-163.1505 347.8197,-170.06\"/>\n",
       "<text text-anchor=\"middle\" x=\"251.2849\" y=\"-163.8\" font-family=\"Times,serif\" font-size=\"14.00\" fill=\"#000000\">schema.org/keywords</text>\n",
       "</g>\n",
       "<!-- &quot;climate change&quot; -->\n",
       "<g id=\"node3\" class=\"node\">\n",
       "<title>&quot;climate change&quot;</title>\n",
       "<ellipse fill=\"none\" stroke=\"#000000\" stroke-width=\"0\" cx=\"439.5254\" cy=\"-126\" rx=\"73.387\" ry=\"18\"/>\n",
       "<text text-anchor=\"middle\" x=\"439.5254\" y=\"-122.3\" font-family=\"Times,serif\" font-size=\"14.00\" fill=\"#000000\">&quot;climate change&quot;</text>\n",
       "</g>\n",
       "<!-- cooldata.io/id/doc/1&#45;&gt;&quot;climate change&quot; -->\n",
       "<g id=\"edge2\" class=\"edge\">\n",
       "<title>cooldata.io/id/doc/1&#45;&gt;&quot;climate change&quot;</title>\n",
       "<path fill=\"none\" stroke=\"#000000\" d=\"M165.5574,-105.1267C223.448,-109.5373 301.2192,-115.4626 359.11,-119.8732\"/>\n",
       "<polygon fill=\"#000000\" stroke=\"#000000\" points=\"359.0768,-123.3808 369.3139,-120.6507 359.6087,-116.401 359.0768,-123.3808\"/>\n",
       "<text text-anchor=\"middle\" x=\"251.2849\" y=\"-118.8\" font-family=\"Times,serif\" font-size=\"14.00\" fill=\"#000000\">schema.org/keywords</text>\n",
       "</g>\n",
       "<!-- &quot;geochemistry&quot; -->\n",
       "<g id=\"node4\" class=\"node\">\n",
       "<title>&quot;geochemistry&quot;</title>\n",
       "<ellipse fill=\"none\" stroke=\"#000000\" stroke-width=\"0\" cx=\"439.5254\" cy=\"-72\" rx=\"68.4888\" ry=\"18\"/>\n",
       "<text text-anchor=\"middle\" x=\"439.5254\" y=\"-68.3\" font-family=\"Times,serif\" font-size=\"14.00\" fill=\"#000000\">&quot;geochemistry&quot;</text>\n",
       "</g>\n",
       "<!-- cooldata.io/id/doc/1&#45;&gt;&quot;geochemistry&quot; -->\n",
       "<g id=\"edge3\" class=\"edge\">\n",
       "<title>cooldata.io/id/doc/1&#45;&gt;&quot;geochemistry&quot;</title>\n",
       "<path fill=\"none\" stroke=\"#000000\" d=\"M158.8984,-89.9092C168.7694,-88.842 178.7671,-87.8371 188.2849,-87 246.4159,-81.8872 312.27,-78.0266 361.9691,-75.5032\"/>\n",
       "<polygon fill=\"#000000\" stroke=\"#000000\" points=\"362.1907,-78.9966 372.0031,-75.0008 361.8406,-72.0054 362.1907,-78.9966\"/>\n",
       "<text text-anchor=\"middle\" x=\"251.2849\" y=\"-90.8\" font-family=\"Times,serif\" font-size=\"14.00\" fill=\"#000000\">schema.org/keywords</text>\n",
       "</g>\n",
       "<!-- schema.org/Dataset -->\n",
       "<g id=\"node5\" class=\"node\">\n",
       "<title>schema.org/Dataset</title>\n",
       "<ellipse fill=\"none\" stroke=\"#558855\" cx=\"439.5254\" cy=\"-18\" rx=\"82.5854\" ry=\"18\"/>\n",
       "<text text-anchor=\"middle\" x=\"439.5254\" y=\"-14.3\" font-family=\"Times,serif\" font-size=\"14.00\" fill=\"#000000\">schema.org/Dataset</text>\n",
       "</g>\n",
       "<!-- cooldata.io/id/doc/1&#45;&gt;schema.org/Dataset -->\n",
       "<g id=\"edge4\" class=\"edge\">\n",
       "<title>cooldata.io/id/doc/1&#45;&gt;schema.org/Dataset</title>\n",
       "<path fill=\"none\" stroke=\"#000000\" d=\"M121.7541,-82.6551C141.192,-74.5294 165.6767,-65.1564 188.2849,-59 243.0394,-44.09 306.0737,-33.8223 355.3067,-27.2909\"/>\n",
       "<polygon fill=\"#000000\" stroke=\"#000000\" points=\"355.8135,-30.7546 365.2785,-25.9939 354.9106,-23.8131 355.8135,-30.7546\"/>\n",
       "<text text-anchor=\"middle\" x=\"251.2849\" y=\"-62.8\" font-family=\"Times,serif\" font-size=\"14.00\" fill=\"#000000\">type</text>\n",
       "</g>\n",
       "</g>\n",
       "</svg>\n"
      ],
      "text/plain": [
       "<graphviz.dot.Digraph at 0x7fb564a17e80>"
      ]
     },
     "execution_count": 12,
     "metadata": {
      "filenames": {
       "image/svg+xml": "/home/fils/src/Projects/OIH/odis-arch/book/_build/jupyter_execute/tooling/notebooks/OIH_Editor_17_1.svg"
      },
      "tags": []
     },
     "output_type": "execute_result"
    }
   ],
   "source": [
    "urlf = \"https://raw.githubusercontent.com/ESIPFed/science-on-schema.org/master/examples/dataset/minimal.jsonld\"\n",
    "\n",
    "frame = {\n",
    "  \"@context\": {\"@vocab\": \"http://schema.org/\"},\n",
    "  \"@explicit\": \"true\",\n",
    "   \"@type\":     \"Dataset\",\n",
    "  \"keywords\": \"\",\n",
    "}\n",
    "\n",
    "\n",
    "framed = jsonld.frame(doc, frame)\n",
    "print(framed)\n",
    "\n",
    "show_graph(framed)"
   ]
  },
  {
   "cell_type": "markdown",
   "metadata": {
    "id": "2xhrf3YDC3BM"
   },
   "source": [
    "### Parse out the keywords\n",
    "At this point we can now take out resulting JSON-LD graph and extract the items we are interested int.\n"
   ]
  },
  {
   "cell_type": "code",
   "execution_count": null,
   "metadata": {
    "colab": {
     "base_uri": "https://localhost:8080/"
    },
    "id": "Tp7YhibnDCRX",
    "outputId": "c3072323-c112-4a0a-89fe-fbf8a2c9d83d"
   },
   "outputs": [
    {
     "name": "stdout",
     "output_type": "stream",
     "text": [
      "We have the individual keywords, what shall we do with them?\n",
      "geochemistry\n",
      "Earth System Modeling\n",
      "climate change\n"
     ]
    }
   ],
   "source": [
    "#g = framed['@graph']  # get the graph\n",
    "#kw = g[0]['keywords']  # get the keywords (you could do this in 1 line, 2 here for exposition)\n",
    "\n",
    "\n",
    "kw = framed['keywords']  # get the keywords (you could do this in 1 line, 2 here for exposition)\n",
    "\n",
    "\n",
    "print(\"We have the individual keywords, what shall we do with them?\")\n",
    "for w in kw:\n",
    "  print(w)\n",
    "  \n"
   ]
  },
  {
   "cell_type": "markdown",
   "metadata": {
    "id": "m_uomBImQD7U"
   },
   "source": [
    "### Wikidata\n",
    "\n",
    "So, we have used framing to arrive at a way to link to other graphs.  A nice use of framing but perhaps more important is the linking.  This exercise has shown how linking across graph gets us from strings to things.  \n",
    "\n",
    "Let's see if we can query wikidata and pull back some concepts.    We will see if antyhing we use as a keyword aligns with a JSTOR (https://www.jstor.org/) topic.\n",
    "\n",
    "Reference also: https://www.wikidata.org/wiki/Wikidata:WikidataCon_2019/Program/Sessions/Lightning_talks_2\n"
   ]
  },
  {
   "cell_type": "code",
   "execution_count": null,
   "metadata": {
    "id": "IPPtZMrcYavZ"
   },
   "outputs": [],
   "source": [
    "from SPARQLWrapper import SPARQLWrapper, JSON\n",
    "import pandas as pd\n",
    "import json\n",
    "\n",
    "dbsparql = \"http://dbpedia.org/sparql\"\n",
    "ufokn = \"http://graph.openknowledge.network/blazegraph/namespace/demo/sparql\"\n",
    "wikidata = \"https://query.wikidata.org/sparql\"\n"
   ]
  },
  {
   "cell_type": "markdown",
   "metadata": {
    "id": "Cxr-h_P7PX2b"
   },
   "source": [
    "In the example below we can BIND in keywords like geochemistry but also other terms we may extract from the name, keywords and description.  "
   ]
  },
  {
   "cell_type": "code",
   "execution_count": null,
   "metadata": {
    "colab": {
     "base_uri": "https://localhost:8080/",
     "height": 80
    },
    "id": "za9-1AL6-sS3",
    "outputId": "bee438a2-6c3c-4be6-ed17-0caa730479b1"
   },
   "outputs": [
    {
     "data": {
      "text/html": [
       "<div>\n",
       "<style scoped>\n",
       "    .dataframe tbody tr th:only-of-type {\n",
       "        vertical-align: middle;\n",
       "    }\n",
       "\n",
       "    .dataframe tbody tr th {\n",
       "        vertical-align: top;\n",
       "    }\n",
       "\n",
       "    .dataframe thead th {\n",
       "        text-align: right;\n",
       "    }\n",
       "</style>\n",
       "<table border=\"1\" class=\"dataframe\">\n",
       "  <thead>\n",
       "    <tr style=\"text-align: right;\">\n",
       "      <th></th>\n",
       "      <th>term</th>\n",
       "      <th>topic</th>\n",
       "    </tr>\n",
       "  </thead>\n",
       "  <tbody>\n",
       "    <tr>\n",
       "      <th>0</th>\n",
       "      <td>geochemistry</td>\n",
       "      <td>http://www.wikidata.org/entity/Q161764</td>\n",
       "    </tr>\n",
       "  </tbody>\n",
       "</table>\n",
       "</div>"
      ],
      "text/plain": [
       "           term                                   topic\n",
       "0  geochemistry  http://www.wikidata.org/entity/Q161764"
      ]
     },
     "execution_count": 18,
     "metadata": {
      "tags": []
     },
     "output_type": "execute_result"
    }
   ],
   "source": [
    "rq = '''SELECT ?term ?topic WHERE {{ BIND ( \"{var}\" as ?term ) ?topic wdt:P3827 ?term . }}'''.format(var=\"geochemistry\")\n",
    "test = get_sparql_dataframe(wikidata, rq)\n",
    "test.head()"
   ]
  },
  {
   "cell_type": "code",
   "execution_count": null,
   "metadata": {
    "colab": {
     "base_uri": "https://localhost:8080/"
    },
    "id": "od_PMXclXvjP",
    "outputId": "9c41a214-3a31-4176-dfde-db5f3832faaa"
   },
   "outputs": [
    {
     "name": "stdout",
     "output_type": "stream",
     "text": [
      "geochemistry\n",
      "           term                                   topic\n",
      "0  geochemistry  http://www.wikidata.org/entity/Q161764\n",
      "------------------------------------\n",
      "Earth System Modeling\n",
      "Empty DataFrame\n",
      "Columns: [term, topic]\n",
      "Index: []\n",
      "------------------------------------\n",
      "climate change\n",
      "Empty DataFrame\n",
      "Columns: [term, topic]\n",
      "Index: []\n",
      "------------------------------------\n"
     ]
    }
   ],
   "source": [
    "#df = pd.DataFrame(columns=['term', 'topic'])\n",
    "\n",
    "for w in range(len(kw)):\n",
    "  print(kw[w])\n",
    "  rq = '''SELECT ?term ?topic WHERE {{ BIND ( \"{var}\" as ?term ) ?topic wdt:P3827 ?term . }}'''.format(var=kw[w])\n",
    "  sdf = get_sparql_dataframe(wikidata, rq)\n",
    "  #df.append(sdf)\n",
    "  x = sdf.head()\n",
    "  print(x)\n",
    "  print(\"------------------------------------\")\n",
    "  \n",
    "#df.head()\n",
    "  \n"
   ]
  },
  {
   "cell_type": "code",
   "execution_count": null,
   "metadata": {
    "colab": {
     "base_uri": "https://localhost:8080/"
    },
    "id": "AaMHwb91aC1q",
    "outputId": "4b73e493-2692-4ed6-a224-6b437b94c4a3"
   },
   "outputs": [
    {
     "name": "stdout",
     "output_type": "stream",
     "text": [
      "---\n",
      "Term:geochemistry \n",
      "URL:http://www.wikidata.org/entity/Q161764 \n",
      "description:science that applies chemistry to geological systems\n"
     ]
    }
   ],
   "source": [
    "from wikidata.client import Client\n",
    "from urllib.parse import urlparse\n",
    "\n",
    "client = Client() \n",
    "\n",
    "for row in test.iterrows():\n",
    "    o = urlparse(row[1]['topic'])\n",
    "    e = o.path.rsplit('/', 1)[-1]\n",
    "    entity = client.get('Q161764', load=True)\n",
    "    print('---\\nTerm:{} \\nURL:{} \\ndescription:{}'.format(row[1]['term'], row[1]['topic'],  entity.description))"
   ]
  },
  {
   "cell_type": "markdown",
   "metadata": {
    "id": "C1dK9w-dT4BR"
   },
   "source": [
    "## Validation\n"
   ]
  },
  {
   "cell_type": "markdown",
   "metadata": {
    "id": "_MHZmjKzZLlt"
   },
   "source": [
    "### About\n",
    "The code below invokes pySHACL on some data and shape graphs out of GitHub. Note, we could edit these local to this notebook too. The human output is a bit hard to read since some of the encoding is off.\n",
    "\n",
    "It might actually work to use the graph output and route it through the graph package and into Pandas too. It might let us parse and present the results a bit better.\n",
    "\n",
    "The imaage below is just a test of putting images into this document.  We can also upload and associate a document with the notebook and use it locally too.\n",
    "\n",
    "![alt text](https://gleaner.io/images/tangram.png)"
   ]
  },
  {
   "cell_type": "code",
   "execution_count": null,
   "metadata": {
    "colab": {
     "base_uri": "https://localhost:8080/"
    },
    "id": "g1_DhMuwAuZF",
    "outputId": "b6d0e5af-8166-4254-ee8e-c9522f5cef66"
   },
   "outputs": [
    {
     "name": "stdout",
     "output_type": "stream",
     "text": [
      "True Validation Report\n",
      "Conforms: True\n",
      "\n"
     ]
    }
   ],
   "source": [
    "from pyshacl import validate\n",
    "import json\n",
    "import rdflib\n",
    "from rdflib.extras.external_graph_libs import rdflib_to_networkx_multidigraph\n",
    "import requests\n",
    "from rdflib import Graph, plugin\n",
    "from rdflib.serializer import Serializer\n",
    "\n",
    "from bs4 import BeautifulSoup\n",
    "import urllib.request\n",
    "\n",
    "dg = 'https://raw.githubusercontent.com/ESIPFed/science-on-schema.org/master/examples/dataset/minimal.jsonld'\n",
    "sg = 'https://raw.githubusercontent.com/geoschemas-org/geoshapes/master/shapegraphs/googleRecommendedCoverageCheck.ttl'\n",
    "\n",
    "s = rdflib.Graph()\n",
    "sr = s.parse(sg, format=\"ttl\")\n",
    "d = rdflib.Graph()\n",
    "dr = d.parse(dg, format=\"json-ld\")\n",
    "\n",
    "conforms, v_graph, v_text = validate(dr, shacl_graph=sr,\n",
    "  data_graph_format=\"json-ld\",\n",
    "  shacl_graph_format=\"ttl\",\n",
    "  inference='none', debug=False,\n",
    "  serialize_report_graph=False)\n",
    "        \n",
    "print('{} {}'.format(conforms, v_text))\n"
   ]
  },
  {
   "cell_type": "markdown",
   "metadata": {
    "id": "lwmATWoiZTzb"
   },
   "source": [
    "## Thematic topic: Documents"
   ]
  },
  {
   "cell_type": "markdown",
   "metadata": {
    "id": "DLB1rOrXZaim"
   },
   "source": [
    "### About\n",
    "\n",
    "A testing area for the work on type Document\n"
   ]
  },
  {
   "cell_type": "code",
   "execution_count": null,
   "metadata": {
    "colab": {
     "base_uri": "https://localhost:8080/"
    },
    "id": "sFo7gOLRZXoN",
    "outputId": "bb63203a-f052-4934-b2d7-c52d3e43f013"
   },
   "outputs": [
    {
     "name": "stdout",
     "output_type": "stream",
     "text": [
      "  % Total    % Received % Xferd  Average Speed   Time    Time     Time  Current\n",
      "                                 Dload  Upload   Total   Spent    Left  Speed\n",
      "100   888  100   888    0     0   2439      0 --:--:-- --:--:-- --:--:--  2439\n"
     ]
    }
   ],
   "source": [
    "# Load examples from ODIS-Arch\n",
    "!curl --remote-name \\\n",
    "     --location https://raw.githubusercontent.com/iodepo/odis-arch/master/schema/thematics/docs/graphs/doc.json\n"
   ]
  },
  {
   "cell_type": "code",
   "execution_count": null,
   "metadata": {
    "id": "6CkNOD8YqKmM"
   },
   "outputs": [],
   "source": [
    "# read into var\n",
    "\n",
    "with open('/content/doc.json', 'r') as file:\n",
    "    docstring = file.read()\n",
    "\n",
    "docjson = json.loads(docstring) \n",
    "\n",
    "# could I %load the file via magic commands?  see all via %lsmagic"
   ]
  },
  {
   "cell_type": "markdown",
   "metadata": {
    "id": "ZbM3wjq8tYvQ"
   },
   "source": [
    "### Dev note\n",
    "\n",
    "During development  it would good to edit in the notebook and process the results through testing and viz.  So we have to edit the JSON in the notebook, which is hideous."
   ]
  },
  {
   "cell_type": "code",
   "execution_count": null,
   "metadata": {
    "colab": {
     "base_uri": "https://localhost:8080/"
    },
    "id": "RHpxfz6utogL",
    "outputId": "7e3e2d09-853e-47b7-d78b-5ce192a64be6"
   },
   "outputs": [
    {
     "data": {
      "text/plain": [
       "{'@context': {'@vocab': 'https://schema.org/'},\n",
       " '@id': 'https://example.org/id/XYZ',\n",
       " '@type': 'Dataset',\n",
       " 'description': 'Description of the dataset to aid in searching',\n",
       " 'distribution': {'@type': 'DataDownload',\n",
       "  'contentUrl': 'https://www.sample-data-repository.org/dataset/472032.tsv',\n",
       "  'encodingFormat': 'text/tab-separated-values'},\n",
       " 'maintainer': {'@id': 'https://link.to/PID_like_re3_or_others',\n",
       "  '@type': 'Organization',\n",
       "  'description': 'Organization or Person who maintains the creative work'},\n",
       " 'name': 'Name or title of the document',\n",
       " 'subjectOf': {'@type': 'DataDownload',\n",
       "  'dateModified': '2019-06-12T14:44:15Z',\n",
       "  'description': 'EML metadata describing the dataset',\n",
       "  'encodingFormat': ['application/xml',\n",
       "   'https://eml.ecoinformatics.org/eml-2.2.0'],\n",
       "  'name': 'eml-metadatafile.xml'}}"
      ]
     },
     "execution_count": 39,
     "metadata": {
      "tags": []
     },
     "output_type": "execute_result"
    }
   ],
   "source": [
    "{\n",
    "    \"@context\": {\n",
    "        \"@vocab\": \"https://schema.org/\"\n",
    "    },\n",
    "    \"@id\": \"https://example.org/id/XYZ\",\n",
    "    \"@type\": \"Dataset\",\n",
    "    \"description\": \"Description of the dataset to aid in searching\",\n",
    "    \"distribution\": {\n",
    "        \"@type\": \"DataDownload\",\n",
    "        \"contentUrl\": \"https://www.sample-data-repository.org/dataset/472032.tsv\",\n",
    "        \"encodingFormat\": \"text/tab-separated-values\"\n",
    "    },\n",
    "    \"maintainer\": {\n",
    "        \"@id\": \"https://link.to/PID_like_re3_or_others\",\n",
    "        \"@type\": \"Organization\",\n",
    "        \"description\": \"Organization or Person who maintains the creative work\"\n",
    "    },\n",
    "    \"name\": \"Name or title of the document\",\n",
    "    \"subjectOf\": {\n",
    "        \"@type\": \"DataDownload\",\n",
    "        \"dateModified\": \"2019-06-12T14:44:15Z\",\n",
    "        \"description\": \"EML metadata describing the dataset\",\n",
    "        \"encodingFormat\": [\n",
    "            \"application/xml\",\n",
    "            \"https://eml.ecoinformatics.org/eml-2.2.0\"\n",
    "        ],\n",
    "        \"name\": \"eml-metadatafile.xml\"\n",
    "    }\n",
    "}"
   ]
  },
  {
   "cell_type": "code",
   "execution_count": null,
   "metadata": {
    "colab": {
     "base_uri": "https://localhost:8080/"
    },
    "id": "T3kfKuzUqy0c",
    "outputId": "307c1644-3a96-4e4a-dca9-6bee614fca56"
   },
   "outputs": [
    {
     "name": "stdout",
     "output_type": "stream",
     "text": [
      "{\n",
      "    \"@context\": {\n",
      "        \"@vocab\": \"https://schema.org/\"\n",
      "    },\n",
      "    \"@id\": \"https://example.org/id/XYZ\",\n",
      "    \"@type\": \"Dataset\",\n",
      "    \"description\": \"Description of the dataset to aid in searching\",\n",
      "    \"distribution\": {\n",
      "        \"@type\": \"DataDownload\",\n",
      "        \"contentUrl\": \"https://www.sample-data-repository.org/dataset/472032.tsv\",\n",
      "        \"encodingFormat\": \"text/tab-separated-values\"\n",
      "    },\n",
      "    \"maintainer\": {\n",
      "        \"@id\": \"https://link.to/PID_like_re3_or_others\",\n",
      "        \"@type\": \"Organization\",\n",
      "        \"description\": \"Organization or Person who maintains the creative work\"\n",
      "    },\n",
      "    \"name\": \"Name or title of the document\",\n",
      "    \"subjectOf\": {\n",
      "        \"@type\": \"DataDownload\",\n",
      "        \"dateModified\": \"2019-06-12T14:44:15Z\",\n",
      "        \"description\": \"EML metadata describing the dataset\",\n",
      "        \"encodingFormat\": [\n",
      "            \"application/xml\",\n",
      "            \"https://eml.ecoinformatics.org/eml-2.2.0\"\n",
      "        ],\n",
      "        \"name\": \"eml-metadatafile.xml\"\n",
      "    }\n",
      "}\n"
     ]
    }
   ],
   "source": [
    "\n",
    "context = {\n",
    "    \"@vocab\": \"https://schema.org/\",\n",
    "}\n",
    "\n",
    "# compact a document according to a particular context\n",
    "# see: http://json-ld.org/spec/latest/json-ld/#compacted-document-form\n",
    "compacted = jsonld.compact(_, context)  # CAUTION..  note _ which is reading the previous cell output...  \n",
    "\n",
    "jd = json.dumps(compacted, indent=4)\n",
    "print(jd)"
   ]
  },
  {
   "cell_type": "code",
   "execution_count": null,
   "metadata": {
    "colab": {
     "base_uri": "https://localhost:8080/",
     "height": 433
    },
    "id": "T7V1DvkiZn5l",
    "outputId": "1685091f-a671-4564-cd34-841488255f59"
   },
   "outputs": [
    {
     "data": {
      "image/svg+xml": [
       "<?xml version=\"1.0\" encoding=\"UTF-8\" standalone=\"no\"?>\n",
       "<!DOCTYPE svg PUBLIC \"-//W3C//DTD SVG 1.1//EN\"\n",
       " \"http://www.w3.org/Graphics/SVG/1.1/DTD/svg11.dtd\">\n",
       "<!-- Generated by graphviz version 2.40.1 (20161225.0304)\n",
       " -->\n",
       "<!-- Title: %3 Pages: 1 -->\n",
       "<svg width=\"720pt\" height=\"309pt\"\n",
       " viewBox=\"0.00 0.00 720.00 308.63\" xmlns=\"http://www.w3.org/2000/svg\" xmlns:xlink=\"http://www.w3.org/1999/xlink\">\n",
       "<g id=\"graph0\" class=\"graph\" transform=\"scale(.5726 .5726) rotate(0) translate(4 535)\">\n",
       "<title>%3</title>\n",
       "<polygon fill=\"#ffffff\" stroke=\"transparent\" points=\"-4,4 -4,-535 1253.4221,-535 1253.4221,4 -4,4\"/>\n",
       "<!-- schema.org/Dataset -->\n",
       "<g id=\"node1\" class=\"node\">\n",
       "<title>schema.org/Dataset</title>\n",
       "<ellipse fill=\"none\" stroke=\"#558855\" cx=\"517.1194\" cy=\"-396\" rx=\"82.5854\" ry=\"18\"/>\n",
       "<text text-anchor=\"middle\" x=\"517.1194\" y=\"-392.3\" font-family=\"Times,serif\" font-size=\"14.00\" fill=\"#000000\">schema.org/Dataset</text>\n",
       "</g>\n",
       "<!-- example.org/id/XYZ -->\n",
       "<g id=\"node2\" class=\"node\">\n",
       "<title>example.org/id/XYZ</title>\n",
       "<ellipse fill=\"none\" stroke=\"#000000\" cx=\"89.0421\" cy=\"-277\" rx=\"89.0842\" ry=\"18\"/>\n",
       "<text text-anchor=\"middle\" x=\"89.0421\" y=\"-273.3\" font-family=\"Times,serif\" font-size=\"14.00\" fill=\"#000000\">example.org/id/XYZ</text>\n",
       "</g>\n",
       "<!-- example.org/id/XYZ&#45;&gt;schema.org/Dataset -->\n",
       "<g id=\"edge1\" class=\"edge\">\n",
       "<title>example.org/id/XYZ&#45;&gt;schema.org/Dataset</title>\n",
       "<path fill=\"none\" stroke=\"#000000\" d=\"M113.325,-294.6131C134.2564,-308.9586 165.8016,-328.6345 196.0842,-340 271.5031,-368.3058 362.3374,-382.4482 428.1095,-389.426\"/>\n",
       "<polygon fill=\"#000000\" stroke=\"#000000\" points=\"428.1394,-392.9473 438.4442,-390.4854 428.8533,-385.9838 428.1394,-392.9473\"/>\n",
       "<text text-anchor=\"middle\" x=\"264.0842\" y=\"-377.8\" font-family=\"Times,serif\" font-size=\"14.00\" fill=\"#000000\">type</text>\n",
       "</g>\n",
       "<!-- &quot;Description of the dataset to aid in sea...&quot; -->\n",
       "<g id=\"node3\" class=\"node\">\n",
       "<title>&quot;Description of the dataset to aid in sea...&quot;</title>\n",
       "<ellipse fill=\"none\" stroke=\"#000000\" stroke-width=\"0\" cx=\"517.1194\" cy=\"-342\" rx=\"167.0704\" ry=\"18\"/>\n",
       "<text text-anchor=\"middle\" x=\"517.1194\" y=\"-338.3\" font-family=\"Times,serif\" font-size=\"14.00\" fill=\"#000000\">&quot;Description of the dataset to aid in sea...&quot;</text>\n",
       "</g>\n",
       "<!-- example.org/id/XYZ&#45;&gt;&quot;Description of the dataset to aid in sea...&quot; -->\n",
       "<g id=\"edge2\" class=\"edge\">\n",
       "<title>example.org/id/XYZ&#45;&gt;&quot;Description of the dataset to aid in sea...&quot;</title>\n",
       "<path fill=\"none\" stroke=\"#000000\" d=\"M144.6447,-291.1595C161.1294,-295.0389 179.2701,-298.9977 196.0842,-302 257.6297,-312.9896 326.3483,-321.9848 384.3666,-328.6423\"/>\n",
       "<polygon fill=\"#000000\" stroke=\"#000000\" points=\"383.9937,-332.1223 394.325,-329.7742 384.7843,-325.1671 383.9937,-332.1223\"/>\n",
       "<text text-anchor=\"middle\" x=\"264.0842\" y=\"-324.8\" font-family=\"Times,serif\" font-size=\"14.00\" fill=\"#000000\">schema.org/description</text>\n",
       "</g>\n",
       "<!-- _ -->\n",
       "<g id=\"node4\" class=\"node\">\n",
       "<title>_</title>\n",
       "<ellipse fill=\"none\" stroke=\"#558855\" cx=\"517.1194\" cy=\"-288\" rx=\"27\" ry=\"18\"/>\n",
       "<text text-anchor=\"middle\" x=\"517.1194\" y=\"-284.3\" font-family=\"Times,serif\" font-size=\"14.00\" fill=\"#000000\">_</text>\n",
       "</g>\n",
       "<!-- example.org/id/XYZ&#45;&gt;_ -->\n",
       "<g id=\"edge3\" class=\"edge\">\n",
       "<title>example.org/id/XYZ&#45;&gt;_</title>\n",
       "<path fill=\"none\" stroke=\"#000000\" d=\"M177.4803,-279.2725C270.6698,-281.6672 413.0144,-285.3249 479.9224,-287.0442\"/>\n",
       "<polygon fill=\"#000000\" stroke=\"#000000\" points=\"479.9072,-290.5448 489.9939,-287.303 480.0871,-283.5472 479.9072,-290.5448\"/>\n",
       "<text text-anchor=\"middle\" x=\"264.0842\" y=\"-286.8\" font-family=\"Times,serif\" font-size=\"14.00\" fill=\"#000000\">schema.org/distribution</text>\n",
       "</g>\n",
       "<!-- example.org/id/XYZ&#45;&gt;_ -->\n",
       "<g id=\"edge6\" class=\"edge\">\n",
       "<title>example.org/id/XYZ&#45;&gt;_</title>\n",
       "<path fill=\"none\" stroke=\"#000000\" d=\"M155.0845,-264.8442C168.6013,-262.8267 182.7658,-261.051 196.0842,-260 256.3413,-255.2449 271.8101,-255.4654 332.0842,-260 384.3531,-263.9323 444.2298,-274.0287 481.3664,-280.9582\"/>\n",
       "<polygon fill=\"#000000\" stroke=\"#000000\" points=\"480.7363,-284.401 491.2127,-282.8209 482.0376,-277.523 480.7363,-284.401\"/>\n",
       "<text text-anchor=\"middle\" x=\"264.0842\" y=\"-263.8\" font-family=\"Times,serif\" font-size=\"14.00\" fill=\"#000000\">schema.org/subjectOf</text>\n",
       "</g>\n",
       "<!-- link.to/PID_like_re3_or_others -->\n",
       "<g id=\"node5\" class=\"node\">\n",
       "<title>link.to/PID_like_re3_or_others</title>\n",
       "<ellipse fill=\"none\" stroke=\"#558855\" cx=\"517.1194\" cy=\"-103\" rx=\"128.0773\" ry=\"18\"/>\n",
       "<text text-anchor=\"middle\" x=\"517.1194\" y=\"-99.3\" font-family=\"Times,serif\" font-size=\"14.00\" fill=\"#000000\">link.to/PID_like_re3_or_others</text>\n",
       "</g>\n",
       "<!-- example.org/id/XYZ&#45;&gt;link.to/PID_like_re3_or_others -->\n",
       "<g id=\"edge4\" class=\"edge\">\n",
       "<title>example.org/id/XYZ&#45;&gt;link.to/PID_like_re3_or_others</title>\n",
       "<path fill=\"none\" stroke=\"#000000\" d=\"M128.9302,-260.7868C206.8533,-229.1134 379.2161,-159.0534 465.6256,-123.9306\"/>\n",
       "<polygon fill=\"#000000\" stroke=\"#000000\" points=\"467.0255,-127.1397 474.9715,-120.1318 464.3896,-120.655 467.0255,-127.1397\"/>\n",
       "<text text-anchor=\"middle\" x=\"264.0842\" y=\"-233.8\" font-family=\"Times,serif\" font-size=\"14.00\" fill=\"#000000\">schema.org/maintainer</text>\n",
       "</g>\n",
       "<!-- &quot;Name or title of the document&quot; -->\n",
       "<g id=\"node6\" class=\"node\">\n",
       "<title>&quot;Name or title of the document&quot;</title>\n",
       "<ellipse fill=\"none\" stroke=\"#000000\" stroke-width=\"0\" cx=\"517.1194\" cy=\"-49\" rx=\"129.9769\" ry=\"18\"/>\n",
       "<text text-anchor=\"middle\" x=\"517.1194\" y=\"-45.3\" font-family=\"Times,serif\" font-size=\"14.00\" fill=\"#000000\">&quot;Name or title of the document&quot;</text>\n",
       "</g>\n",
       "<!-- example.org/id/XYZ&#45;&gt;&quot;Name or title of the document&quot; -->\n",
       "<g id=\"edge5\" class=\"edge\">\n",
       "<title>example.org/id/XYZ&#45;&gt;&quot;Name or title of the document&quot;</title>\n",
       "<path fill=\"none\" stroke=\"#000000\" d=\"M102.3729,-259.0368C121.2389,-234.4794 157.7254,-190.0531 196.0842,-160 257.4557,-111.9172 276.3217,-101.2491 350.0842,-76 367.2818,-70.1132 385.9248,-65.4947 404.3096,-61.8754\"/>\n",
       "<polygon fill=\"#000000\" stroke=\"#000000\" points=\"405.0057,-65.306 414.1873,-60.0192 403.7129,-58.4264 405.0057,-65.306\"/>\n",
       "<text text-anchor=\"middle\" x=\"264.0842\" y=\"-163.8\" font-family=\"Times,serif\" font-size=\"14.00\" fill=\"#000000\">schema.org/name</text>\n",
       "</g>\n",
       "<!-- schema.org/DataDownload -->\n",
       "<g id=\"node9\" class=\"node\">\n",
       "<title>schema.org/DataDownload</title>\n",
       "<ellipse fill=\"none\" stroke=\"#558855\" cx=\"1066.7884\" cy=\"-505\" rx=\"112.3801\" ry=\"18\"/>\n",
       "<text text-anchor=\"middle\" x=\"1066.7884\" y=\"-501.3\" font-family=\"Times,serif\" font-size=\"14.00\" fill=\"#000000\">schema.org/DataDownload</text>\n",
       "</g>\n",
       "<!-- _&#45;&gt;schema.org/DataDownload -->\n",
       "<g id=\"edge9\" class=\"edge\">\n",
       "<title>_&#45;&gt;schema.org/DataDownload</title>\n",
       "<path fill=\"none\" stroke=\"#000000\" d=\"M543.5555,-283.4918C580.7509,-278.822 648.0169,-276.8036 684.1546,-315 710.4147,-342.7562 674.432,-459.7043 702.1546,-486 737.7653,-519.7779 863.7195,-519.643 957.6869,-514.2638\"/>\n",
       "<polygon fill=\"#000000\" stroke=\"#000000\" points=\"958.0526,-517.7482 967.8253,-513.6563 957.6338,-510.7608 958.0526,-517.7482\"/>\n",
       "<text text-anchor=\"middle\" x=\"784.1546\" y=\"-519.8\" font-family=\"Times,serif\" font-size=\"14.00\" fill=\"#000000\">type</text>\n",
       "</g>\n",
       "<!-- _&#45;&gt;schema.org/DataDownload -->\n",
       "<g id=\"edge12\" class=\"edge\">\n",
       "<title>_&#45;&gt;schema.org/DataDownload</title>\n",
       "<path fill=\"none\" stroke=\"#000000\" d=\"M543.3709,-283.6696C580.3418,-279.2161 647.3368,-277.4587 684.1546,-315 724.0715,-355.7015 662.0552,-401.4782 702.1546,-442 754.0163,-494.4081 796.3826,-443.1648 866.1546,-467 874.8148,-469.9585 875.4955,-474.0378 884.1546,-477 907.3623,-484.9392 933.0001,-490.6337 957.5457,-494.7162\"/>\n",
       "<polygon fill=\"#000000\" stroke=\"#000000\" points=\"957.1951,-498.2043 967.6198,-496.3135 958.2913,-491.2906 957.1951,-498.2043\"/>\n",
       "<text text-anchor=\"middle\" x=\"784.1546\" y=\"-470.8\" font-family=\"Times,serif\" font-size=\"14.00\" fill=\"#000000\">type</text>\n",
       "</g>\n",
       "<!-- &quot;https//www.sample&#45;data&#45;repository.org/da...&quot; -->\n",
       "<g id=\"node10\" class=\"node\">\n",
       "<title>&quot;https//www.sample&#45;data&#45;repository.org/da...&quot;</title>\n",
       "<ellipse fill=\"none\" stroke=\"#000000\" stroke-width=\"0\" cx=\"1066.7884\" cy=\"-450\" rx=\"181.168\" ry=\"18\"/>\n",
       "<text text-anchor=\"middle\" x=\"1066.7884\" y=\"-446.3\" font-family=\"Times,serif\" font-size=\"14.00\" fill=\"#000000\">&quot;https//www.sample&#45;data&#45;repository.org/da...&quot;</text>\n",
       "</g>\n",
       "<!-- _&#45;&gt;&quot;https//www.sample&#45;data&#45;repository.org/da...&quot; -->\n",
       "<g id=\"edge10\" class=\"edge\">\n",
       "<title>_&#45;&gt;&quot;https//www.sample&#45;data&#45;repository.org/da...&quot;</title>\n",
       "<path fill=\"none\" stroke=\"#000000\" d=\"M543.7405,-284.1451C580.2316,-280.4653 645.6384,-279.8538 684.1546,-315 707.8834,-336.6527 678.9252,-362.8122 702.1546,-385 719.7152,-401.7733 843.5173,-421.3843 942.063,-434.6436\"/>\n",
       "<polygon fill=\"#000000\" stroke=\"#000000\" points=\"941.7462,-438.1322 952.1215,-435.9868 942.6728,-431.1938 941.7462,-438.1322\"/>\n",
       "<text text-anchor=\"middle\" x=\"784.1546\" y=\"-426.8\" font-family=\"Times,serif\" font-size=\"14.00\" fill=\"#000000\">schema.org/contentUrl</text>\n",
       "</g>\n",
       "<!-- &quot;text/tab&#45;separated&#45;values&quot; -->\n",
       "<g id=\"node11\" class=\"node\">\n",
       "<title>&quot;text/tab&#45;separated&#45;values&quot;</title>\n",
       "<ellipse fill=\"none\" stroke=\"#000000\" stroke-width=\"0\" cx=\"1066.7884\" cy=\"-396\" rx=\"109.381\" ry=\"18\"/>\n",
       "<text text-anchor=\"middle\" x=\"1066.7884\" y=\"-392.3\" font-family=\"Times,serif\" font-size=\"14.00\" fill=\"#000000\">&quot;text/tab&#45;separated&#45;values&quot;</text>\n",
       "</g>\n",
       "<!-- _&#45;&gt;&quot;text/tab&#45;separated&#45;values&quot; -->\n",
       "<g id=\"edge11\" class=\"edge\">\n",
       "<title>_&#45;&gt;&quot;text/tab&#45;separated&#45;values&quot;</title>\n",
       "<path fill=\"none\" stroke=\"#000000\" d=\"M544.2474,-286.1422C579.2935,-285.0569 640.9233,-287.7301 684.1546,-315 696.0418,-322.4984 690.2389,-333.5469 702.1546,-341 771.54,-384.3998 803.2295,-356.7932 884.1546,-369 913.6393,-373.4475 945.8133,-378.2282 974.8282,-382.5126\"/>\n",
       "<polygon fill=\"#000000\" stroke=\"#000000\" points=\"974.546,-386.0087 984.9498,-384.0059 975.5678,-379.0837 974.546,-386.0087\"/>\n",
       "<text text-anchor=\"middle\" x=\"784.1546\" y=\"-369.8\" font-family=\"Times,serif\" font-size=\"14.00\" fill=\"#000000\">schema.org/encodingFormat</text>\n",
       "</g>\n",
       "<!-- &quot;2019&#45;06&#45;12T144415Z&quot; -->\n",
       "<g id=\"node12\" class=\"node\">\n",
       "<title>&quot;2019&#45;06&#45;12T144415Z&quot;</title>\n",
       "<ellipse fill=\"none\" stroke=\"#000000\" stroke-width=\"0\" cx=\"1066.7884\" cy=\"-342\" rx=\"104.7816\" ry=\"18\"/>\n",
       "<text text-anchor=\"middle\" x=\"1066.7884\" y=\"-338.3\" font-family=\"Times,serif\" font-size=\"14.00\" fill=\"#000000\">&quot;2019&#45;06&#45;12T144415Z&quot;</text>\n",
       "</g>\n",
       "<!-- _&#45;&gt;&quot;2019&#45;06&#45;12T144415Z&quot; -->\n",
       "<g id=\"edge13\" class=\"edge\">\n",
       "<title>_&#45;&gt;&quot;2019&#45;06&#45;12T144415Z&quot;</title>\n",
       "<path fill=\"none\" stroke=\"#000000\" d=\"M544.0802,-290.825C580.1006,-294.5863 645.9184,-301.4139 702.1546,-307 790.8519,-315.8107 891.725,-325.4649 964.8548,-332.3981\"/>\n",
       "<polygon fill=\"#000000\" stroke=\"#000000\" points=\"964.6999,-335.899 974.9855,-333.358 965.3602,-328.9302 964.6999,-335.899\"/>\n",
       "<text text-anchor=\"middle\" x=\"784.1546\" y=\"-325.8\" font-family=\"Times,serif\" font-size=\"14.00\" fill=\"#000000\">schema.org/dateModified</text>\n",
       "</g>\n",
       "<!-- &quot;EML metadata describing the dataset&quot; -->\n",
       "<g id=\"node13\" class=\"node\">\n",
       "<title>&quot;EML metadata describing the dataset&quot;</title>\n",
       "<ellipse fill=\"none\" stroke=\"#000000\" stroke-width=\"0\" cx=\"1066.7884\" cy=\"-288\" rx=\"155.1726\" ry=\"18\"/>\n",
       "<text text-anchor=\"middle\" x=\"1066.7884\" y=\"-284.3\" font-family=\"Times,serif\" font-size=\"14.00\" fill=\"#000000\">&quot;EML metadata describing the dataset&quot;</text>\n",
       "</g>\n",
       "<!-- _&#45;&gt;&quot;EML metadata describing the dataset&quot; -->\n",
       "<g id=\"edge14\" class=\"edge\">\n",
       "<title>_&#45;&gt;&quot;EML metadata describing the dataset&quot;</title>\n",
       "<path fill=\"none\" stroke=\"#000000\" d=\"M544.3775,-288C608.6005,-288 773.6084,-288 901.1496,-288\"/>\n",
       "<polygon fill=\"#000000\" stroke=\"#000000\" points=\"901.4264,-291.5001 911.4263,-288 901.4263,-284.5001 901.4264,-291.5001\"/>\n",
       "<text text-anchor=\"middle\" x=\"784.1546\" y=\"-291.8\" font-family=\"Times,serif\" font-size=\"14.00\" fill=\"#000000\">schema.org/description</text>\n",
       "</g>\n",
       "<!-- &quot;application/xml&quot; -->\n",
       "<g id=\"node14\" class=\"node\">\n",
       "<title>&quot;application/xml&quot;</title>\n",
       "<ellipse fill=\"none\" stroke=\"#000000\" stroke-width=\"0\" cx=\"1066.7884\" cy=\"-234\" rx=\"76.8869\" ry=\"18\"/>\n",
       "<text text-anchor=\"middle\" x=\"1066.7884\" y=\"-230.3\" font-family=\"Times,serif\" font-size=\"14.00\" fill=\"#000000\">&quot;application/xml&quot;</text>\n",
       "</g>\n",
       "<!-- _&#45;&gt;&quot;application/xml&quot; -->\n",
       "<g id=\"edge15\" class=\"edge\">\n",
       "<title>_&#45;&gt;&quot;application/xml&quot;</title>\n",
       "<path fill=\"none\" stroke=\"#000000\" d=\"M544.0802,-285.175C580.1006,-281.4137 645.9184,-274.5861 702.1546,-269 799.4648,-259.3338 911.4301,-248.6522 985.337,-241.6624\"/>\n",
       "<polygon fill=\"#000000\" stroke=\"#000000\" points=\"985.8813,-245.1267 995.5076,-240.7011 985.2226,-238.1577 985.8813,-245.1267\"/>\n",
       "<text text-anchor=\"middle\" x=\"784.1546\" y=\"-272.8\" font-family=\"Times,serif\" font-size=\"14.00\" fill=\"#000000\">schema.org/encodingFormat</text>\n",
       "</g>\n",
       "<!-- &quot;https//eml.ecoinformatics.org/eml&#45;2.2.0&quot; -->\n",
       "<g id=\"node15\" class=\"node\">\n",
       "<title>&quot;https//eml.ecoinformatics.org/eml&#45;2.2.0&quot;</title>\n",
       "<ellipse fill=\"none\" stroke=\"#000000\" stroke-width=\"0\" cx=\"1066.7884\" cy=\"-180\" rx=\"165.1707\" ry=\"18\"/>\n",
       "<text text-anchor=\"middle\" x=\"1066.7884\" y=\"-176.3\" font-family=\"Times,serif\" font-size=\"14.00\" fill=\"#000000\">&quot;https//eml.ecoinformatics.org/eml&#45;2.2.0&quot;</text>\n",
       "</g>\n",
       "<!-- _&#45;&gt;&quot;https//eml.ecoinformatics.org/eml&#45;2.2.0&quot; -->\n",
       "<g id=\"edge16\" class=\"edge\">\n",
       "<title>_&#45;&gt;&quot;https//eml.ecoinformatics.org/eml&#45;2.2.0&quot;</title>\n",
       "<path fill=\"none\" stroke=\"#000000\" d=\"M541.3881,-279.7611C576.4898,-268.1104 643.6406,-246.8156 702.1546,-234 782.0352,-216.5046 803.2626,-218.9796 884.1546,-207 908.2592,-203.4302 934.1541,-199.5995 958.65,-195.9776\"/>\n",
       "<polygon fill=\"#000000\" stroke=\"#000000\" points=\"959.3065,-199.4187 968.687,-194.4937 958.2826,-192.494 959.3065,-199.4187\"/>\n",
       "<text text-anchor=\"middle\" x=\"784.1546\" y=\"-237.8\" font-family=\"Times,serif\" font-size=\"14.00\" fill=\"#000000\">schema.org/encodingFormat</text>\n",
       "</g>\n",
       "<!-- &quot;eml&#45;metadata.xml&quot; -->\n",
       "<g id=\"node16\" class=\"node\">\n",
       "<title>&quot;eml&#45;metadata.xml&quot;</title>\n",
       "<ellipse fill=\"none\" stroke=\"#000000\" stroke-width=\"0\" cx=\"1066.7884\" cy=\"-126\" rx=\"85.2851\" ry=\"18\"/>\n",
       "<text text-anchor=\"middle\" x=\"1066.7884\" y=\"-122.3\" font-family=\"Times,serif\" font-size=\"14.00\" fill=\"#000000\">&quot;eml&#45;metadata.xml&quot;</text>\n",
       "</g>\n",
       "<!-- _&#45;&gt;&quot;eml&#45;metadata.xml&quot; -->\n",
       "<g id=\"edge17\" class=\"edge\">\n",
       "<title>_&#45;&gt;&quot;eml&#45;metadata.xml&quot;</title>\n",
       "<path fill=\"none\" stroke=\"#000000\" d=\"M536.5148,-275.3059C569.2934,-254.4203 638.3267,-212.8527 702.1546,-190 792.3107,-157.7208 901.0355,-141.3363 976.1769,-133.2787\"/>\n",
       "<polygon fill=\"#000000\" stroke=\"#000000\" points=\"976.9686,-136.7152 986.5513,-132.1962 976.2421,-129.753 976.9686,-136.7152\"/>\n",
       "<text text-anchor=\"middle\" x=\"784.1546\" y=\"-193.8\" font-family=\"Times,serif\" font-size=\"14.00\" fill=\"#000000\">schema.org/name</text>\n",
       "</g>\n",
       "<!-- schema.org/Organization -->\n",
       "<g id=\"node7\" class=\"node\">\n",
       "<title>schema.org/Organization</title>\n",
       "<ellipse fill=\"none\" stroke=\"#558855\" cx=\"1066.7884\" cy=\"-72\" rx=\"103.9815\" ry=\"18\"/>\n",
       "<text text-anchor=\"middle\" x=\"1066.7884\" y=\"-68.3\" font-family=\"Times,serif\" font-size=\"14.00\" fill=\"#000000\">schema.org/Organization</text>\n",
       "</g>\n",
       "<!-- link.to/PID_like_re3_or_others&#45;&gt;schema.org/Organization -->\n",
       "<g id=\"edge7\" class=\"edge\">\n",
       "<title>link.to/PID_like_re3_or_others&#45;&gt;schema.org/Organization</title>\n",
       "<path fill=\"none\" stroke=\"#000000\" d=\"M628.629,-94.0387C652.8595,-92.238 678.3591,-90.4546 702.1546,-89 786.8847,-83.8205 882.7761,-79.407 954.9512,-76.3759\"/>\n",
       "<polygon fill=\"#000000\" stroke=\"#000000\" points=\"955.1292,-79.8716 964.9744,-75.9575 954.8371,-72.8777 955.1292,-79.8716\"/>\n",
       "<text text-anchor=\"middle\" x=\"784.1546\" y=\"-92.8\" font-family=\"Times,serif\" font-size=\"14.00\" fill=\"#000000\">type</text>\n",
       "</g>\n",
       "<!-- &quot;Organization or Person who maintains the...&quot; -->\n",
       "<g id=\"node8\" class=\"node\">\n",
       "<title>&quot;Organization or Person who maintains the...&quot;</title>\n",
       "<ellipse fill=\"none\" stroke=\"#000000\" stroke-width=\"0\" cx=\"1066.7884\" cy=\"-18\" rx=\"182.7677\" ry=\"18\"/>\n",
       "<text text-anchor=\"middle\" x=\"1066.7884\" y=\"-14.3\" font-family=\"Times,serif\" font-size=\"14.00\" fill=\"#000000\">&quot;Organization or Person who maintains the...&quot;</text>\n",
       "</g>\n",
       "<!-- link.to/PID_like_re3_or_others&#45;&gt;&quot;Organization or Person who maintains the...&quot; -->\n",
       "<g id=\"edge8\" class=\"edge\">\n",
       "<title>link.to/PID_like_re3_or_others&#45;&gt;&quot;Organization or Person who maintains the...&quot;</title>\n",
       "<path fill=\"none\" stroke=\"#000000\" d=\"M627.4164,-93.7417C646.8632,-89.7262 666.5115,-84.0381 684.1546,-76 693.6311,-71.6825 692.5877,-65.1133 702.1546,-61 755.464,-38.0793 816.9685,-26.0224 874.0986,-20.0013\"/>\n",
       "<polygon fill=\"#000000\" stroke=\"#000000\" points=\"874.7354,-23.4553 884.3391,-18.981 874.0414,-16.4898 874.7354,-23.4553\"/>\n",
       "<text text-anchor=\"middle\" x=\"784.1546\" y=\"-64.8\" font-family=\"Times,serif\" font-size=\"14.00\" fill=\"#000000\">schema.org/description</text>\n",
       "</g>\n",
       "</g>\n",
       "</svg>\n"
      ],
      "text/plain": [
       "<graphviz.dot.Digraph at 0x7fb558dd0a20>"
      ]
     },
     "execution_count": 41,
     "metadata": {
      "filenames": {
       "image/svg+xml": "/home/fils/src/Projects/OIH/odis-arch/book/_build/jupyter_execute/tooling/notebooks/OIH_Editor_36_0.svg"
      },
      "tags": []
     },
     "output_type": "execute_result"
    }
   ],
   "source": [
    "show_graph(docjson)"
   ]
  },
  {
   "cell_type": "code",
   "execution_count": null,
   "metadata": {
    "id": "OQiDqQdVqfeb"
   },
   "outputs": [],
   "source": []
  }
 ],
 "metadata": {
  "colab": {
   "collapsed_sections": [
    "C1dK9w-dT4BR"
   ],
   "name": "OIH_Editor.ipynb",
   "provenance": [],
   "toc_visible": true
  },
  "kernelspec": {
   "display_name": "Python 3",
   "language": "python",
   "name": "python3"
  },
  "language_info": {
   "codemirror_mode": {
    "name": "ipython",
    "version": 3
   },
   "file_extension": ".py",
   "mimetype": "text/x-python",
   "name": "python",
   "nbconvert_exporter": "python",
   "pygments_lexer": "ipython3",
   "version": "3.9.2"
  }
 },
 "nbformat": 4,
 "nbformat_minor": 4
}