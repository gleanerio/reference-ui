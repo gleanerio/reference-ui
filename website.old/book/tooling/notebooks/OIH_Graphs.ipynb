{
 "cells": [
  {
   "cell_type": "markdown",
   "id": "level-delivery",
   "metadata": {},
   "source": [
    "# OIH Graph testing\n"
   ]
  },
  {
   "cell_type": "code",
   "execution_count": 21,
   "id": "scenic-findings",
   "metadata": {},
   "outputs": [
    {
     "data": {
      "text/plain": [
       "<Graph identifier=N5e808fc06924424d880b2e05e96e3715 (<class 'rdflib.graph.Graph'>)>"
      ]
     },
     "execution_count": 21,
     "metadata": {},
     "output_type": "execute_result"
    }
   ],
   "source": [
    "import rdflib\n",
    "import gzip\n",
    "\n",
    "with gzip.open('./oceanexperts_graph.nq.gz', 'rb') as f:\n",
    "    file_content = f.read()\n",
    "\n",
    "g = rdflib.Graph()\n",
    "g.parse(data = file_content, format=\"nquads\")\n",
    "\n"
   ]
  },
  {
   "cell_type": "code",
   "execution_count": 22,
   "id": "reported-pressing",
   "metadata": {},
   "outputs": [
    {
     "name": "stdout",
     "output_type": "stream",
     "text": [
      "N601404b4f0c84867a4bec91d94f31e46 Course Name: [ONLINE] EUMETSAT/CMEMS/OTGA Train the Trainers: tools &amp; techniques for teaching about Sentinel-3 marine data\n",
      "Ne7e6196da37f4d9b85b62ba7633f402e Course Name: Baltic Floating University Cruise, 2001 - Leg 2\n",
      "Nf4e5309109854682831dd9ee432f7c0f Course Name: Workshop on Capacity Development to Improve the Management of Marine Areas beyond National Jurisdiction (ABNJ):  Needs, Experiences, Options, and Opportunities\n",
      "Nee50a890fb024f079d3688b292c2ed4b Course Name: Identification Qualification in Harmful Marine Microalgae 2015\n",
      "Ne385dd8f0a0d4ed582c847835b93ef9e Course Name: Training-Through-Research Cruise (1999)\n",
      "Nf8cbfbfa2040497abf3307136c75263d Course Name: TALLER DE ELABORACION DE MAPAS DE EVACUACION CON EQUIPOS DE ACCION TSUNAMI Y ACTORES INSTITUCIONALES DE HAINA, NIGUA Y PALENQUE\n",
      "N870234e3c6de432ebec4ad26cc5c99ce Course Name: Ocean Data Portal training-of-trainers course\n",
      "Nf923835f9f2d4ee3bf06ecc6faaff802 Course Name: 10th Advanced Phytoplankton Course: Taxonomy and Systematics\n",
      "N46ae1c150d97403e862518a02f449170 Course Name: TALLER LOCAL DE FORTALECIMIENTO DE LA PLANIFICACION DE LA RESPUESTA ANTE TSUNAMI Y DE EJERCICIOS DE EVACUACION\n",
      "Nd148bcbbbc524eaa9c9d9db3481e200a Course Name: II Baltic Floating University Cruise, 1994\n"
     ]
    }
   ],
   "source": [
    "qres = g.query(\n",
    "    \"\"\"prefix schema: <https://schema.org/>\n",
    "    SELECT DISTINCT ?s ?name\n",
    "       WHERE {\n",
    "          ?s a schema:Course .\n",
    "          ?s schema:name ?name\n",
    "       }\n",
    "       LIMIT 10\"\"\")\n",
    "\n",
    "for row in qres:\n",
    "    print(\"%s Course Name: %s\" % row)"
   ]
  },
  {
   "cell_type": "code",
   "execution_count": null,
   "id": "minimal-intent",
   "metadata": {},
   "outputs": [],
   "source": []
  },
  {
   "cell_type": "code",
   "execution_count": null,
   "id": "interracial-supplier",
   "metadata": {},
   "outputs": [],
   "source": []
  }
 ],
 "metadata": {
  "kernelspec": {
   "display_name": "Python 3",
   "language": "python",
   "name": "python3"
  },
  "language_info": {
   "codemirror_mode": {
    "name": "ipython",
    "version": 3
   },
   "file_extension": ".py",
   "mimetype": "text/x-python",
   "name": "python",
   "nbconvert_exporter": "python",
   "pygments_lexer": "ipython3",
   "version": "3.8.6"
  }
 },
 "nbformat": 4,
 "nbformat_minor": 5
}
