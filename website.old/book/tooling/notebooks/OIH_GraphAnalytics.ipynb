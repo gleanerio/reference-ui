{
 "cells": [
  {
   "cell_type": "markdown",
   "id": "exciting-edmonton",
   "metadata": {},
   "source": [
    "# Graph Analytics Exploration\n",
    "\n",
    "* https://stackoverflow.com/questions/39274216/visualize-an-rdflib-graph-in-python\n",
    "* https://networkx.org/documentation/stable/reference/algorithms/link_analysis.html\n",
    "\n",
    "## Steps\n",
    "\n",
    "* Pull in the OIH RDF graph and load \n"
   ]
  },
  {
   "cell_type": "code",
   "execution_count": 15,
   "id": "unexpected-footwear",
   "metadata": {},
   "outputs": [
    {
     "name": "stdout",
     "output_type": "stream",
     "text": [
      "\u001b[31mERROR: pip's dependency resolver does not currently take into account all the packages that are installed. This behaviour is the source of the following dependency conflicts.\n",
      "boto3 1.17.17 requires botocore<1.21.0,>=1.20.17, but you have botocore 1.19.52 which is incompatible.\u001b[0m\n",
      "\u001b[31mERROR: pip's dependency resolver does not currently take into account all the packages that are installed. This behaviour is the source of the following dependency conflicts.\n",
      "aiobotocore 1.2.1 requires botocore<1.19.53,>=1.19.52, but you have botocore 1.20.24 which is incompatible.\u001b[0m\n"
     ]
    }
   ],
   "source": [
    "!pip -q install pydotplus\n",
    "!pip -q install graphviz\n",
    "# !pip -q install rdflib\n",
    "# !pip install -q -e git+https://github.com/RDFLib/rdflib.git#egg=rdflib\n",
    "!pip -q install pydotplus\n",
    "!pip -q install mimesis\n",
    "!pip -q install minio \n",
    "!pip -q install s3fs\n",
    "!pip -q install SPARQLWrapper\n",
    "!pip -q install boto3\n",
    "!pip -q install 'fsspec>=0.3.3'\n",
    "!pip -q install rdflib\n",
    "!pip -q install rdflib-jsonld\n",
    "!pip -q install PyLD==2.0.2"
   ]
  },
  {
   "cell_type": "code",
   "execution_count": 16,
   "id": "dress-kernel",
   "metadata": {},
   "outputs": [],
   "source": [
    "import rdflib\n",
    "from rdflib.extras.external_graph_libs import rdflib_to_networkx_multidigraph\n",
    "from rdflib.extras.external_graph_libs import rdflib_to_networkx_digraph\n",
    "import networkx as nx\n",
    "import matplotlib.pyplot as plt\n",
    "import gzip\n",
    "\n",
    "with gzip.open('oceanexperts_graph.nq.gz', 'rb') as f:\n",
    "    file_content = f.read()\n",
    "\n",
    "g = rdflib.Graph()\n",
    "g.parse(data = file_content, format=\"nquads\")\n",
    "\n",
    "G = rdflib_to_networkx_digraph(g)\n",
    "# G = rdflib_to_networkx_multidigraph(result)\n",
    "\n",
    "# # Plot Networkx instance of RDF Graph\n",
    "# pos = nx.spring_layout(G, scale=2)\n",
    "# edge_labels = nx.get_edge_attributes(G, 'r')b\n",
    "# #nx.draw_networkx_edge_labels(G, pos, labels=edge_labels)\n",
    "# nx.draw_networkx_edge_labels(G, pos)\n",
    "# nx.draw(G, with_labels=True)"
   ]
  },
  {
   "cell_type": "code",
   "execution_count": 17,
   "id": "aggressive-attraction",
   "metadata": {},
   "outputs": [],
   "source": [
    "pr = nx.pagerank(G,alpha=0.9)\n",
    "# for key, value in pr.items():\n",
    "#     print(key, ' : ', value)"
   ]
  },
  {
   "cell_type": "code",
   "execution_count": 18,
   "id": "sacred-reconstruction",
   "metadata": {},
   "outputs": [],
   "source": [
    "import pandas as pd\n",
    "prdf = pd.DataFrame.from_dict(pr, orient='index')"
   ]
  },
  {
   "cell_type": "code",
   "execution_count": 19,
   "id": "grave-shirt",
   "metadata": {},
   "outputs": [
    {
     "data": {
      "text/plain": [
       "0    float64\n",
       "dtype: object"
      ]
     },
     "execution_count": 19,
     "metadata": {},
     "output_type": "execute_result"
    }
   ],
   "source": [
    "prdf.dtypes"
   ]
  },
  {
   "cell_type": "code",
   "execution_count": 20,
   "id": "consistent-abuse",
   "metadata": {},
   "outputs": [
    {
     "data": {
      "text/html": [
       "<div>\n",
       "<style scoped>\n",
       "    .dataframe tbody tr th:only-of-type {\n",
       "        vertical-align: middle;\n",
       "    }\n",
       "\n",
       "    .dataframe tbody tr th {\n",
       "        vertical-align: top;\n",
       "    }\n",
       "\n",
       "    .dataframe thead th {\n",
       "        text-align: right;\n",
       "    }\n",
       "</style>\n",
       "<table border=\"1\" class=\"dataframe\">\n",
       "  <thead>\n",
       "    <tr style=\"text-align: right;\">\n",
       "      <th></th>\n",
       "      <th>0</th>\n",
       "    </tr>\n",
       "  </thead>\n",
       "  <tbody>\n",
       "    <tr>\n",
       "      <th>https://schema.org/Place</th>\n",
       "      <td>0.058482</td>\n",
       "    </tr>\n",
       "    <tr>\n",
       "      <th>https://schema.org/CourseInstance</th>\n",
       "      <td>0.018446</td>\n",
       "    </tr>\n",
       "    <tr>\n",
       "      <th>https://schema.org/Course</th>\n",
       "      <td>0.016571</td>\n",
       "    </tr>\n",
       "    <tr>\n",
       "      <th>UNESCO/IOC Project Office for IODE Wandelaarkaai 7 - Pakhuis 61 B-8400 Oostende Belgium</th>\n",
       "      <td>0.007863</td>\n",
       "    </tr>\n",
       "    <tr>\n",
       "      <th>Russia</th>\n",
       "      <td>0.007497</td>\n",
       "    </tr>\n",
       "    <tr>\n",
       "      <th>UNESCO/IOC Project Office for IODE Wandelaarkaai 7 8400 Oostende Belgium</th>\n",
       "      <td>0.006203</td>\n",
       "    </tr>\n",
       "    <tr>\n",
       "      <th>Wandelaarkaai 7 8400 Oostende Belgium</th>\n",
       "      <td>0.003761</td>\n",
       "    </tr>\n",
       "    <tr>\n",
       "      <th>Belgium</th>\n",
       "      <td>0.002931</td>\n",
       "    </tr>\n",
       "    <tr>\n",
       "      <th>RV Professor Logachev Russia</th>\n",
       "      <td>0.002624</td>\n",
       "    </tr>\n",
       "    <tr>\n",
       "      <th>UNESCO / IOC Project Office for IODE Wandelaarkaai 7 8400 Oostende Belgium</th>\n",
       "      <td>0.002360</td>\n",
       "    </tr>\n",
       "    <tr>\n",
       "      <th>IOC Science and Communication Centre on Harmful Algae, University of Copenhagen University of Copenhagen, Department of Biology Øster Farimagsgade 2D DK-1353 Copenhagen K Denmark</th>\n",
       "      <td>0.001830</td>\n",
       "    </tr>\n",
       "    <tr>\n",
       "      <th>Instituto de Investigaciones Marinas y Costeras José Benito Vives de AndreisCalle 25 No. 2-55, Playa Salguero, Rodadero  Santa Marta , Magdalena, Colombia</th>\n",
       "      <td>0.001812</td>\n",
       "    </tr>\n",
       "    <tr>\n",
       "      <th>&amp;quot;Ocean Valley&amp;quot;, Pragathi Nagar (BO), Nizampet (SO) Hyderabad 500 090 Telangana India</th>\n",
       "      <td>0.001812</td>\n",
       "    </tr>\n",
       "    <tr>\n",
       "      <th>Kenya Marine and Fisheries Research Institute, Headquater &amp;amp; Mombasa Station PO Box 81651 Mombasa 080100  Kenya</th>\n",
       "      <td>0.001548</td>\n",
       "    </tr>\n",
       "    <tr>\n",
       "      <th>Calle 25 No. 2-55, Playa Salguero, Rodadero  Santa Marta D.T.C.H., Magdalena, Colombia</th>\n",
       "      <td>0.001542</td>\n",
       "    </tr>\n",
       "    <tr>\n",
       "      <th>Australia</th>\n",
       "      <td>0.001271</td>\n",
       "    </tr>\n",
       "    <tr>\n",
       "      <th>Institute of Oceanography and Environment Universiti Malaysia Terengganu (UMT), Mengabang Telipot 21030 Kuala Terengganu Terengganu Malaysia</th>\n",
       "      <td>0.001271</td>\n",
       "    </tr>\n",
       "    <tr>\n",
       "      <th>, Colombia</th>\n",
       "      <td>0.001271</td>\n",
       "    </tr>\n",
       "    <tr>\n",
       "      <th>Wandelaarkaai 7 Oostende Belgium</th>\n",
       "      <td>0.001018</td>\n",
       "    </tr>\n",
       "    <tr>\n",
       "      <th>Qingdao China</th>\n",
       "      <td>0.001018</td>\n",
       "    </tr>\n",
       "  </tbody>\n",
       "</table>\n",
       "</div>"
      ],
      "text/plain": [
       "                                                           0\n",
       "https://schema.org/Place                            0.058482\n",
       "https://schema.org/CourseInstance                   0.018446\n",
       "https://schema.org/Course                           0.016571\n",
       " UNESCO/IOC Project Office for IODE Wandelaarka...  0.007863\n",
       " Russia                                             0.007497\n",
       " UNESCO/IOC Project Office for IODE Wandelaarka...  0.006203\n",
       " Wandelaarkaai 7 8400 Oostende Belgium              0.003761\n",
       " Belgium                                            0.002931\n",
       " RV Professor Logachev Russia                       0.002624\n",
       " UNESCO / IOC Project Office for IODE Wandelaar...  0.002360\n",
       " IOC Science and Communication Centre on Harmfu...  0.001830\n",
       " Instituto de Investigaciones Marinas y Costera...  0.001812\n",
       " &quot;Ocean Valley&quot;, Pragathi Nagar (BO),...  0.001812\n",
       " Kenya Marine and Fisheries Research Institute,...  0.001548\n",
       " Calle 25 No. 2-55, Playa Salguero, Rodadero  S...  0.001542\n",
       " Australia                                          0.001271\n",
       " Institute of Oceanography and Environment Univ...  0.001271\n",
       " , Colombia                                         0.001271\n",
       " Wandelaarkaai 7 Oostende Belgium                   0.001018\n",
       " Qingdao China                                      0.001018"
      ]
     },
     "execution_count": 20,
     "metadata": {},
     "output_type": "execute_result"
    }
   ],
   "source": [
    "prdf.sort_values(by=0,ascending=False, inplace=True,)\n",
    "prdf.head(20)"
   ]
  },
  {
   "cell_type": "code",
   "execution_count": 26,
   "id": "biblical-giant",
   "metadata": {},
   "outputs": [
    {
     "data": {
      "image/png": "[encoded data removed]",
      "text/plain": [
       "<Figure size 432x288 with 1 Axes>"
      ]
     },
     "metadata": {},
     "output_type": "display_data"
    }
   ],
   "source": [
    "nx.draw_circular(G, with_labels = False)\n",
    "plt.show() # display"
   ]
  },
  {
   "cell_type": "code",
   "execution_count": 24,
   "id": "processed-lunch",
   "metadata": {},
   "outputs": [
    {
     "data": {
      "text/plain": [
       "(array([3.499e+03, 0.000e+00, 0.000e+00, 0.000e+00, 0.000e+00, 2.000e+00,\n",
       "        0.000e+00, 0.000e+00, 0.000e+00, 1.000e+00]),\n",
       " array([  1. ,  86.5, 172. , 257.5, 343. , 428.5, 514. , 599.5, 685. ,\n",
       "        770.5, 856. ]),\n",
       " <BarContainer object of 10 artists>)"
      ]
     },
     "execution_count": 24,
     "metadata": {},
     "output_type": "execute_result"
    },
    {
     "data": {
      "image/png": "[encoded data removed]",
      "text/plain": [
       "<Figure size 432x288 with 1 Axes>"
      ]
     },
     "metadata": {
      "needs_background": "light"
     },
     "output_type": "display_data"
    }
   ],
   "source": [
    "plt.hist([v for k,v in nx.degree(G)])"
   ]
  },
  {
   "cell_type": "code",
   "execution_count": 25,
   "id": "extra-accident",
   "metadata": {},
   "outputs": [
    {
     "data": {
      "text/plain": [
       "(array([2200.,    0.,    0.,    0.,    0.,  858.,    0.,   20.,    0.,\n",
       "         424.]),\n",
       " array([0.00000000e+00, 3.26437344e-08, 6.52874689e-08, 9.79312033e-08,\n",
       "        1.30574938e-07, 1.63218672e-07, 1.95862407e-07, 2.28506141e-07,\n",
       "        2.61149876e-07, 2.93793610e-07, 3.26437344e-07]),\n",
       " <BarContainer object of 10 artists>)"
      ]
     },
     "execution_count": 25,
     "metadata": {},
     "output_type": "execute_result"
    },
    {
     "data": {
      "image/png": "[encoded data removed]",
      "text/plain": [
       "<Figure size 432x288 with 1 Axes>"
      ]
     },
     "metadata": {
      "needs_background": "light"
     },
     "output_type": "display_data"
    }
   ],
   "source": [
    "plt.hist(nx.centrality.betweenness_centrality(G).values())"
   ]
  },
  {
   "cell_type": "code",
   "execution_count": null,
   "id": "official-validity",
   "metadata": {},
   "outputs": [],
   "source": []
  }
 ],
 "metadata": {
  "kernelspec": {
   "display_name": "Python 3",
   "language": "python",
   "name": "python3"
  },
  "language_info": {
   "codemirror_mode": {
    "name": "ipython",
    "version": 3
   },
   "file_extension": ".py",
   "mimetype": "text/x-python",
   "name": "python",
   "nbconvert_exporter": "python",
   "pygments_lexer": "ipython3",
   "version": "3.8.6"
  }
 },
 "nbformat": 4,
 "nbformat_minor": 5
}